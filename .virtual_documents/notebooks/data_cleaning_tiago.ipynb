import pandas as pd
import os



df = pd.read_csv("depression_data.csv")


df



