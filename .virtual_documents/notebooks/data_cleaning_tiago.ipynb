import pandas as pd
import os



df = pd.read_csv("../data/raw/depression_data.csv")


df


df.info()


df.isnull().any()



