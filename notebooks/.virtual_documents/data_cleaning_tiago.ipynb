import pandas as pd
import os



df = pd.read_csv("/home/tiago/Documents/GitHub/Projects/week3_project/data/raw/depression_data.csv")


df



