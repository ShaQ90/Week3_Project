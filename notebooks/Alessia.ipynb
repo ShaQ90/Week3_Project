{
 "cells": [
  {
   "cell_type": "code",
   "execution_count": 24,
   "id": "2d295051-b9c4-48c1-90e3-212d1b0cecf7",
   "metadata": {},
   "outputs": [
    {
     "data": {
      "text/plain": [
       "Index(['Are you self-employed?',\n",
       "       'How many employees does your company or organization have?',\n",
       "       'Is your employer primarily a tech company/organization?',\n",
       "       'Is your primary role within your company related to tech/IT?',\n",
       "       'Does your employer provide mental health benefits as part of healthcare coverage?',\n",
       "       'Do you know the options for mental health care available under your employer-provided coverage?',\n",
       "       'Has your employer ever formally discussed mental health (for example, as part of a wellness campaign or other official communication)?',\n",
       "       'Does your employer offer resources to learn more about mental health concerns and options for seeking help?',\n",
       "       'Is your anonymity protected if you choose to take advantage of mental health or substance abuse treatment resources provided by your employer?',\n",
       "       'If a mental health issue prompted you to request a medical leave from work, asking for that leave would be:',\n",
       "       'Do you think that discussing a mental health disorder with your employer would have negative consequences?',\n",
       "       'Do you think that discussing a physical health issue with your employer would have negative consequences?',\n",
       "       'Would you feel comfortable discussing a mental health disorder with your coworkers?',\n",
       "       'Would you feel comfortable discussing a mental health disorder with your direct supervisor(s)?',\n",
       "       'Do you feel that your employer takes mental health as seriously as physical health?',\n",
       "       'Have you heard of or observed negative consequences for co-workers who have been open about mental health issues in your workplace?',\n",
       "       'Do you have medical coverage (private insurance or state-provided) which includes treatment of  mental health issues?',\n",
       "       'Do you know local or online resources to seek help for a mental health disorder?',\n",
       "       'If you have been diagnosed or treated for a mental health disorder, do you ever reveal this to clients or business contacts?',\n",
       "       'If you have revealed a mental health issue to a client or business contact, do you believe this has impacted you negatively?',\n",
       "       'If you have been diagnosed or treated for a mental health disorder, do you ever reveal this to coworkers or employees?',\n",
       "       'If you have revealed a mental health issue to a coworker or employee, do you believe this has impacted you negatively?',\n",
       "       'Do you believe your productivity is ever affected by a mental health issue?',\n",
       "       'If yes, what percentage of your work time (time performing primary or secondary job functions) is affected by a mental health issue?',\n",
       "       'Do you have previous employers?',\n",
       "       'Have your previous employers provided mental health benefits?',\n",
       "       'Were you aware of the options for mental health care provided by your previous employers?',\n",
       "       'Did your previous employers ever formally discuss mental health (as part of a wellness campaign or other official communication)?',\n",
       "       'Did your previous employers provide resources to learn more about mental health issues and how to seek help?',\n",
       "       'Was your anonymity protected if you chose to take advantage of mental health or substance abuse treatment resources with previous employers?',\n",
       "       'Do you think that discussing a mental health disorder with previous employers would have negative consequences?',\n",
       "       'Do you think that discussing a physical health issue with previous employers would have negative consequences?',\n",
       "       'Would you have been willing to discuss a mental health issue with your previous co-workers?',\n",
       "       'Would you have been willing to discuss a mental health issue with your direct supervisor(s)?',\n",
       "       'Did you feel that your previous employers took mental health as seriously as physical health?',\n",
       "       'Did you hear of or observe negative consequences for co-workers with mental health issues in your previous workplaces?',\n",
       "       'Would you be willing to bring up a physical health issue with a potential employer in an interview?',\n",
       "       'Why or why not?',\n",
       "       'Would you bring up a mental health issue with a potential employer in an interview?',\n",
       "       'Why or why not?.1',\n",
       "       'Do you feel that being identified as a person with a mental health issue would hurt your career?',\n",
       "       'Do you think that team members/co-workers would view you more negatively if they knew you suffered from a mental health issue?',\n",
       "       'How willing would you be to share with friends and family that you have a mental illness?',\n",
       "       'Have you observed or experienced an unsupportive or badly handled response to a mental health issue in your current or previous workplace?',\n",
       "       'Have your observations of how another individual who discussed a mental health disorder made you less likely to reveal a mental health issue yourself in your current workplace?',\n",
       "       'Do you have a family history of mental illness?',\n",
       "       'Have you had a mental health disorder in the past?',\n",
       "       'Do you currently have a mental health disorder?',\n",
       "       'If yes, what condition(s) have you been diagnosed with?',\n",
       "       'If maybe, what condition(s) do you believe you have?',\n",
       "       'Have you been diagnosed with a mental health condition by a medical professional?',\n",
       "       'If so, what condition(s) were you diagnosed with?',\n",
       "       'Have you ever sought treatment for a mental health issue from a mental health professional?',\n",
       "       'If you have a mental health issue, do you feel that it interferes with your work when being treated effectively?',\n",
       "       'If you have a mental health issue, do you feel that it interferes with your work when NOT being treated effectively?',\n",
       "       'What is your age?', 'What is your gender?',\n",
       "       'What country do you live in?',\n",
       "       'What US state or territory do you live in?',\n",
       "       'What country do you work in?',\n",
       "       'What US state or territory do you work in?',\n",
       "       'Which of the following best describes your work position?',\n",
       "       'Do you work remotely?'],\n",
       "      dtype='object')"
      ]
     },
     "execution_count": 24,
     "metadata": {},
     "output_type": "execute_result"
    }
   ],
   "source": [
    "import numpy as np\n",
    "import pandas as pd\n",
    "df_2016= pd.read_csv(\"survey_2016.csv\")\n",
    "\n",
    "df_2016.columns\n"
   ]
  },
  {
   "cell_type": "code",
   "execution_count": 25,
   "id": "fcc8b4a3-35a7-4f92-8f4a-d0605c25e9a5",
   "metadata": {},
   "outputs": [
    {
     "name": "stdout",
     "output_type": "stream",
     "text": [
      "Index(['self_employed', 'no_employees', 'tech_company', 'tech_role',\n",
      "       'benefits', 'care_options', 'wellness_program', 'seek_help',\n",
      "       'anonymity', 'medical_leave', 'mental_health_consequence',\n",
      "       'phys_health_consequence', 'coworkers', 'supervisor',\n",
      "       'mental_vs_physical', 'obs_consequence',\n",
      "       'Do you have medical coverage (private insurance or state-provided) which includes treatment of  mental health issues?',\n",
      "       'local_resources', 'reveal_to_clients', 'client_impact',\n",
      "       'reveal_to_coworkers', 'coworker_impact', 'productivity_impact',\n",
      "       'work_time_impact', 'previous_employers', 'previous_benefits',\n",
      "       'previous_care_options', 'previous_wellness_program',\n",
      "       'previous_seek_help', 'previous_anonymity',\n",
      "       'previous_mental_health_consequence',\n",
      "       'previous_phys_health_consequence', 'previous_coworkers',\n",
      "       'previous_supervisor', 'previous_mental_vs_physical',\n",
      "       'previous_obs_consequence', 'phys_health_interview',\n",
      "       'phys_health_interview_reason', 'mental_health_interview',\n",
      "       'mental_health_interview_reason', 'mental_health_career_impact',\n",
      "       'coworker_perception', 'share_with_family', 'observed_bad_response',\n",
      "       'observed_impact', 'family_history', 'past_mental_health_disorder',\n",
      "       'current_mental_health_disorder', 'current_conditions_diagnosed',\n",
      "       'suspected_conditions', 'diagnosed_conditions',\n",
      "       'diagnosed_conditions_detail', 'sought_treatment',\n",
      "       'work_interfere_treated', 'work_interfere_untreated', 'age', 'sex',\n",
      "       'country', 'state', 'work_country', 'work_state', 'work_position',\n",
      "       'remote_work'],\n",
      "      dtype='object')\n"
     ]
    }
   ],
   "source": [
    "\n",
    "# Dictionary mapping old column names to new column names\n",
    "column_mapping = {\n",
    "    'Are you self-employed?': 'self_employed',\n",
    "    'How many employees does your company or organization have?': 'no_employees',\n",
    "    'Is your employer primarily a tech company/organization?': 'tech_company',\n",
    "    'Is your primary role within your company related to tech/IT?': 'tech_role',\n",
    "    'Does your employer provide mental health benefits as part of healthcare coverage?': 'benefits',\n",
    "    'Do you know the options for mental health care available under your employer-provided coverage?': 'care_options',\n",
    "    'Has your employer ever formally discussed mental health (for example, as part of a wellness campaign or other official communication)?': 'wellness_program',\n",
    "    'Does your employer offer resources to learn more about mental health concerns and options for seeking help?': 'seek_help',\n",
    "    'Is your anonymity protected if you choose to take advantage of mental health or substance abuse treatment resources provided by your employer?': 'anonymity',\n",
    "    'If a mental health issue prompted you to request a medical leave from work, asking for that leave would be:': 'medical_leave',\n",
    "    'Do you think that discussing a mental health disorder with your employer would have negative consequences?': 'mental_health_consequence',\n",
    "    'Do you think that discussing a physical health issue with your employer would have negative consequences?': 'phys_health_consequence',\n",
    "    'Would you feel comfortable discussing a mental health disorder with your coworkers?': 'coworkers',\n",
    "    'Would you feel comfortable discussing a mental health disorder with your direct supervisor(s)?': 'supervisor',\n",
    "    'Do you feel that your employer takes mental health as seriously as physical health?': 'mental_vs_physical',\n",
    "    'Have you heard of or observed negative consequences for co-workers who have been open about mental health issues in your workplace?': 'obs_consequence',\n",
    "    'Do you have medical coverage (private insurance or state-provided) which includes treatment of  mental health issues?': 'mental_health_coverage',\n",
    "    'Do you know local or online resources to seek help for a mental health disorder?': 'local_resources',\n",
    "    'If you have been diagnosed or treated for a mental health disorder, do you ever reveal this to clients or business contacts?': 'reveal_to_clients',\n",
    "    'If you have revealed a mental health issue to a client or business contact, do you believe this has impacted you negatively?': 'client_impact',\n",
    "    'If you have been diagnosed or treated for a mental health disorder, do you ever reveal this to coworkers or employees?': 'reveal_to_coworkers',\n",
    "    'If you have revealed a mental health issue to a coworker or employee, do you believe this has impacted you negatively?': 'coworker_impact',\n",
    "    'Do you believe your productivity is ever affected by a mental health issue?': 'productivity_impact',\n",
    "    'If yes, what percentage of your work time (time performing primary or secondary job functions) is affected by a mental health issue?': 'work_time_impact',\n",
    "    'Do you have previous employers?': 'previous_employers',\n",
    "    'Have your previous employers provided mental health benefits?': 'previous_benefits',\n",
    "    'Were you aware of the options for mental health care provided by your previous employers?': 'previous_care_options',\n",
    "    'Did your previous employers ever formally discuss mental health (as part of a wellness campaign or other official communication)?': 'previous_wellness_program',\n",
    "    'Did your previous employers provide resources to learn more about mental health issues and how to seek help?': 'previous_seek_help',\n",
    "    'Was your anonymity protected if you chose to take advantage of mental health or substance abuse treatment resources with previous employers?': 'previous_anonymity',\n",
    "    'Do you think that discussing a mental health disorder with previous employers would have negative consequences?': 'previous_mental_health_consequence',\n",
    "    'Do you think that discussing a physical health issue with previous employers would have negative consequences?': 'previous_phys_health_consequence',\n",
    "    'Would you have been willing to discuss a mental health issue with your previous co-workers?': 'previous_coworkers',\n",
    "    'Would you have been willing to discuss a mental health issue with your direct supervisor(s)?': 'previous_supervisor',\n",
    "    'Did you feel that your previous employers took mental health as seriously as physical health?': 'previous_mental_vs_physical',\n",
    "    'Did you hear of or observe negative consequences for co-workers with mental health issues in your previous workplaces?': 'previous_obs_consequence',\n",
    "    'Would you be willing to bring up a physical health issue with a potential employer in an interview?': 'phys_health_interview',\n",
    "    'Why or why not?': 'phys_health_interview_reason',\n",
    "    'Would you bring up a mental health issue with a potential employer in an interview?': 'mental_health_interview',\n",
    "    'Why or why not?.1': 'mental_health_interview_reason',\n",
    "    'Do you feel that being identified as a person with a mental health issue would hurt your career?': 'mental_health_career_impact',\n",
    "    'Do you think that team members/co-workers would view you more negatively if they knew you suffered from a mental health issue?': 'coworker_perception',\n",
    "    'How willing would you be to share with friends and family that you have a mental illness?': 'share_with_family',\n",
    "    'Have you observed or experienced an unsupportive or badly handled response to a mental health issue in your current or previous workplace?': 'observed_bad_response',\n",
    "    'Have your observations of how another individual who discussed a mental health disorder made you less likely to reveal a mental health issue yourself in your current workplace?': 'observed_impact',\n",
    "    'Do you have a family history of mental illness?': 'family_history',\n",
    "    'Have you had a mental health disorder in the past?': 'past_mental_health_disorder',\n",
    "    'Do you currently have a mental health disorder?': 'current_mental_health_disorder',\n",
    "    'If yes, what condition(s) have you been diagnosed with?': 'current_conditions_diagnosed',\n",
    "    'If maybe, what condition(s) do you believe you have?': 'suspected_conditions',\n",
    "    'Have you been diagnosed with a mental health condition by a medical professional?': 'diagnosed_conditions',\n",
    "    'If so, what condition(s) were you diagnosed with?': 'diagnosed_conditions_detail',\n",
    "    'Have you ever sought treatment for a mental health issue from a mental health professional?': 'sought_treatment',\n",
    "    'If you have a mental health issue, do you feel that it interferes with your work when being treated effectively?': 'work_interfere_treated',\n",
    "    'If you have a mental health issue, do you feel that it interferes with your work when NOT being treated effectively?': 'work_interfere_untreated',\n",
    "    'What is your age?': 'age',\n",
    "    'What is your gender?': 'sex',\n",
    "    'What country do you live in?': 'country',\n",
    "    'What US state or territory do you live in?': 'state',\n",
    "    'What country do you work in?': 'work_country',\n",
    "    'What US state or territory do you work in?': 'work_state',\n",
    "    'Which of the following best describes your work position?': 'work_position',\n",
    "    'Do you work remotely?': 'remote_work'\n",
    "}\n",
    "\n",
    "# Renaming the columns\n",
    "df_2016 = df_2016.rename(columns=column_mapping)\n",
    "\n",
    "# Now you can check the new column names\n",
    "print(df_2016.columns)\n"
   ]
  },
  {
   "cell_type": "code",
   "execution_count": 26,
   "id": "ca86a577-3355-4933-ad2e-bb62f91815bd",
   "metadata": {},
   "outputs": [
    {
     "data": {
      "text/plain": [
       "self_employed       0\n",
       "no_employees      287\n",
       "tech_company      287\n",
       "tech_role        1170\n",
       "benefits          287\n",
       "                 ... \n",
       "state             593\n",
       "work_country        0\n",
       "work_state        582\n",
       "work_position       0\n",
       "remote_work         0\n",
       "Length: 63, dtype: int64"
      ]
     },
     "execution_count": 26,
     "metadata": {},
     "output_type": "execute_result"
    }
   ],
   "source": [
    "df_2016.isna().sum()"
   ]
  },
  {
   "cell_type": "code",
   "execution_count": 27,
   "id": "3757bcdc-4ae1-4543-8e75-62a1d340ef07",
   "metadata": {},
   "outputs": [],
   "source": [
    "# work on: Age, Gender, Country, benefits, wellness_program, past_mental_health_disorder', current_mental_health_disorder', 'current_conditions_diagnosed', no_employees\n",
    "#questions: % of females and males with mh disorder (present + past), most frequent country, what age?\n",
    "# How it relates to the company size? more cases in bigger companies?\n",
    "# do company offer treatment and benefits? Less cases?"
   ]
  },
  {
   "cell_type": "code",
   "execution_count": 28,
   "id": "c07c3138-836d-4084-a757-67ab0c0cd918",
   "metadata": {},
   "outputs": [
    {
     "data": {
      "text/plain": [
       "country\n",
       "United States of America    840\n",
       "United Kingdom              180\n",
       "Canada                       78\n",
       "Germany                      58\n",
       "Netherlands                  48\n",
       "Australia                    35\n",
       "Sweden                       19\n",
       "France                       16\n",
       "Ireland                      15\n",
       "Switzerland                  10\n",
       "Brazil                       10\n",
       "Russia                        9\n",
       "India                         9\n",
       "New Zealand                   9\n",
       "Bulgaria                      7\n",
       "Finland                       7\n",
       "Denmark                       7\n",
       "Belgium                       5\n",
       "Italy                         5\n",
       "Poland                        4\n",
       "Spain                         4\n",
       "Austria                       4\n",
       "South Africa                  4\n",
       "Romania                       4\n",
       "Chile                         3\n",
       "Czech Republic                3\n",
       "Pakistan                      3\n",
       "Norway                        3\n",
       "Lithuania                     2\n",
       "Japan                         2\n",
       "Mexico                        2\n",
       "Afghanistan                   2\n",
       "Colombia                      2\n",
       "Other                         2\n",
       "Israel                        2\n",
       "Estonia                       2\n",
       "Bosnia and Herzegovina        2\n",
       "Venezuela                     1\n",
       "Algeria                       1\n",
       "Bangladesh                    1\n",
       "Vietnam                       1\n",
       "Costa Rica                    1\n",
       "Argentina                     1\n",
       "Slovakia                      1\n",
       "Brunei                        1\n",
       "Hungary                       1\n",
       "Iran                          1\n",
       "Greece                        1\n",
       "Ecuador                       1\n",
       "China                         1\n",
       "Guatemala                     1\n",
       "Taiwan                        1\n",
       "Serbia                        1\n",
       "Name: count, dtype: int64"
      ]
     },
     "execution_count": 28,
     "metadata": {},
     "output_type": "execute_result"
    }
   ],
   "source": [
    "df_2016[\"country\"].value_counts()"
   ]
  },
  {
   "cell_type": "code",
   "execution_count": 29,
   "id": "d0f6e967-7756-40a5-8270-916fe39e2cdd",
   "metadata": {},
   "outputs": [
    {
     "data": {
      "text/plain": [
       "np.int64(0)"
      ]
     },
     "execution_count": 29,
     "metadata": {},
     "output_type": "execute_result"
    }
   ],
   "source": [
    "df_2016.country.isna().sum()\n",
    "\n",
    "#Columns is clean from Nan and can be used for analysis"
   ]
  },
  {
   "cell_type": "code",
   "execution_count": 30,
   "id": "e4cd7536-e269-4254-ab45-0d2c76e410c3",
   "metadata": {},
   "outputs": [
    {
     "name": "stdout",
     "output_type": "stream",
     "text": [
      "<pycountry.ExistingCountries object at 0x11ac8aab0>\n"
     ]
    }
   ],
   "source": [
    "import pycountry\n",
    "print(pycountry.countries)"
   ]
  },
  {
   "cell_type": "code",
   "execution_count": 31,
   "id": "32cfcfdd-1d44-48c6-a413-12ee71fc530d",
   "metadata": {},
   "outputs": [
    {
     "name": "stdout",
     "output_type": "stream",
     "text": [
      "['Albania', 'Andorra', 'Armenia', 'Austria', 'Azerbaijan', 'Belgium', 'Bulgaria', 'Bosnia and Herzegovina', 'Belarus', 'Switzerland', 'Cyprus', 'Czechia', 'Germany', 'Denmark', 'Spain', 'Estonia', 'Finland', 'France', 'United Kingdom', 'Georgia', 'Greece', 'Croatia', 'Hungary', 'Ireland', 'Iceland', 'Italy', 'Kazakhstan', 'Liechtenstein', 'Lithuania', 'Luxembourg', 'Latvia', 'Monaco', 'Moldova, Republic of', 'North Macedonia', 'Malta', 'Montenegro', 'Netherlands', 'Norway', 'Poland', 'Portugal', 'Romania', 'Russian Federation', 'San Marino', 'Serbia', 'Slovakia', 'Slovenia', 'Sweden', 'Ukraine', 'Holy See (Vatican City State)']\n"
     ]
    },
    {
     "data": {
      "text/plain": [
       "country\n",
       "United States of America    840\n",
       "Europe                      406\n",
       "Canada                       78\n",
       "Australia                    35\n",
       "Brazil                       10\n",
       "Russia                        9\n",
       "India                         9\n",
       "New Zealand                   9\n",
       "South Africa                  4\n",
       "Czech Republic                3\n",
       "Chile                         3\n",
       "Pakistan                      3\n",
       "Colombia                      2\n",
       "Mexico                        2\n",
       "Other                         2\n",
       "Israel                        2\n",
       "Japan                         2\n",
       "Afghanistan                   2\n",
       "Vietnam                       1\n",
       "Costa Rica                    1\n",
       "Argentina                     1\n",
       "Venezuela                     1\n",
       "Brunei                        1\n",
       "Algeria                       1\n",
       "Bangladesh                    1\n",
       "Iran                          1\n",
       "Ecuador                       1\n",
       "China                         1\n",
       "Guatemala                     1\n",
       "Taiwan                        1\n",
       "Name: count, dtype: int64"
      ]
     },
     "execution_count": 31,
     "metadata": {},
     "output_type": "execute_result"
    }
   ],
   "source": [
    "import pycountry\n",
    "\n",
    "# List of European countries\n",
    "european_countries = [\n",
    "    country.name for country in pycountry.countries\n",
    "    if country.alpha_2 in {\n",
    "        'AL', 'AD', 'AM', 'AT', 'AZ', 'BY', 'BE', 'BA', 'BG', 'HR', 'CY', 'CZ', 'DK', 'EE', 'FI', 'FR', 'GE', 'DE', \n",
    "        'GR', 'HU', 'IS', 'IE', 'IT', 'KZ', 'XK', 'LV', 'LI', 'LT', 'LU', 'MT', 'MD', 'MC', 'ME', 'NL', 'MK', 'NO', \n",
    "        'PL', 'PT', 'RO', 'RU', 'SM', 'RS', 'SK', 'SI', 'ES', 'SE', 'CH', 'UA', 'GB', 'VA'\n",
    "    }\n",
    "]\n",
    "\n",
    "print(european_countries)\n",
    "\n",
    "def grouped_countries(country):\n",
    "    if country in european_countries:\n",
    "        return \"Europe\"\n",
    "    else:\n",
    "        return country\n",
    "\n",
    "df_2016[\"country\"] = df_2016[\"country\"].apply(grouped_countries)\n",
    "\n",
    "df_2016[\"country\"].value_counts()\n",
    "\n",
    "#European countries grouped into Europe"
   ]
  },
  {
   "cell_type": "code",
   "execution_count": 32,
   "id": "03441391-31e7-4160-aa7d-7f89c682ce0f",
   "metadata": {},
   "outputs": [
    {
     "data": {
      "text/plain": [
       "np.int64(3)"
      ]
     },
     "execution_count": 32,
     "metadata": {},
     "output_type": "execute_result"
    }
   ],
   "source": [
    "df_2016.sex.isna().sum()\n",
    "# columns has 3 Nan: drop them"
   ]
  },
  {
   "cell_type": "code",
   "execution_count": 33,
   "id": "f863ec10-deb8-4121-a946-51a48662b56d",
   "metadata": {},
   "outputs": [
    {
     "data": {
      "text/plain": [
       "np.int64(0)"
      ]
     },
     "execution_count": 33,
     "metadata": {},
     "output_type": "execute_result"
    }
   ],
   "source": [
    "df_2016.dropna(subset = [\"sex\"], inplace = True)\n",
    "df_2016.sex.isna().sum()\n",
    "\n",
    "#Nan removed from sex"
   ]
  },
  {
   "cell_type": "code",
   "execution_count": 34,
   "id": "cd7832f4-ccb5-44fa-855d-1723627e8001",
   "metadata": {},
   "outputs": [
    {
     "data": {
      "text/plain": [
       "array(['Male', 'male', 'Male ', 'Female', 'M', 'female', 'm',\n",
       "       'I identify as female.', 'female ', 'Bigender', 'non-binary',\n",
       "       'Female assigned at birth ', 'F', 'Woman', 'man', 'fm', 'f',\n",
       "       'Cis female ', 'Transitioned, M2F', 'Genderfluid (born female)',\n",
       "       'Other/Transfeminine', 'Female or Multi-Gender Femme', 'Female ',\n",
       "       'woman', 'female/woman', 'Cis male', 'Male.', 'Androgynous',\n",
       "       'male 9:1 female, roughly', 'Male (cis)', 'Other', 'nb masculine',\n",
       "       'Cisgender Female', 'Man', 'Sex is male', 'none of your business',\n",
       "       'genderqueer', 'cis male', 'Human', 'Genderfluid', 'Enby', 'Malr',\n",
       "       'genderqueer woman', 'mtf', 'Queer', 'Agender', 'Dude', 'Fluid',\n",
       "       \"I'm a man why didn't you make this a drop down question. You should of asked sex? And I would of answered yes please. Seriously how much text can this take? \",\n",
       "       'mail', 'M|', 'Male/genderqueer', 'fem', 'Nonbinary', 'male ',\n",
       "       'human', 'Female (props for making this a freeform field, though)',\n",
       "       ' Female', 'Unicorn', 'Cis Male', 'Male (trans, FtM)', 'Cis-woman',\n",
       "       'Genderqueer', 'cisdude', 'Genderflux demi-girl',\n",
       "       'female-bodied; no feelings about gender', 'cis man', 'AFAB',\n",
       "       'Transgender woman', 'MALE'], dtype=object)"
      ]
     },
     "execution_count": 34,
     "metadata": {},
     "output_type": "execute_result"
    }
   ],
   "source": [
    "df_2016[\"sex\"].unique()"
   ]
  },
  {
   "cell_type": "code",
   "execution_count": 35,
   "id": "c668cb83-7798-4f59-a888-dcfd4ccdc920",
   "metadata": {},
   "outputs": [
    {
     "data": {
      "text/plain": [
       "np.int64(70)"
      ]
     },
     "execution_count": 35,
     "metadata": {},
     "output_type": "execute_result"
    }
   ],
   "source": [
    "#Assigning F or M values to sex column:\n",
    "\n",
    "stand_gender = {\"MALE\":\"M\", \"Male\":\"M\", \"M|\":\"M\", \"Dude\":\"M\", \"m\":\"M\", \"male \":\"M\", \"M\":\"M\", \"male\":\"M\", \"Make\":\"M\", \"cisdude\":\"M\", \"maile\": \"M\", \"Mal\":\"M\", \"Malr\":\"M\", \"Male.\":\"M\", \"Mail\":\"M\", \"cis man\":\"M\", \"cis male\":\"M\", \"Cis Man\":\"M\", \"msale\":\"M\", \"Androgyne\":\"M\", \"Male-ish\":\"M\", \"Man\":\"M\", \"Male (CIS)\":\"M\", \"Cis Male\":\"M\", \"Sex is male\":\"M\",\n",
    "                \"F\":\"F\", \"female\":\"F\", \"Female\":\"F\", \"f\":\"F\", \"female/woman\":\"F\", \"fem\":\"F\", \"Femal\":\"F\", \"femail\":\"F\", \"I identify as female\":\"F\", \"Woman\":\"F\", \"Cisgender Female\":\"F\",\"cis-female/femme\":\"F\",\"Femake\":\"F\", \"woman\":\"F\", \"Cis-woman\":\"F\", \"Cis Female\":\"F\", \"Female assigned at birth\": \"F\", \"fm\":\"F\", \"fem\":\"F\", \"Female (props for making this a freeform field, though)\":\"F\"}\n",
    "\n",
    "df_2016[\"sex\"] = df_2016[\"sex\"].map(stand_gender).str.strip().str.upper()\n",
    "\n",
    "df_2016[\"sex\"].unique()\n",
    "df_2016.sex.isna().sum()\n",
    "\n",
    "#This generated 70 Nan: will drop them"
   ]
  },
  {
   "cell_type": "code",
   "execution_count": 36,
   "id": "5880135b-8355-4ddc-b668-ad47052cd6fe",
   "metadata": {},
   "outputs": [
    {
     "data": {
      "text/plain": [
       "np.int64(0)"
      ]
     },
     "execution_count": 36,
     "metadata": {},
     "output_type": "execute_result"
    }
   ],
   "source": [
    "df_2016.dropna(subset = [\"sex\"], inplace = True)\n",
    "df_2016.sex.isna().sum()\n",
    "#NAN removed"
   ]
  },
  {
   "cell_type": "code",
   "execution_count": 37,
   "id": "6064167d-2d04-4aaa-bcb0-490d0c9dc057",
   "metadata": {},
   "outputs": [
    {
     "data": {
      "text/plain": [
       "sex\n",
       "M    1038\n",
       "F     322\n",
       "Name: count, dtype: int64"
      ]
     },
     "execution_count": 37,
     "metadata": {},
     "output_type": "execute_result"
    }
   ],
   "source": [
    "df_2016[\"sex\"].value_counts()"
   ]
  },
  {
   "cell_type": "code",
   "execution_count": 38,
   "id": "90b4fbe0-d206-44d8-9991-da9c09867d7b",
   "metadata": {},
   "outputs": [
    {
     "data": {
      "text/plain": [
       "np.int64(0)"
      ]
     },
     "execution_count": 38,
     "metadata": {},
     "output_type": "execute_result"
    }
   ],
   "source": [
    "df_2016.age.isna().sum()\n",
    "#No NaN here"
   ]
  },
  {
   "cell_type": "code",
   "execution_count": 39,
   "id": "f5390d53-4ad7-4030-8405-fed1904fcbcd",
   "metadata": {},
   "outputs": [
    {
     "data": {
      "text/plain": [
       "array([ 39,  29,  43,  42,  30,  37,  44,  28,  34,  35,  52,  31,  26,\n",
       "        25,  33,  38,  27,  36,  40,  41,  32,  45,  46,  19,  21,  24,\n",
       "        17,  23,  22,  51,  48,  55,  50,  49,  20,  54,  47,  56,  57,\n",
       "        63,  61, 323,  62,  53,  58,   3,  66,  59,  15,  65,  70])"
      ]
     },
     "execution_count": 39,
     "metadata": {},
     "output_type": "execute_result"
    }
   ],
   "source": [
    "df_2016.age.unique()\n",
    "#some values make no sense: 323, 3, 15: will drop them"
   ]
  },
  {
   "cell_type": "code",
   "execution_count": 40,
   "id": "a6d72da9-cd7d-4554-b118-45bcc9f9d191",
   "metadata": {},
   "outputs": [
    {
     "data": {
      "text/plain": [
       "array([39, 29, 43, 42, 30, 37, 44, 28, 34, 35, 52, 31, 26, 25, 33, 38, 27,\n",
       "       36, 40, 41, 32, 45, 46, 19, 21, 24, 17, 23, 22, 51, 48, 55, 50, 49,\n",
       "       20, 54, 47, 56, 57, 63, 61, 62, 53, 58, 66, 59, 65, 70])"
      ]
     },
     "execution_count": 40,
     "metadata": {},
     "output_type": "execute_result"
    }
   ],
   "source": [
    "df_2016 = df_2016[(df_2016['age'] >= 17) & (df_2016['age'] <= 70)]\n",
    "df_2016.age.unique()\n",
    "\n",
    "#Column is clean"
   ]
  },
  {
   "cell_type": "code",
   "execution_count": 41,
   "id": "4fbda0d7-69e4-4d70-9727-fbca1200ee15",
   "metadata": {},
   "outputs": [
    {
     "data": {
      "text/plain": [
       "array(['26-100', '6-25', nan, 'More than 1000', '100-500', '500-1000',\n",
       "       '1-5'], dtype=object)"
      ]
     },
     "execution_count": 41,
     "metadata": {},
     "output_type": "execute_result"
    }
   ],
   "source": [
    "df_2016[\"no_employees\"].unique()"
   ]
  },
  {
   "cell_type": "code",
   "execution_count": 42,
   "id": "4b0febe2-8f9c-4a65-b872-8ba93c4f835b",
   "metadata": {},
   "outputs": [
    {
     "data": {
      "text/plain": [
       "no_employees\n",
       "26-100            279\n",
       "More than 1000    243\n",
       "100-500           235\n",
       "6-25              199\n",
       "500-1000           76\n",
       "1-5                57\n",
       "Name: count, dtype: int64"
      ]
     },
     "execution_count": 42,
     "metadata": {},
     "output_type": "execute_result"
    }
   ],
   "source": [
    "df_2016['no_employees'].value_counts()"
   ]
  },
  {
   "cell_type": "code",
   "execution_count": 43,
   "id": "2bf8dd1e-fe5f-440e-84f4-cfbf59eecbba",
   "metadata": {},
   "outputs": [
    {
     "data": {
      "text/plain": [
       "np.int64(268)"
      ]
     },
     "execution_count": 43,
     "metadata": {},
     "output_type": "execute_result"
    }
   ],
   "source": [
    "df_2016[\"no_employees\"].isna().sum()"
   ]
  },
  {
   "cell_type": "code",
   "execution_count": 44,
   "id": "09b5f315-ecf3-4d42-a194-5482150fd029",
   "metadata": {},
   "outputs": [
    {
     "name": "stdout",
     "output_type": "stream",
     "text": [
      "['26-100' '6-25' '100-500' 'More than 1000' '500-1000' '1-5']\n",
      "0\n"
     ]
    }
   ],
   "source": [
    "# Distribute the Nan into the different categories without affecting their proportions:\n",
    "\n",
    "categories = df_2016['no_employees'].dropna().value_counts(normalize=True)\n",
    "\n",
    "num_missing = df_2016['no_employees'].isna().sum()\n",
    "\n",
    "# Generate missing values based on the proportions\n",
    "missing_values = np.random.choice(\n",
    "    categories.index,\n",
    "    size=num_missing,\n",
    "    p=categories.values\n",
    ")\n",
    "\n",
    "# Replace NaN values directly in the DataFrame\n",
    "df_2016.loc[df_2016['no_employees'].isna(), 'no_employees'] = missing_values\n",
    "\n",
    "# Check if there are any NaNs left\n",
    "print(df_2016['no_employees'].unique())  # Should show no NaNs\n",
    "print(df_2016['no_employees'].isna().sum())  # Should be 0\n"
   ]
  },
  {
   "cell_type": "code",
   "execution_count": 45,
   "id": "4cd84ea7-31e5-457d-9ac6-32f1c3105adc",
   "metadata": {},
   "outputs": [
    {
     "data": {
      "text/plain": [
       "no_employees\n",
       "26-100            351\n",
       "More than 1000    307\n",
       "100-500           291\n",
       "6-25              248\n",
       "500-1000           90\n",
       "1-5                70\n",
       "Name: count, dtype: int64"
      ]
     },
     "execution_count": 45,
     "metadata": {},
     "output_type": "execute_result"
    }
   ],
   "source": [
    "df_2016['no_employees'].value_counts()"
   ]
  },
  {
   "cell_type": "code",
   "execution_count": 52,
   "id": "d8e13fa9-6946-44f0-9fec-881b379f9bd0",
   "metadata": {},
   "outputs": [
    {
     "data": {
      "text/plain": [
       "current_mental_health_disorder\n",
       "Yes      532\n",
       "No       514\n",
       "Maybe    311\n",
       "Name: count, dtype: int64"
      ]
     },
     "execution_count": 52,
     "metadata": {},
     "output_type": "execute_result"
    }
   ],
   "source": [
    "df_2016[\"current_mental_health_disorder\"].value_counts()"
   ]
  },
  {
   "cell_type": "code",
   "execution_count": 53,
   "id": "96b3cd36-8099-43e3-8e40-de69c4cbd374",
   "metadata": {},
   "outputs": [
    {
     "data": {
      "text/plain": [
       "past_mental_health_disorder\n",
       "Yes      683\n",
       "No       438\n",
       "Maybe    236\n",
       "Name: count, dtype: int64"
      ]
     },
     "execution_count": 53,
     "metadata": {},
     "output_type": "execute_result"
    }
   ],
   "source": [
    "df_2016[\"past_mental_health_disorder\"].value_counts()"
   ]
  },
  {
   "cell_type": "code",
   "execution_count": 56,
   "id": "9201d0de-9361-47d5-818d-41e2b4b7035b",
   "metadata": {},
   "outputs": [
    {
     "data": {
      "text/plain": [
       "array(['Anxiety Disorder (Generalized, Social, Phobia, etc)',\n",
       "       'Anxiety Disorder (Generalized, Social, Phobia, etc)|Mood Disorder (Depression, Bipolar Disorder, etc)',\n",
       "       nan,\n",
       "       'Anxiety Disorder (Generalized, Social, Phobia, etc)|Substance Use Disorder',\n",
       "       'Mood Disorder (Depression, Bipolar Disorder, etc)',\n",
       "       'Anxiety Disorder (Generalized, Social, Phobia, etc)|Obsessive-Compulsive Disorder',\n",
       "       'Mood Disorder (Depression, Bipolar Disorder, etc)|Attention Deficit Hyperactivity Disorder|Post-traumatic Stress Disorder',\n",
       "       'Anxiety Disorder (Generalized, Social, Phobia, etc)|Mood Disorder (Depression, Bipolar Disorder, etc)|Substance Use Disorder|Addictive Disorder',\n",
       "       'Anxiety Disorder (Generalized, Social, Phobia, etc)|Attention Deficit Hyperactivity Disorder',\n",
       "       'Mood Disorder (Depression, Bipolar Disorder, etc)|Attention Deficit Hyperactivity Disorder',\n",
       "       'Anxiety Disorder (Generalized, Social, Phobia, etc)|Mood Disorder (Depression, Bipolar Disorder, etc)|Attention Deficit Hyperactivity Disorder',\n",
       "       'Mood Disorder (Depression, Bipolar Disorder, etc)|Eating Disorder (Anorexia, Bulimia, etc)|Obsessive-Compulsive Disorder',\n",
       "       'Attention Deficit Hyperactivity Disorder|PDD-NOS (see above)',\n",
       "       'Seasonal Affective Disorder', 'Burn out',\n",
       "       'Anxiety Disorder (Generalized, Social, Phobia, etc)|Mood Disorder (Depression, Bipolar Disorder, etc)|Obsessive-Compulsive Disorder',\n",
       "       'PDD-NOS',\n",
       "       'Mood Disorder (Depression, Bipolar Disorder, etc)|Suicidal Ideation',\n",
       "       'Attention Deficit Hyperactivity Disorder', 'Depression',\n",
       "       'Anxiety Disorder (Generalized, Social, Phobia, etc)|Mood Disorder (Depression, Bipolar Disorder, etc)|Attention Deficit Hyperactivity Disorder|Substance Use Disorder',\n",
       "       'Anxiety Disorder (Generalized, Social, Phobia, etc)|Mood Disorder (Depression, Bipolar Disorder, etc)|Personality Disorder (Borderline, Antisocial, Paranoid, etc)|Stress Response Syndromes',\n",
       "       'Anxiety Disorder (Generalized, Social, Phobia, etc)|Mood Disorder (Depression, Bipolar Disorder, etc)|Attention Deficit Hyperactivity Disorder|Personality Disorder (Borderline, Antisocial, Paranoid, etc)',\n",
       "       'Substance Use Disorder',\n",
       "       'Addictive Disorder|Substance Use Disorder|Anxiety Disorder (Generalized, Social, Phobia, etc)|Mood Disorder (Depression, Bipolar Disorder, etc)|Personality Disorder (Borderline, Antisocial, Paranoid, etc)|Post-traumatic Stress Disorder',\n",
       "       'Anxiety Disorder (Generalized, Social, Phobia, etc)|Stress Response Syndromes',\n",
       "       'Stress Response Syndromes',\n",
       "       'Anxiety Disorder (Generalized, Social, Phobia, etc)|Mood Disorder (Depression, Bipolar Disorder, etc)|Post-traumatic Stress Disorder',\n",
       "       'Mood Disorder (Depression, Bipolar Disorder, etc)|Personality Disorder (Borderline, Antisocial, Paranoid, etc)|Post-traumatic Stress Disorder',\n",
       "       'Mood Disorder (Depression, Bipolar Disorder, etc)|Eating Disorder (Anorexia, Bulimia, etc)|Attention Deficit Hyperactivity Disorder|Personality Disorder (Borderline, Antisocial, Paranoid, etc)|Dissociative Disorder',\n",
       "       'Anxiety Disorder (Generalized, Social, Phobia, etc)|Mood Disorder (Depression, Bipolar Disorder, etc)|Eating Disorder (Anorexia, Bulimia, etc)|Personality Disorder (Borderline, Antisocial, Paranoid, etc)|Post-traumatic Stress Disorder',\n",
       "       'Anxiety Disorder (Generalized, Social, Phobia, etc)|Mood Disorder (Depression, Bipolar Disorder, etc)|Substance Use Disorder',\n",
       "       'Anxiety Disorder (Generalized, Social, Phobia, etc)|Post-traumatic Stress Disorder',\n",
       "       'Anxiety Disorder (Generalized, Social, Phobia, etc)|Mood Disorder (Depression, Bipolar Disorder, etc)|Attention Deficit Hyperactivity Disorder|Post-traumatic Stress Disorder|Substance Use Disorder',\n",
       "       'Anxiety Disorder (Generalized, Social, Phobia, etc)|Mood Disorder (Depression, Bipolar Disorder, etc)|Eating Disorder (Anorexia, Bulimia, etc)|Personality Disorder (Borderline, Antisocial, Paranoid, etc)|Obsessive-Compulsive Disorder',\n",
       "       'Anxiety Disorder (Generalized, Social, Phobia, etc)|Mood Disorder (Depression, Bipolar Disorder, etc)|Stress Response Syndromes',\n",
       "       \"Autism (Asperger's)\",\n",
       "       'Anxiety Disorder (Generalized, Social, Phobia, etc)|Obsessive-Compulsive Disorder|Post-traumatic Stress Disorder',\n",
       "       'Anxiety Disorder (Generalized, Social, Phobia, etc)|Mood Disorder (Depression, Bipolar Disorder, etc)|Eating Disorder (Anorexia, Bulimia, etc)',\n",
       "       'Anxiety Disorder (Generalized, Social, Phobia, etc)|Mood Disorder (Depression, Bipolar Disorder, etc)|Attention Deficit Hyperactivity Disorder|Post-traumatic Stress Disorder',\n",
       "       'Anxiety Disorder (Generalized, Social, Phobia, etc)|Mood Disorder (Depression, Bipolar Disorder, etc)|Eating Disorder (Anorexia, Bulimia, etc)|Attention Deficit Hyperactivity Disorder',\n",
       "       'Mood Disorder (Depression, Bipolar Disorder, etc)|Stress Response Syndromes',\n",
       "       'Anxiety Disorder (Generalized, Social, Phobia, etc)|Mood Disorder (Depression, Bipolar Disorder, etc)|Attention Deficit Hyperactivity Disorder|Obsessive-Compulsive Disorder|Post-traumatic Stress Disorder',\n",
       "       'Anxiety Disorder (Generalized, Social, Phobia, etc)|Mood Disorder (Depression, Bipolar Disorder, etc)|Personality Disorder (Borderline, Antisocial, Paranoid, etc)',\n",
       "       'Anxiety Disorder (Generalized, Social, Phobia, etc)|Personality Disorder (Borderline, Antisocial, Paranoid, etc)|Obsessive-Compulsive Disorder',\n",
       "       'Mood Disorder (Depression, Bipolar Disorder, etc)|Gender Dysphoria',\n",
       "       'Mood Disorder (Depression, Bipolar Disorder, etc)|Post-traumatic Stress Disorder|Substance Use Disorder',\n",
       "       'Mood Disorder (Depression, Bipolar Disorder, etc)|Personality Disorder (Borderline, Antisocial, Paranoid, etc)',\n",
       "       'Obsessive-Compulsive Disorder', 'Post-traumatic Stress Disorder',\n",
       "       'Anxiety Disorder (Generalized, Social, Phobia, etc)|Eating Disorder (Anorexia, Bulimia, etc)',\n",
       "       'Anxiety Disorder (Generalized, Social, Phobia, etc)|Mood Disorder (Depression, Bipolar Disorder, etc)|Personality Disorder (Borderline, Antisocial, Paranoid, etc)|Post-traumatic Stress Disorder',\n",
       "       'Substance Use Disorder|Addictive Disorder',\n",
       "       'Anxiety Disorder (Generalized, Social, Phobia, etc)|Personality Disorder (Borderline, Antisocial, Paranoid, etc)',\n",
       "       'Stress Response Syndromes|Mood Disorder (Depression, Bipolar Disorder, etc)',\n",
       "       'Psychotic Disorder (Schizophrenia, Schizoaffective, etc)',\n",
       "       'Anxiety Disorder (Generalized, Social, Phobia, etc)|Mood Disorder (Depression, Bipolar Disorder, etc)|Obsessive-Compulsive Disorder|Post-traumatic Stress Disorder|Stress Response Syndromes',\n",
       "       'Anxiety Disorder (Generalized, Social, Phobia, etc)|Mood Disorder (Depression, Bipolar Disorder, etc)|Post-traumatic Stress Disorder|Stress Response Syndromes',\n",
       "       'Eating Disorder (Anorexia, Bulimia, etc)|Attention Deficit Hyperactivity Disorder|Post-traumatic Stress Disorder|Substance Use Disorder|Addictive Disorder',\n",
       "       'Substance Use Disorder|Anxiety Disorder (Generalized, Social, Phobia, etc)',\n",
       "       'Anxiety Disorder (Generalized, Social, Phobia, etc)|Mood Disorder (Depression, Bipolar Disorder, etc)|Obsessive-Compulsive Disorder|Post-traumatic Stress Disorder',\n",
       "       'Anxiety Disorder (Generalized, Social, Phobia, etc)|Mood Disorder (Depression, Bipolar Disorder, etc)|Personality Disorder (Borderline, Antisocial, Paranoid, etc)|Post-traumatic Stress Disorder|Stress Response Syndromes|Substance Use Disorder|Addictive Disorder',\n",
       "       'Mood Disorder (Depression, Bipolar Disorder, etc)|Post-traumatic Stress Disorder',\n",
       "       'Mood Disorder (Depression, Bipolar Disorder, etc)|Attention Deficit Hyperactivity Disorder|Obsessive-Compulsive Disorder|Addictive Disorder',\n",
       "       'Anxiety Disorder (Generalized, Social, Phobia, etc)|Post-traumatic Stress Disorder|Stress Response Syndromes',\n",
       "       'Anxiety Disorder (Generalized, Social, Phobia, etc)|Mood Disorder (Depression, Bipolar Disorder, etc)|Attention Deficit Hyperactivity Disorder|Obsessive-Compulsive Disorder|Post-traumatic Stress Disorder|Substance Use Disorder',\n",
       "       'Autism - while not a \"mental illness\", still greatly affects how I handle anxiety',\n",
       "       'Obsessive-Compulsive Disorder|Substance Use Disorder',\n",
       "       'Mood Disorder (Depression, Bipolar Disorder, etc)|Attention Deficit Disorder',\n",
       "       'Post-traumatic Stress Disorder|Personality Disorder (Borderline, Antisocial, Paranoid, etc)',\n",
       "       'Substance Use Disorder|Mood Disorder (Depression, Bipolar Disorder, etc)',\n",
       "       'Mood Disorder (Depression, Bipolar Disorder, etc)|Post-traumatic Stress Disorder|Addictive Disorder',\n",
       "       'Mood Disorder (Depression, Bipolar Disorder, etc)|Anxiety Disorder (Generalized, Social, Phobia, etc)',\n",
       "       'Attention Deficit Hyperactivity Disorder|MCD (when it was diagnosed, the ultra-mega \"disorder\" ADHD didn\\'t exist yet)',\n",
       "       'Anxiety Disorder (Generalized, Social, Phobia, etc)|Mood Disorder (Depression, Bipolar Disorder, etc)|Dissociative Disorder',\n",
       "       'Mood Disorder (Depression, Bipolar Disorder, etc)|Addictive Disorder',\n",
       "       'attention deficit disorder (but not the hyperactive version)',\n",
       "       'Mood Disorder (Depression, Bipolar Disorder, etc)|Attention Deficit Hyperactivity Disorder|Post-traumatic Stress Disorder|Substance Use Disorder',\n",
       "       'Attention Deficit Hyperactivity Disorder|Mood Disorder (Depression, Bipolar Disorder, etc)',\n",
       "       'Mood Disorder (Depression, Bipolar Disorder, etc)|Attention Deficit Hyperactivity Disorder|Aspergers',\n",
       "       'Personality Disorder (Borderline, Antisocial, Paranoid, etc)',\n",
       "       'Attention Deficit Hyperactivity Disorder|Post-traumatic Stress Disorder|Substance Use Disorder',\n",
       "       'Mood Disorder (Depression, Bipolar Disorder, etc)|Post-traumatic Stress Disorder|Dissociative Disorder',\n",
       "       'Anxiety Disorder (Generalized, Social, Phobia, etc)|Mood Disorder (Depression, Bipolar Disorder, etc)|Personality Disorder (Borderline, Antisocial, Paranoid, etc)|Obsessive-Compulsive Disorder',\n",
       "       'Anxiety Disorder (Generalized, Social, Phobia, etc)|Attention Deficit Hyperactivity Disorder|Post-traumatic Stress Disorder',\n",
       "       'Mood Disorder (Depression, Bipolar Disorder, etc)|Substance Use Disorder|Addictive Disorder',\n",
       "       'Stress Response Syndromes|Mood Disorder (Depression, Bipolar Disorder, etc)|Anxiety Disorder (Generalized, Social, Phobia, etc)',\n",
       "       'Autism Spectrum Disorder',\n",
       "       'Anxiety Disorder (Generalized, Social, Phobia, etc)|Mood Disorder (Depression, Bipolar Disorder, etc)|Personality Disorder (Borderline, Antisocial, Paranoid, etc)|Obsessive-Compulsive Disorder|Addictive Disorder',\n",
       "       'Asperger Syndrome',\n",
       "       'Anxiety Disorder (Generalized, Social, Phobia, etc)|Mood Disorder (Depression, Bipolar Disorder, etc)|Psychotic Disorder (Schizophrenia, Schizoaffective, etc)|Dissociative Disorder|Autism',\n",
       "       'Mood Disorder (Depression, Bipolar Disorder, etc)|Eating Disorder (Anorexia, Bulimia, etc)|Attention Deficit Hyperactivity Disorder|Personality Disorder (Borderline, Antisocial, Paranoid, etc)',\n",
       "       'Mood Disorder (Depression, Bipolar Disorder, etc)|Intimate Disorder',\n",
       "       'Mood Disorder (Depression, Bipolar Disorder, etc)|Eating Disorder (Anorexia, Bulimia, etc)',\n",
       "       'Mood Disorder (Depression, Bipolar Disorder, etc)|Psychotic Disorder (Schizophrenia, Schizoaffective, etc)|Obsessive-Compulsive Disorder|Post-traumatic Stress Disorder|Substance Use Disorder',\n",
       "       'Anxiety Disorder (Generalized, Social, Phobia, etc)|Mood Disorder (Depression, Bipolar Disorder, etc)|Eating Disorder (Anorexia, Bulimia, etc)|Attention Deficit Hyperactivity Disorder|Post-traumatic Stress Disorder',\n",
       "       'Mood Disorder (Depression, Bipolar Disorder, etc)|Substance Use Disorder',\n",
       "       'Anxiety Disorder (Generalized, Social, Phobia, etc)|Mood Disorder (Depression, Bipolar Disorder, etc)|Post-traumatic Stress Disorder|Substance Use Disorder',\n",
       "       'Anxiety Disorder (Generalized, Social, Phobia, etc)|Mood Disorder (Depression, Bipolar Disorder, etc)|Attention Deficit Hyperactivity Disorder|Obsessive-Compulsive Disorder',\n",
       "       'Anxiety Disorder (Generalized, Social, Phobia, etc)|Personality Disorder (Borderline, Antisocial, Paranoid, etc)|Dissociative Disorder',\n",
       "       'ADD (w/o Hyperactivity)',\n",
       "       'Addictive Disorder|Anxiety Disorder (Generalized, Social, Phobia, etc)|Mood Disorder (Depression, Bipolar Disorder, etc)|Eating Disorder (Anorexia, Bulimia, etc)|Attention Deficit Hyperactivity Disorder|Obsessive-Compulsive Disorder|Post-traumatic Stress Disorder|Dissociative Disorder',\n",
       "       'Eating Disorder (Anorexia, Bulimia, etc)',\n",
       "       'Schizotypal Personality Disorder', 'autism spectrum disorder'],\n",
       "      dtype=object)"
      ]
     },
     "execution_count": 56,
     "metadata": {},
     "output_type": "execute_result"
    }
   ],
   "source": [
    "df_2016[\"diagnosed_conditions_detail\"].unique()"
   ]
  },
  {
   "cell_type": "code",
   "execution_count": 55,
   "id": "a4e4c59d-561a-4452-a30f-ed5ad55ec194",
   "metadata": {},
   "outputs": [
    {
     "data": {
      "text/plain": [
       "np.int64(0)"
      ]
     },
     "execution_count": 55,
     "metadata": {},
     "output_type": "execute_result"
    }
   ],
   "source": [
    "df_2016[\"diagnosed_conditions\"].isna().sum()"
   ]
  }
 ],
 "metadata": {
  "kernelspec": {
   "display_name": "venv",
   "language": "python",
   "name": "venv"
  },
  "language_info": {
   "codemirror_mode": {
    "name": "ipython",
    "version": 3
   },
   "file_extension": ".py",
   "mimetype": "text/x-python",
   "name": "python",
   "nbconvert_exporter": "python",
   "pygments_lexer": "ipython3",
   "version": "3.12.4"
  }
 },
 "nbformat": 4,
 "nbformat_minor": 5
}
