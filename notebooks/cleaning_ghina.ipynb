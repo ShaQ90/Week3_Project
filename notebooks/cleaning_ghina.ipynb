{
 "cells": [
  {
   "cell_type": "code",
   "execution_count": 1,
   "metadata": {
    "scrolled": true
   },
   "outputs": [],
   "source": [
    "import pandas as pd\n",
    "import numpy as np\n",
    "import plotly.express as px\n",
    "import os\n",
    "\n",
    "# Importing datasets\n",
    "who1 = pd.read_csv(\"../data/raw/HFADataset/HFA Data (table) part 1.csv\", low_memory=False)\n",
    "who2 = pd.read_csv(\"../data/raw/HFADataset/HFA Data (table) part 2.csv\", low_memory=False)\n",
    "who3 = pd.read_csv(\"../data/raw/HFADataset/HFA Data (table) part 3.csv\", low_memory=False)\n",
    "who = pd.concat([who1, who2, who3], axis=0)\n",
    "\n",
    "label = pd.read_excel(\"../data/raw/HFADataset/HFA Metadata.xlsx\", sheet_name=\"Labels\", header=1)\n",
    "\n",
    "eu_member = pd.read_excel(\"../data/raw/HFADataset/HFA Metadata.xlsx\", sheet_name=\"Country groups mapping\", header=1)\n",
    "eu_member = eu_member[['Country short name','Unnamed: 1','EU_MEMBERS']]\n",
    "eu_member.columns = ['Country short name','COUNTRY_REGION','EU_MEMBERS']\n",
    "eu_countries = eu_member.COUNTRY_REGION[eu_member['EU_MEMBERS']=='yes']\n",
    "\n",
    "pop = pd.read_csv(\"../data/raw/WB/API_SP.POP.TOTL_DS2_en_csv_v2_3401680.csv\", low_memory=False, header=2)\n",
    "pop = pop[['Country Name', 'Country Code','2018']]\n",
    "pop.columns = ['Country Name', 'COUNTRY_REGION', 'Population']"
   ]
  },
  {
   "cell_type": "code",
   "execution_count": 2,
   "metadata": {},
   "outputs": [],
   "source": [
    "# Collecting relevant variables\n",
    "\n",
    "# Mental disorders\n",
    "#HFA_387\tIncidence of mental disorders per 100 000\n",
    "#HFA_388\tNumber of new cases of mental disorders\n",
    "\n",
    "# GDP\n",
    "# HFA_32\tGross national income, US$ per capita\n",
    "# HFA_33\tGross domestic product (GDP), US$ per capita\n",
    "\n",
    "variables = [\"HFA_387\", \"HFA_388\", \"HFA_32\", \"HFA_33\"]\n",
    "data = who[(who['Measure code'].isin(variables)) & (who['COUNTRY_REGION'].isin(eu_countries))]"
   ]
  },
  {
   "cell_type": "code",
   "execution_count": 3,
   "metadata": {},
   "outputs": [
    {
     "ename": "ValueError",
     "evalue": "\nImage export using the \"kaleido\" engine requires the kaleido package,\nwhich can be installed using pip:\n    $ pip install -U kaleido\n",
     "output_type": "error",
     "traceback": [
      "\u001b[0;31m---------------------------------------------------------------------------\u001b[0m",
      "\u001b[0;31mValueError\u001b[0m                                Traceback (most recent call last)",
      "Cell \u001b[0;32mIn[3], line 12\u001b[0m\n\u001b[1;32m     10\u001b[0m \u001b[38;5;66;03m# Show the figure\u001b[39;00m\n\u001b[1;32m     11\u001b[0m fig\u001b[38;5;241m.\u001b[39mwrite_html(\u001b[38;5;124m'\u001b[39m\u001b[38;5;124mfirst_figure.html\u001b[39m\u001b[38;5;124m'\u001b[39m, auto_open\u001b[38;5;241m=\u001b[39m\u001b[38;5;28;01mTrue\u001b[39;00m)\n\u001b[0;32m---> 12\u001b[0m \u001b[43mfig\u001b[49m\u001b[38;5;241;43m.\u001b[39;49m\u001b[43mwrite_image\u001b[49m\u001b[43m(\u001b[49m\u001b[38;5;124;43m\"\u001b[39;49m\u001b[38;5;124;43m../figures/mental_eu.png\u001b[39;49m\u001b[38;5;124;43m\"\u001b[39;49m\u001b[43m,\u001b[49m\u001b[43m)\u001b[49m\n",
      "File \u001b[0;32m~/Documents/ironhack/course/week_3/week3_project/.venv/lib/python3.12/site-packages/plotly/basedatatypes.py:3835\u001b[0m, in \u001b[0;36mBaseFigure.write_image\u001b[0;34m(self, *args, **kwargs)\u001b[0m\n\u001b[1;32m   3775\u001b[0m \u001b[38;5;250m\u001b[39m\u001b[38;5;124;03m\"\"\"\u001b[39;00m\n\u001b[1;32m   3776\u001b[0m \u001b[38;5;124;03mConvert a figure to a static image and write it to a file or writeable\u001b[39;00m\n\u001b[1;32m   3777\u001b[0m \u001b[38;5;124;03mobject\u001b[39;00m\n\u001b[0;32m   (...)\u001b[0m\n\u001b[1;32m   3831\u001b[0m \u001b[38;5;124;03mNone\u001b[39;00m\n\u001b[1;32m   3832\u001b[0m \u001b[38;5;124;03m\"\"\"\u001b[39;00m\n\u001b[1;32m   3833\u001b[0m \u001b[38;5;28;01mimport\u001b[39;00m \u001b[38;5;21;01mplotly\u001b[39;00m\u001b[38;5;21;01m.\u001b[39;00m\u001b[38;5;21;01mio\u001b[39;00m \u001b[38;5;28;01mas\u001b[39;00m \u001b[38;5;21;01mpio\u001b[39;00m\n\u001b[0;32m-> 3835\u001b[0m \u001b[38;5;28;01mreturn\u001b[39;00m \u001b[43mpio\u001b[49m\u001b[38;5;241;43m.\u001b[39;49m\u001b[43mwrite_image\u001b[49m\u001b[43m(\u001b[49m\u001b[38;5;28;43mself\u001b[39;49m\u001b[43m,\u001b[49m\u001b[43m \u001b[49m\u001b[38;5;241;43m*\u001b[39;49m\u001b[43margs\u001b[49m\u001b[43m,\u001b[49m\u001b[43m \u001b[49m\u001b[38;5;241;43m*\u001b[39;49m\u001b[38;5;241;43m*\u001b[39;49m\u001b[43mkwargs\u001b[49m\u001b[43m)\u001b[49m\n",
      "File \u001b[0;32m~/Documents/ironhack/course/week_3/week3_project/.venv/lib/python3.12/site-packages/plotly/io/_kaleido.py:266\u001b[0m, in \u001b[0;36mwrite_image\u001b[0;34m(fig, file, format, scale, width, height, validate, engine)\u001b[0m\n\u001b[1;32m    250\u001b[0m             \u001b[38;5;28;01mraise\u001b[39;00m \u001b[38;5;167;01mValueError\u001b[39;00m(\n\u001b[1;32m    251\u001b[0m \u001b[38;5;250m                \u001b[39m\u001b[38;5;124;03m\"\"\"\u001b[39;00m\n\u001b[1;32m    252\u001b[0m \u001b[38;5;124;03mCannot infer image type from output path '{file}'.\u001b[39;00m\n\u001b[0;32m   (...)\u001b[0m\n\u001b[1;32m    260\u001b[0m                 )\n\u001b[1;32m    261\u001b[0m             )\n\u001b[1;32m    263\u001b[0m     \u001b[38;5;66;03m# Request image\u001b[39;00m\n\u001b[1;32m    264\u001b[0m     \u001b[38;5;66;03m# -------------\u001b[39;00m\n\u001b[1;32m    265\u001b[0m     \u001b[38;5;66;03m# Do this first so we don't create a file if image conversion fails\u001b[39;00m\n\u001b[0;32m--> 266\u001b[0m     img_data \u001b[38;5;241m=\u001b[39m \u001b[43mto_image\u001b[49m\u001b[43m(\u001b[49m\n\u001b[1;32m    267\u001b[0m \u001b[43m        \u001b[49m\u001b[43mfig\u001b[49m\u001b[43m,\u001b[49m\n\u001b[1;32m    268\u001b[0m \u001b[43m        \u001b[49m\u001b[38;5;28;43mformat\u001b[39;49m\u001b[38;5;241;43m=\u001b[39;49m\u001b[38;5;28;43mformat\u001b[39;49m\u001b[43m,\u001b[49m\n\u001b[1;32m    269\u001b[0m \u001b[43m        \u001b[49m\u001b[43mscale\u001b[49m\u001b[38;5;241;43m=\u001b[39;49m\u001b[43mscale\u001b[49m\u001b[43m,\u001b[49m\n\u001b[1;32m    270\u001b[0m \u001b[43m        \u001b[49m\u001b[43mwidth\u001b[49m\u001b[38;5;241;43m=\u001b[39;49m\u001b[43mwidth\u001b[49m\u001b[43m,\u001b[49m\n\u001b[1;32m    271\u001b[0m \u001b[43m        \u001b[49m\u001b[43mheight\u001b[49m\u001b[38;5;241;43m=\u001b[39;49m\u001b[43mheight\u001b[49m\u001b[43m,\u001b[49m\n\u001b[1;32m    272\u001b[0m \u001b[43m        \u001b[49m\u001b[43mvalidate\u001b[49m\u001b[38;5;241;43m=\u001b[39;49m\u001b[43mvalidate\u001b[49m\u001b[43m,\u001b[49m\n\u001b[1;32m    273\u001b[0m \u001b[43m        \u001b[49m\u001b[43mengine\u001b[49m\u001b[38;5;241;43m=\u001b[39;49m\u001b[43mengine\u001b[49m\u001b[43m,\u001b[49m\n\u001b[1;32m    274\u001b[0m \u001b[43m    \u001b[49m\u001b[43m)\u001b[49m\n\u001b[1;32m    276\u001b[0m     \u001b[38;5;66;03m# Open file\u001b[39;00m\n\u001b[1;32m    277\u001b[0m     \u001b[38;5;66;03m# ---------\u001b[39;00m\n\u001b[1;32m    278\u001b[0m     \u001b[38;5;28;01mif\u001b[39;00m path \u001b[38;5;129;01mis\u001b[39;00m \u001b[38;5;28;01mNone\u001b[39;00m:\n\u001b[1;32m    279\u001b[0m         \u001b[38;5;66;03m# We previously failed to make sense of `file` as a pathlib object.\u001b[39;00m\n\u001b[1;32m    280\u001b[0m         \u001b[38;5;66;03m# Attempt to write to `file` as an open file descriptor.\u001b[39;00m\n",
      "File \u001b[0;32m~/Documents/ironhack/course/week_3/week3_project/.venv/lib/python3.12/site-packages/plotly/io/_kaleido.py:132\u001b[0m, in \u001b[0;36mto_image\u001b[0;34m(fig, format, width, height, scale, validate, engine)\u001b[0m\n\u001b[1;32m    130\u001b[0m     \u001b[38;5;66;03m# Raise informative error message if Kaleido is not installed\u001b[39;00m\n\u001b[1;32m    131\u001b[0m     \u001b[38;5;28;01mif\u001b[39;00m scope \u001b[38;5;129;01mis\u001b[39;00m \u001b[38;5;28;01mNone\u001b[39;00m:\n\u001b[0;32m--> 132\u001b[0m         \u001b[38;5;28;01mraise\u001b[39;00m \u001b[38;5;167;01mValueError\u001b[39;00m(\n\u001b[1;32m    133\u001b[0m \u001b[38;5;250m            \u001b[39m\u001b[38;5;124;03m\"\"\"\u001b[39;00m\n\u001b[1;32m    134\u001b[0m \u001b[38;5;124;03mImage export using the \"kaleido\" engine requires the kaleido package,\u001b[39;00m\n\u001b[1;32m    135\u001b[0m \u001b[38;5;124;03mwhich can be installed using pip:\u001b[39;00m\n\u001b[1;32m    136\u001b[0m \u001b[38;5;124;03m    $ pip install -U kaleido\u001b[39;00m\n\u001b[1;32m    137\u001b[0m \u001b[38;5;124;03m\"\"\"\u001b[39;00m\n\u001b[1;32m    138\u001b[0m         )\n\u001b[1;32m    140\u001b[0m     \u001b[38;5;66;03m# Validate figure\u001b[39;00m\n\u001b[1;32m    141\u001b[0m     \u001b[38;5;66;03m# ---------------\u001b[39;00m\n\u001b[1;32m    142\u001b[0m     fig_dict \u001b[38;5;241m=\u001b[39m validate_coerce_fig_to_dict(fig, validate)\n",
      "\u001b[0;31mValueError\u001b[0m: \nImage export using the \"kaleido\" engine requires the kaleido package,\nwhich can be installed using pip:\n    $ pip install -U kaleido\n"
     ]
    }
   ],
   "source": [
    "# Data Visualization\n",
    "\n",
    "# Creating a line plot with multiple lines (EU Countries)\n",
    "\n",
    "#HFA_387\tIncidence of mental disorders per 100 000 by EU Countries\n",
    "HFA_387 = data[(data['Measure code']==\"HFA_387\")]\n",
    "\n",
    "fig = px.line(HFA_387, x='YEAR', y='VALUE', color='COUNTRY_REGION', title='Incidence of mental disorders per 100 000')\n",
    "\n",
    "# Show the figure\n",
    "fig.write_html('first_figure.html', auto_open=True)\n",
    "fig.write_image(\"../figures/mental_eu.png\",)"
   ]
  },
  {
   "cell_type": "code",
   "execution_count": 44,
   "metadata": {},
   "outputs": [
    {
     "name": "stdout",
     "output_type": "stream",
     "text": [
      "Incidence of mental disorders per 100 000\n"
     ]
    },
    {
     "data": {
      "text/html": [
       "<div>\n",
       "<style scoped>\n",
       "    .dataframe tbody tr th:only-of-type {\n",
       "        vertical-align: middle;\n",
       "    }\n",
       "\n",
       "    .dataframe tbody tr th {\n",
       "        vertical-align: top;\n",
       "    }\n",
       "\n",
       "    .dataframe thead th {\n",
       "        text-align: right;\n",
       "    }\n",
       "</style>\n",
       "<table border=\"1\" class=\"dataframe\">\n",
       "  <thead>\n",
       "    <tr style=\"text-align: right;\">\n",
       "      <th></th>\n",
       "      <th>COUNTRY_REGION</th>\n",
       "      <th>VALUE</th>\n",
       "    </tr>\n",
       "  </thead>\n",
       "  <tbody>\n",
       "    <tr>\n",
       "      <th>320185</th>\n",
       "      <td>LTU</td>\n",
       "      <td>5205.41</td>\n",
       "    </tr>\n",
       "    <tr>\n",
       "      <th>319854</th>\n",
       "      <td>EST</td>\n",
       "      <td>1586.03</td>\n",
       "    </tr>\n",
       "    <tr>\n",
       "      <th>319778</th>\n",
       "      <td>DEU</td>\n",
       "      <td>1463.54</td>\n",
       "    </tr>\n",
       "    <tr>\n",
       "      <th>320392</th>\n",
       "      <td>SVK</td>\n",
       "      <td>1118.97</td>\n",
       "    </tr>\n",
       "    <tr>\n",
       "      <th>320320</th>\n",
       "      <td>ROU</td>\n",
       "      <td>1058.57</td>\n",
       "    </tr>\n",
       "  </tbody>\n",
       "</table>\n",
       "</div>"
      ],
      "text/plain": [
       "       COUNTRY_REGION    VALUE\n",
       "320185            LTU  5205.41\n",
       "319854            EST  1586.03\n",
       "319778            DEU  1463.54\n",
       "320392            SVK  1118.97\n",
       "320320            ROU  1058.57"
      ]
     },
     "execution_count": 44,
     "metadata": {},
     "output_type": "execute_result"
    }
   ],
   "source": [
    "print('Incidence of mental disorders per 100 000')\n",
    "data[[\"COUNTRY_REGION\",\"VALUE\"]][(data[\"Measure code\"]==\"HFA_387\") & (data[\"YEAR\"]==2020)].sort_values(by=\"VALUE\", ascending=False).head()"
   ]
  },
  {
   "cell_type": "code",
   "execution_count": 39,
   "metadata": {},
   "outputs": [
    {
     "name": "stdout",
     "output_type": "stream",
     "text": [
      "Number of new cases of mental disorders\n"
     ]
    },
    {
     "data": {
      "text/html": [
       "<div>\n",
       "<style scoped>\n",
       "    .dataframe tbody tr th:only-of-type {\n",
       "        vertical-align: middle;\n",
       "    }\n",
       "\n",
       "    .dataframe tbody tr th {\n",
       "        vertical-align: top;\n",
       "    }\n",
       "\n",
       "    .dataframe thead th {\n",
       "        text-align: right;\n",
       "    }\n",
       "</style>\n",
       "<table border=\"1\" class=\"dataframe\">\n",
       "  <thead>\n",
       "    <tr style=\"text-align: right;\">\n",
       "      <th></th>\n",
       "      <th>COUNTRY_REGION</th>\n",
       "      <th>VALUE</th>\n",
       "    </tr>\n",
       "  </thead>\n",
       "  <tbody>\n",
       "    <tr>\n",
       "      <th>320765</th>\n",
       "      <td>DEU</td>\n",
       "      <td>1177788.0</td>\n",
       "    </tr>\n",
       "    <tr>\n",
       "      <th>321247</th>\n",
       "      <td>POL</td>\n",
       "      <td>360402.0</td>\n",
       "    </tr>\n",
       "    <tr>\n",
       "      <th>321275</th>\n",
       "      <td>ROU</td>\n",
       "      <td>234521.0</td>\n",
       "    </tr>\n",
       "    <tr>\n",
       "      <th>321010</th>\n",
       "      <td>ITA</td>\n",
       "      <td>232376.0</td>\n",
       "    </tr>\n",
       "    <tr>\n",
       "      <th>321135</th>\n",
       "      <td>LTU</td>\n",
       "      <td>145472.0</td>\n",
       "    </tr>\n",
       "  </tbody>\n",
       "</table>\n",
       "</div>"
      ],
      "text/plain": [
       "       COUNTRY_REGION      VALUE\n",
       "320765            DEU  1177788.0\n",
       "321247            POL   360402.0\n",
       "321275            ROU   234521.0\n",
       "321010            ITA   232376.0\n",
       "321135            LTU   145472.0"
      ]
     },
     "execution_count": 39,
     "metadata": {},
     "output_type": "execute_result"
    }
   ],
   "source": [
    "print('Number of new cases of mental disorders')\n",
    "data[[\"COUNTRY_REGION\",\"VALUE\"]][(data[\"Measure code\"]==\"HFA_388\") & (data[\"YEAR\"]==2020)].sort_values(by=\"VALUE\", ascending=False).head().round()"
   ]
  },
  {
   "cell_type": "code",
   "execution_count": 46,
   "metadata": {},
   "outputs": [],
   "source": [
    "# Create a bubble chart (GDP & Mental disorder & Population)\n",
    "\n",
    "HFA_33 = data[(data['Measure code']==\"HFA_33\")]\n",
    "HFA_33 = HFA_33[['COUNTRY_REGION','YEAR','VALUE']]\n",
    "HFA_33.columns = ['COUNTRY_REGION','YEAR','GDP_per_Capita']\n",
    "HFA_33['ln_GDP_per_Capita'] = HFA_33['GDP_per_Capita'].apply(lambda x: np.log(x))\n",
    "GDP_mental=pd.merge(HFA_33, HFA_387, on=[\"COUNTRY_REGION\",\"YEAR\"])\n",
    "GDP_mental=GDP_mental.drop([\"Measure code\",\"SEX\",\"PLACE_RESIDENCE\",\"YES_NO\"], axis=1)\n",
    "GDP_mental.columns = [\"COUNTRY_REGION\", \"YEAR\", \"GDP_per_Capita\",\"ln_GDP_per_Capita\",\"Mental_disorder\"]\n",
    "GDP_mental = GDP_mental[GDP_mental[\"YEAR\"]==2018]\n",
    "GDP_mental_pop=pd.merge(GDP_mental, pop, on=[\"COUNTRY_REGION\"])\n",
    "\n",
    "fig = px.scatter(GDP_mental_pop,x=\"GDP_per_Capita\", y=\"Mental_disorder\", color=\"Country Name\",title='GDP and Mental disorders',\n",
    "                 size=\"Population\", hover_name=\"Country Name\", log_x=True,size_max=50)\n",
    "\n",
    "#fig.update_layout(font=dict(size=26))\n",
    "fig.write_html('first_figure.html', auto_open=True)\n",
    "#fig.show()\n",
    "fig.write_image(\"../figures/mental_GDP_pop.png\")"
   ]
  },
  {
   "cell_type": "code",
   "execution_count": 121,
   "metadata": {},
   "outputs": [],
   "source": [
    "# Create a scatter plot (GNI & Mental disorder)\n",
    "\n",
    "HFA_32 = data[(data['Measure code']==\"HFA_32\")]\n",
    "HFA_32 = HFA_32[['COUNTRY_REGION','YEAR','VALUE']]\n",
    "HFA_32.columns = ['COUNTRY_REGION','YEAR','GNI_per_Capita']\n",
    "HFA_32['ln_GNI_per_Capita'] = HFA_32['GNI_per_Capita'].apply(lambda x: np.log(x))\n",
    "GNI_mental=pd.merge(HFA_32, HFA_387, on=[\"COUNTRY_REGION\",\"YEAR\"])\n",
    "GNI_mental=GNI_mental.drop([\"Measure code\",\"SEX\",\"PLACE_RESIDENCE\",\"YES_NO\"], axis=1)\n",
    "GNI_mental.columns = [\"COUNTRY_REGION\", \"YEAR\", \"GNI_per_Capita\",\"ln_GNI_per_Capita\",\"Mental_disorder\"]\n",
    "\n",
    "fig = px.scatter(GNI_mental.query(\"YEAR==2020\"),x=\"GNI_per_Capita\", y=\"Mental_disorder\", color='COUNTRY_REGION', log_x=True)\n",
    "fig.write_html('first_figure.html', auto_open=True)\n",
    "#fig.show()"
   ]
  }
 ],
 "metadata": {
  "kernelspec": {
   "display_name": "venv",
   "language": "python",
   "name": "venv"
  },
  "language_info": {
   "codemirror_mode": {
    "name": "ipython",
    "version": 3
   },
   "file_extension": ".py",
   "mimetype": "text/x-python",
   "name": "python",
   "nbconvert_exporter": "python",
   "pygments_lexer": "ipython3",
   "version": "3.12.2"
  }
 },
 "nbformat": 4,
 "nbformat_minor": 4
}
