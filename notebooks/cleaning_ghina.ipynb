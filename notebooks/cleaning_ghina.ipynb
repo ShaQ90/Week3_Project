{
 "cells": [
  {
   "cell_type": "code",
   "execution_count": null,
   "metadata": {
    "scrolled": true
   },
   "outputs": [],
   "source": [
    "import pandas as pd\n",
    "import numpy as np\n",
    "import plotly.express as px\n",
    "import os\n",
    "\n",
    "# Importing datasets\n",
    "who1 = pd.read_csv(\"../data/raw/HFADataset/HFA Data (table) part 1.csv\", low_memory=False)\n",
    "who2 = pd.read_csv(\"../data/raw/HFADataset/HFA Data (table) part 2.csv\", low_memory=False)\n",
    "who3 = pd.read_csv(\"../data/raw/HFADataset/HFA Data (table) part 3.csv\", low_memory=False)\n",
    "who = pd.concat([who1, who2, who3], axis=0)\n",
    "\n",
    "label = pd.read_excel(\"../data/raw/HFADataset/HFA Metadata.xlsx\", sheet_name=\"Labels\", header=1)\n",
    "\n",
    "eu_member = pd.read_excel(\"../data/raw/HFADataset/HFA Metadata.xlsx\", sheet_name=\"Country groups mapping\", header=1)\n",
    "eu_member = eu_member[['Country short name','Unnamed: 1','EU_MEMBERS']]\n",
    "eu_member.columns = ['Country short name','COUNTRY_REGION','EU_MEMBERS']\n",
    "eu_countries = eu_member.COUNTRY_REGION[eu_member['EU_MEMBERS']=='yes']\n",
    "\n",
    "pop = pd.read_csv(\"../data/raw/WB/API_SP.POP.TOTL_DS2_en_csv_v2_3401680.csv\", low_memory=False, header=2)\n",
    "pop = pop[['Country Name', 'Country Code','2018']]\n",
    "pop.columns = ['Country Name', 'COUNTRY_REGION', 'Population']"
   ]
  },
  {
   "cell_type": "code",
   "execution_count": null,
   "metadata": {},
   "outputs": [],
   "source": [
    "# Collecting relevant variables\n",
    "\n",
    "# Mental disorders\n",
    "#HFA_387\tIncidence of mental disorders per 100 000\n",
    "#HFA_388\tNumber of new cases of mental disorders\n",
    "\n",
    "# GDP\n",
    "# HFA_32\tGross national income, US$ per capita\n",
    "# HFA_33\tGross domestic product (GDP), US$ per capita\n",
    "\n",
    "variables = [\"HFA_387\", \"HFA_388\", \"HFA_32\", \"HFA_33\"]\n",
    "data = who[(who['Measure code'].isin(variables)) & (who['COUNTRY_REGION'].isin(eu_countries))]"
   ]
  },
  {
   "cell_type": "code",
   "execution_count": null,
   "metadata": {},
   "outputs": [],
   "source": [
    "# Data Visualization\n",
    "\n",
    "# Creating a line plot with multiple lines (EU Countries)\n",
    "\n",
    "#HFA_387\tIncidence of mental disorders per 100 000 by EU Countries\n",
    "HFA_387 = data[(data['Measure code']==\"HFA_387\")]\n",
    "\n",
    "fig = px.line(HFA_387, x='YEAR', y='VALUE', color='COUNTRY_REGION', title='Incidence of mental disorders per 100 000')\n",
    "\n",
    "# Show the figure\n",
    "fig.write_html('../figures/mental_eu.html', auto_open=True)\n",
    "fig.write_image(\"../figures/mental_eu.png\",)"
   ]
  },
  {
   "cell_type": "code",
   "execution_count": null,
   "metadata": {},
   "outputs": [],
   "source": [
    "print('Incidence of mental disorders per 100 000')\n",
    "data[[\"COUNTRY_REGION\",\"VALUE\"]][(data[\"Measure code\"]==\"HFA_387\") & (data[\"YEAR\"]==2020)].sort_values(by=\"VALUE\", ascending=False).head()"
   ]
  },
  {
   "cell_type": "code",
   "execution_count": null,
   "metadata": {},
   "outputs": [],
   "source": [
    "print('Number of new cases of mental disorders')\n",
    "data[[\"COUNTRY_REGION\",\"VALUE\"]][(data[\"Measure code\"]==\"HFA_388\") & (data[\"YEAR\"]==2020)].sort_values(by=\"VALUE\", ascending=False).head().round()"
   ]
  },
  {
   "cell_type": "code",
   "execution_count": null,
   "metadata": {},
   "outputs": [],
   "source": [
    "# Create a bubble chart (GDP & Mental disorder & Population)\n",
    "\n",
    "HFA_33 = data[(data['Measure code']==\"HFA_33\")]\n",
    "HFA_33 = HFA_33[['COUNTRY_REGION','YEAR','VALUE']]\n",
    "HFA_33.columns = ['COUNTRY_REGION','YEAR','GDP_per_Capita']\n",
    "HFA_33['ln_GDP_per_Capita'] = HFA_33['GDP_per_Capita'].apply(lambda x: np.log(x))\n",
    "GDP_mental=pd.merge(HFA_33, HFA_387, on=[\"COUNTRY_REGION\",\"YEAR\"])\n",
    "GDP_mental=GDP_mental.drop([\"Measure code\",\"SEX\",\"PLACE_RESIDENCE\",\"YES_NO\"], axis=1)\n",
    "GDP_mental.columns = [\"COUNTRY_REGION\", \"YEAR\", \"GDP_per_Capita\",\"ln_GDP_per_Capita\",\"Mental_disorder\"]\n",
    "GDP_mental = GDP_mental[GDP_mental[\"YEAR\"]==2018]\n",
    "GDP_mental_pop=pd.merge(GDP_mental, pop, on=[\"COUNTRY_REGION\"])\n",
    "\n",
    "fig = px.scatter(GDP_mental_pop,x=\"GDP_per_Capita\", y=\"Mental_disorder\", color=\"Country Name\",title='GDP and Mental disorders',\n",
    "                 size=\"Population\", hover_name=\"Country Name\", log_x=True,size_max=80)\n",
    "\n",
    "#fig.update_layout(font=dict(size=26))\n",
    "fig.write_html('../figures/mental_GDP_pop.html', auto_open=True)\n",
    "#fig.show()\n",
    "fig.write_image(\"../figures/mental_GDP_pop.png\")"
   ]
  },
  {
   "cell_type": "code",
   "execution_count": null,
   "metadata": {},
   "outputs": [],
   "source": [
    "# Create a scatter plot (GNI & Mental disorder)\n",
    "\n",
    "HFA_32 = data[(data['Measure code']==\"HFA_32\")]\n",
    "HFA_32 = HFA_32[['COUNTRY_REGION','YEAR','VALUE']]\n",
    "HFA_32.columns = ['COUNTRY_REGION','YEAR','GNI_per_Capita']\n",
    "HFA_32['ln_GNI_per_Capita'] = HFA_32['GNI_per_Capita'].apply(lambda x: np.log(x))\n",
    "GNI_mental=pd.merge(HFA_32, HFA_387, on=[\"COUNTRY_REGION\",\"YEAR\"])\n",
    "GNI_mental=GNI_mental.drop([\"Measure code\",\"SEX\",\"PLACE_RESIDENCE\",\"YES_NO\"], axis=1)\n",
    "GNI_mental.columns = [\"COUNTRY_REGION\", \"YEAR\", \"GNI_per_Capita\",\"ln_GNI_per_Capita\",\"Mental_disorder\"]\n",
    "\n",
    "fig = px.scatter(GNI_mental.query(\"YEAR==2020\"),x=\"GNI_per_Capita\", y=\"Mental_disorder\", color='COUNTRY_REGION', log_x=True)\n",
    "fig.write_html('first_figure.html', auto_open=True)\n",
    "#fig.show()"
   ]
  }
 ],
 "metadata": {
  "kernelspec": {
   "display_name": "Python 3",
   "language": "python",
   "name": "python3"
  },
  "language_info": {
   "codemirror_mode": {
    "name": "ipython",
    "version": 3
   },
   "file_extension": ".py",
   "mimetype": "text/x-python",
   "name": "python",
   "nbconvert_exporter": "python",
   "pygments_lexer": "ipython3",
   "version": "3.7.4"
  }
 },
 "nbformat": 4,
 "nbformat_minor": 4
}
