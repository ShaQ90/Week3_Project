{
 "cells": [
  {
   "cell_type": "code",
   "execution_count": 1,
   "metadata": {
    "scrolled": true
   },
   "outputs": [
    {
     "ename": "ImportError",
     "evalue": "Missing optional dependency 'openpyxl'.  Use pip or conda to install openpyxl.",
     "output_type": "error",
     "traceback": [
      "\u001b[0;31m---------------------------------------------------------------------------\u001b[0m",
      "\u001b[0;31mModuleNotFoundError\u001b[0m                       Traceback (most recent call last)",
      "File \u001b[0;32m~/Documents/ironhack/course/week_3/week3_project/.venv/lib/python3.12/site-packages/pandas/compat/_optional.py:135\u001b[0m, in \u001b[0;36mimport_optional_dependency\u001b[0;34m(name, extra, errors, min_version)\u001b[0m\n\u001b[1;32m    134\u001b[0m \u001b[38;5;28;01mtry\u001b[39;00m:\n\u001b[0;32m--> 135\u001b[0m     module \u001b[38;5;241m=\u001b[39m \u001b[43mimportlib\u001b[49m\u001b[38;5;241;43m.\u001b[39;49m\u001b[43mimport_module\u001b[49m\u001b[43m(\u001b[49m\u001b[43mname\u001b[49m\u001b[43m)\u001b[49m\n\u001b[1;32m    136\u001b[0m \u001b[38;5;28;01mexcept\u001b[39;00m \u001b[38;5;167;01mImportError\u001b[39;00m:\n",
      "File \u001b[0;32m/opt/anaconda3/lib/python3.12/importlib/__init__.py:90\u001b[0m, in \u001b[0;36mimport_module\u001b[0;34m(name, package)\u001b[0m\n\u001b[1;32m     89\u001b[0m         level \u001b[38;5;241m+\u001b[39m\u001b[38;5;241m=\u001b[39m \u001b[38;5;241m1\u001b[39m\n\u001b[0;32m---> 90\u001b[0m \u001b[38;5;28;01mreturn\u001b[39;00m \u001b[43m_bootstrap\u001b[49m\u001b[38;5;241;43m.\u001b[39;49m\u001b[43m_gcd_import\u001b[49m\u001b[43m(\u001b[49m\u001b[43mname\u001b[49m\u001b[43m[\u001b[49m\u001b[43mlevel\u001b[49m\u001b[43m:\u001b[49m\u001b[43m]\u001b[49m\u001b[43m,\u001b[49m\u001b[43m \u001b[49m\u001b[43mpackage\u001b[49m\u001b[43m,\u001b[49m\u001b[43m \u001b[49m\u001b[43mlevel\u001b[49m\u001b[43m)\u001b[49m\n",
      "File \u001b[0;32m<frozen importlib._bootstrap>:1387\u001b[0m, in \u001b[0;36m_gcd_import\u001b[0;34m(name, package, level)\u001b[0m\n",
      "File \u001b[0;32m<frozen importlib._bootstrap>:1360\u001b[0m, in \u001b[0;36m_find_and_load\u001b[0;34m(name, import_)\u001b[0m\n",
      "File \u001b[0;32m<frozen importlib._bootstrap>:1324\u001b[0m, in \u001b[0;36m_find_and_load_unlocked\u001b[0;34m(name, import_)\u001b[0m\n",
      "\u001b[0;31mModuleNotFoundError\u001b[0m: No module named 'openpyxl'",
      "\nDuring handling of the above exception, another exception occurred:\n",
      "\u001b[0;31mImportError\u001b[0m                               Traceback (most recent call last)",
      "Cell \u001b[0;32mIn[1], line 12\u001b[0m\n\u001b[1;32m      9\u001b[0m who3 \u001b[38;5;241m=\u001b[39m pd\u001b[38;5;241m.\u001b[39mread_csv(\u001b[38;5;124m\"\u001b[39m\u001b[38;5;124m../data/raw/HFADataset/HFA Data (table) part 3.csv\u001b[39m\u001b[38;5;124m\"\u001b[39m, low_memory\u001b[38;5;241m=\u001b[39m\u001b[38;5;28;01mFalse\u001b[39;00m)\n\u001b[1;32m     10\u001b[0m who \u001b[38;5;241m=\u001b[39m pd\u001b[38;5;241m.\u001b[39mconcat([who1, who2, who3], axis\u001b[38;5;241m=\u001b[39m\u001b[38;5;241m0\u001b[39m)\n\u001b[0;32m---> 12\u001b[0m label \u001b[38;5;241m=\u001b[39m \u001b[43mpd\u001b[49m\u001b[38;5;241;43m.\u001b[39;49m\u001b[43mread_excel\u001b[49m\u001b[43m(\u001b[49m\u001b[38;5;124;43m\"\u001b[39;49m\u001b[38;5;124;43m../data/raw/HFADataset/HFA Metadata.xlsx\u001b[39;49m\u001b[38;5;124;43m\"\u001b[39;49m\u001b[43m,\u001b[49m\u001b[43m \u001b[49m\u001b[43msheet_name\u001b[49m\u001b[38;5;241;43m=\u001b[39;49m\u001b[38;5;124;43m\"\u001b[39;49m\u001b[38;5;124;43mLabels\u001b[39;49m\u001b[38;5;124;43m\"\u001b[39;49m\u001b[43m,\u001b[49m\u001b[43m \u001b[49m\u001b[43mheader\u001b[49m\u001b[38;5;241;43m=\u001b[39;49m\u001b[38;5;241;43m1\u001b[39;49m\u001b[43m)\u001b[49m\n\u001b[1;32m     14\u001b[0m eu_member \u001b[38;5;241m=\u001b[39m pd\u001b[38;5;241m.\u001b[39mread_excel(\u001b[38;5;124m\"\u001b[39m\u001b[38;5;124m../data/raw/HFADataset/HFA Metadata.xlsx\u001b[39m\u001b[38;5;124m\"\u001b[39m, sheet_name\u001b[38;5;241m=\u001b[39m\u001b[38;5;124m\"\u001b[39m\u001b[38;5;124mCountry groups mapping\u001b[39m\u001b[38;5;124m\"\u001b[39m, header\u001b[38;5;241m=\u001b[39m\u001b[38;5;241m1\u001b[39m)\n\u001b[1;32m     15\u001b[0m eu_member \u001b[38;5;241m=\u001b[39m eu_member[[\u001b[38;5;124m'\u001b[39m\u001b[38;5;124mCountry short name\u001b[39m\u001b[38;5;124m'\u001b[39m,\u001b[38;5;124m'\u001b[39m\u001b[38;5;124mUnnamed: 1\u001b[39m\u001b[38;5;124m'\u001b[39m,\u001b[38;5;124m'\u001b[39m\u001b[38;5;124mEU_MEMBERS\u001b[39m\u001b[38;5;124m'\u001b[39m]]\n",
      "File \u001b[0;32m~/Documents/ironhack/course/week_3/week3_project/.venv/lib/python3.12/site-packages/pandas/io/excel/_base.py:495\u001b[0m, in \u001b[0;36mread_excel\u001b[0;34m(io, sheet_name, header, names, index_col, usecols, dtype, engine, converters, true_values, false_values, skiprows, nrows, na_values, keep_default_na, na_filter, verbose, parse_dates, date_parser, date_format, thousands, decimal, comment, skipfooter, storage_options, dtype_backend, engine_kwargs)\u001b[0m\n\u001b[1;32m    493\u001b[0m \u001b[38;5;28;01mif\u001b[39;00m \u001b[38;5;129;01mnot\u001b[39;00m \u001b[38;5;28misinstance\u001b[39m(io, ExcelFile):\n\u001b[1;32m    494\u001b[0m     should_close \u001b[38;5;241m=\u001b[39m \u001b[38;5;28;01mTrue\u001b[39;00m\n\u001b[0;32m--> 495\u001b[0m     io \u001b[38;5;241m=\u001b[39m \u001b[43mExcelFile\u001b[49m\u001b[43m(\u001b[49m\n\u001b[1;32m    496\u001b[0m \u001b[43m        \u001b[49m\u001b[43mio\u001b[49m\u001b[43m,\u001b[49m\n\u001b[1;32m    497\u001b[0m \u001b[43m        \u001b[49m\u001b[43mstorage_options\u001b[49m\u001b[38;5;241;43m=\u001b[39;49m\u001b[43mstorage_options\u001b[49m\u001b[43m,\u001b[49m\n\u001b[1;32m    498\u001b[0m \u001b[43m        \u001b[49m\u001b[43mengine\u001b[49m\u001b[38;5;241;43m=\u001b[39;49m\u001b[43mengine\u001b[49m\u001b[43m,\u001b[49m\n\u001b[1;32m    499\u001b[0m \u001b[43m        \u001b[49m\u001b[43mengine_kwargs\u001b[49m\u001b[38;5;241;43m=\u001b[39;49m\u001b[43mengine_kwargs\u001b[49m\u001b[43m,\u001b[49m\n\u001b[1;32m    500\u001b[0m \u001b[43m    \u001b[49m\u001b[43m)\u001b[49m\n\u001b[1;32m    501\u001b[0m \u001b[38;5;28;01melif\u001b[39;00m engine \u001b[38;5;129;01mand\u001b[39;00m engine \u001b[38;5;241m!=\u001b[39m io\u001b[38;5;241m.\u001b[39mengine:\n\u001b[1;32m    502\u001b[0m     \u001b[38;5;28;01mraise\u001b[39;00m \u001b[38;5;167;01mValueError\u001b[39;00m(\n\u001b[1;32m    503\u001b[0m         \u001b[38;5;124m\"\u001b[39m\u001b[38;5;124mEngine should not be specified when passing \u001b[39m\u001b[38;5;124m\"\u001b[39m\n\u001b[1;32m    504\u001b[0m         \u001b[38;5;124m\"\u001b[39m\u001b[38;5;124man ExcelFile - ExcelFile already has the engine set\u001b[39m\u001b[38;5;124m\"\u001b[39m\n\u001b[1;32m    505\u001b[0m     )\n",
      "File \u001b[0;32m~/Documents/ironhack/course/week_3/week3_project/.venv/lib/python3.12/site-packages/pandas/io/excel/_base.py:1567\u001b[0m, in \u001b[0;36mExcelFile.__init__\u001b[0;34m(self, path_or_buffer, engine, storage_options, engine_kwargs)\u001b[0m\n\u001b[1;32m   1564\u001b[0m \u001b[38;5;28mself\u001b[39m\u001b[38;5;241m.\u001b[39mengine \u001b[38;5;241m=\u001b[39m engine\n\u001b[1;32m   1565\u001b[0m \u001b[38;5;28mself\u001b[39m\u001b[38;5;241m.\u001b[39mstorage_options \u001b[38;5;241m=\u001b[39m storage_options\n\u001b[0;32m-> 1567\u001b[0m \u001b[38;5;28mself\u001b[39m\u001b[38;5;241m.\u001b[39m_reader \u001b[38;5;241m=\u001b[39m \u001b[38;5;28;43mself\u001b[39;49m\u001b[38;5;241;43m.\u001b[39;49m\u001b[43m_engines\u001b[49m\u001b[43m[\u001b[49m\u001b[43mengine\u001b[49m\u001b[43m]\u001b[49m\u001b[43m(\u001b[49m\n\u001b[1;32m   1568\u001b[0m \u001b[43m    \u001b[49m\u001b[38;5;28;43mself\u001b[39;49m\u001b[38;5;241;43m.\u001b[39;49m\u001b[43m_io\u001b[49m\u001b[43m,\u001b[49m\n\u001b[1;32m   1569\u001b[0m \u001b[43m    \u001b[49m\u001b[43mstorage_options\u001b[49m\u001b[38;5;241;43m=\u001b[39;49m\u001b[43mstorage_options\u001b[49m\u001b[43m,\u001b[49m\n\u001b[1;32m   1570\u001b[0m \u001b[43m    \u001b[49m\u001b[43mengine_kwargs\u001b[49m\u001b[38;5;241;43m=\u001b[39;49m\u001b[43mengine_kwargs\u001b[49m\u001b[43m,\u001b[49m\n\u001b[1;32m   1571\u001b[0m \u001b[43m\u001b[49m\u001b[43m)\u001b[49m\n",
      "File \u001b[0;32m~/Documents/ironhack/course/week_3/week3_project/.venv/lib/python3.12/site-packages/pandas/io/excel/_openpyxl.py:552\u001b[0m, in \u001b[0;36mOpenpyxlReader.__init__\u001b[0;34m(self, filepath_or_buffer, storage_options, engine_kwargs)\u001b[0m\n\u001b[1;32m    534\u001b[0m \u001b[38;5;129m@doc\u001b[39m(storage_options\u001b[38;5;241m=\u001b[39m_shared_docs[\u001b[38;5;124m\"\u001b[39m\u001b[38;5;124mstorage_options\u001b[39m\u001b[38;5;124m\"\u001b[39m])\n\u001b[1;32m    535\u001b[0m \u001b[38;5;28;01mdef\u001b[39;00m \u001b[38;5;21m__init__\u001b[39m(\n\u001b[1;32m    536\u001b[0m     \u001b[38;5;28mself\u001b[39m,\n\u001b[0;32m   (...)\u001b[0m\n\u001b[1;32m    539\u001b[0m     engine_kwargs: \u001b[38;5;28mdict\u001b[39m \u001b[38;5;241m|\u001b[39m \u001b[38;5;28;01mNone\u001b[39;00m \u001b[38;5;241m=\u001b[39m \u001b[38;5;28;01mNone\u001b[39;00m,\n\u001b[1;32m    540\u001b[0m ) \u001b[38;5;241m-\u001b[39m\u001b[38;5;241m>\u001b[39m \u001b[38;5;28;01mNone\u001b[39;00m:\n\u001b[1;32m    541\u001b[0m \u001b[38;5;250m    \u001b[39m\u001b[38;5;124;03m\"\"\"\u001b[39;00m\n\u001b[1;32m    542\u001b[0m \u001b[38;5;124;03m    Reader using openpyxl engine.\u001b[39;00m\n\u001b[1;32m    543\u001b[0m \n\u001b[0;32m   (...)\u001b[0m\n\u001b[1;32m    550\u001b[0m \u001b[38;5;124;03m        Arbitrary keyword arguments passed to excel engine.\u001b[39;00m\n\u001b[1;32m    551\u001b[0m \u001b[38;5;124;03m    \"\"\"\u001b[39;00m\n\u001b[0;32m--> 552\u001b[0m     \u001b[43mimport_optional_dependency\u001b[49m\u001b[43m(\u001b[49m\u001b[38;5;124;43m\"\u001b[39;49m\u001b[38;5;124;43mopenpyxl\u001b[39;49m\u001b[38;5;124;43m\"\u001b[39;49m\u001b[43m)\u001b[49m\n\u001b[1;32m    553\u001b[0m     \u001b[38;5;28msuper\u001b[39m()\u001b[38;5;241m.\u001b[39m\u001b[38;5;21m__init__\u001b[39m(\n\u001b[1;32m    554\u001b[0m         filepath_or_buffer,\n\u001b[1;32m    555\u001b[0m         storage_options\u001b[38;5;241m=\u001b[39mstorage_options,\n\u001b[1;32m    556\u001b[0m         engine_kwargs\u001b[38;5;241m=\u001b[39mengine_kwargs,\n\u001b[1;32m    557\u001b[0m     )\n",
      "File \u001b[0;32m~/Documents/ironhack/course/week_3/week3_project/.venv/lib/python3.12/site-packages/pandas/compat/_optional.py:138\u001b[0m, in \u001b[0;36mimport_optional_dependency\u001b[0;34m(name, extra, errors, min_version)\u001b[0m\n\u001b[1;32m    136\u001b[0m \u001b[38;5;28;01mexcept\u001b[39;00m \u001b[38;5;167;01mImportError\u001b[39;00m:\n\u001b[1;32m    137\u001b[0m     \u001b[38;5;28;01mif\u001b[39;00m errors \u001b[38;5;241m==\u001b[39m \u001b[38;5;124m\"\u001b[39m\u001b[38;5;124mraise\u001b[39m\u001b[38;5;124m\"\u001b[39m:\n\u001b[0;32m--> 138\u001b[0m         \u001b[38;5;28;01mraise\u001b[39;00m \u001b[38;5;167;01mImportError\u001b[39;00m(msg)\n\u001b[1;32m    139\u001b[0m     \u001b[38;5;28;01mreturn\u001b[39;00m \u001b[38;5;28;01mNone\u001b[39;00m\n\u001b[1;32m    141\u001b[0m \u001b[38;5;66;03m# Handle submodules: if we have submodule, grab parent module from sys.modules\u001b[39;00m\n",
      "\u001b[0;31mImportError\u001b[0m: Missing optional dependency 'openpyxl'.  Use pip or conda to install openpyxl."
     ]
    }
   ],
   "source": [
    "import pandas as pd\n",
    "import numpy as np\n",
    "import plotly.express as px\n",
    "import os\n",
    "\n",
    "# Importing datasets\n",
    "who1 = pd.read_csv(\"../data/raw/HFADataset/HFA Data (table) part 1.csv\", low_memory=False)\n",
    "who2 = pd.read_csv(\"../data/raw/HFADataset/HFA Data (table) part 2.csv\", low_memory=False)\n",
    "who3 = pd.read_csv(\"../data/raw/HFADataset/HFA Data (table) part 3.csv\", low_memory=False)\n",
    "who = pd.concat([who1, who2, who3], axis=0)\n",
    "\n",
    "label = pd.read_excel(\"../data/raw/HFADataset/HFA Metadata.xlsx\", sheet_name=\"Labels\", header=1)\n",
    "\n",
    "eu_member = pd.read_excel(\"../data/raw/HFADataset/HFA Metadata.xlsx\", sheet_name=\"Country groups mapping\", header=1)\n",
    "eu_member = eu_member[['Country short name','Unnamed: 1','EU_MEMBERS']]\n",
    "eu_member.columns = ['Country short name','COUNTRY_REGION','EU_MEMBERS']\n",
    "eu_countries = eu_member.COUNTRY_REGION[eu_member['EU_MEMBERS']=='yes']\n",
    "\n",
    "pop = pd.read_csv(\"../data/raw/WB/API_SP.POP.TOTL_DS2_en_csv_v2_3401680.csv\", low_memory=False, header=2)\n",
    "pop = pop[['Country Name', 'Country Code','2018']]\n",
    "pop.columns = ['Country Name', 'COUNTRY_REGION', 'Population']"
   ]
  },
  {
   "cell_type": "code",
   "execution_count": 2,
   "metadata": {},
   "outputs": [],
   "source": [
    "# Collecting relevant variables\n",
    "\n",
    "# Mental disorders\n",
    "#HFA_387\tIncidence of mental disorders per 100 000\n",
    "#HFA_388\tNumber of new cases of mental disorders\n",
    "\n",
    "# GDP\n",
    "# HFA_32\tGross national income, US$ per capita\n",
    "# HFA_33\tGross domestic product (GDP), US$ per capita\n",
    "\n",
    "variables = [\"HFA_387\", \"HFA_388\", \"HFA_32\", \"HFA_33\"]\n",
    "data = who[(who['Measure code'].isin(variables)) & (who['COUNTRY_REGION'].isin(eu_countries))]"
   ]
  },
  {
   "cell_type": "code",
   "execution_count": 37,
   "metadata": {},
   "outputs": [],
   "source": [
    "# Data Visualization\n",
    "\n",
    "# Creating a line plot with multiple lines (EU Countries)\n",
    "\n",
    "#HFA_387\tIncidence of mental disorders per 100 000 by EU Countries\n",
    "HFA_387 = data[(data['Measure code']==\"HFA_387\")]\n",
    "\n",
    "fig = px.line(HFA_387, x='YEAR', y='VALUE', color='COUNTRY_REGION', title='Incidence of mental disorders per 100 000')\n",
    "\n",
    "# Show the figure\n",
    "fig.write_html('first_figure.html', auto_open=True)\n",
    "fig.write_image(\"../figures/mental_eu.png\",)"
   ]
  },
  {
   "cell_type": "code",
   "execution_count": 44,
   "metadata": {},
   "outputs": [
    {
     "name": "stdout",
     "output_type": "stream",
     "text": [
      "Incidence of mental disorders per 100 000\n"
     ]
    },
    {
     "data": {
      "text/html": [
       "<div>\n",
       "<style scoped>\n",
       "    .dataframe tbody tr th:only-of-type {\n",
       "        vertical-align: middle;\n",
       "    }\n",
       "\n",
       "    .dataframe tbody tr th {\n",
       "        vertical-align: top;\n",
       "    }\n",
       "\n",
       "    .dataframe thead th {\n",
       "        text-align: right;\n",
       "    }\n",
       "</style>\n",
       "<table border=\"1\" class=\"dataframe\">\n",
       "  <thead>\n",
       "    <tr style=\"text-align: right;\">\n",
       "      <th></th>\n",
       "      <th>COUNTRY_REGION</th>\n",
       "      <th>VALUE</th>\n",
       "    </tr>\n",
       "  </thead>\n",
       "  <tbody>\n",
       "    <tr>\n",
       "      <th>320185</th>\n",
       "      <td>LTU</td>\n",
       "      <td>5205.41</td>\n",
       "    </tr>\n",
       "    <tr>\n",
       "      <th>319854</th>\n",
       "      <td>EST</td>\n",
       "      <td>1586.03</td>\n",
       "    </tr>\n",
       "    <tr>\n",
       "      <th>319778</th>\n",
       "      <td>DEU</td>\n",
       "      <td>1463.54</td>\n",
       "    </tr>\n",
       "    <tr>\n",
       "      <th>320392</th>\n",
       "      <td>SVK</td>\n",
       "      <td>1118.97</td>\n",
       "    </tr>\n",
       "    <tr>\n",
       "      <th>320320</th>\n",
       "      <td>ROU</td>\n",
       "      <td>1058.57</td>\n",
       "    </tr>\n",
       "  </tbody>\n",
       "</table>\n",
       "</div>"
      ],
      "text/plain": [
       "       COUNTRY_REGION    VALUE\n",
       "320185            LTU  5205.41\n",
       "319854            EST  1586.03\n",
       "319778            DEU  1463.54\n",
       "320392            SVK  1118.97\n",
       "320320            ROU  1058.57"
      ]
     },
     "execution_count": 44,
     "metadata": {},
     "output_type": "execute_result"
    }
   ],
   "source": [
    "print('Incidence of mental disorders per 100 000')\n",
    "data[[\"COUNTRY_REGION\",\"VALUE\"]][(data[\"Measure code\"]==\"HFA_387\") & (data[\"YEAR\"]==2020)].sort_values(by=\"VALUE\", ascending=False).head()"
   ]
  },
  {
   "cell_type": "code",
   "execution_count": 39,
   "metadata": {},
   "outputs": [
    {
     "name": "stdout",
     "output_type": "stream",
     "text": [
      "Number of new cases of mental disorders\n"
     ]
    },
    {
     "data": {
      "text/html": [
       "<div>\n",
       "<style scoped>\n",
       "    .dataframe tbody tr th:only-of-type {\n",
       "        vertical-align: middle;\n",
       "    }\n",
       "\n",
       "    .dataframe tbody tr th {\n",
       "        vertical-align: top;\n",
       "    }\n",
       "\n",
       "    .dataframe thead th {\n",
       "        text-align: right;\n",
       "    }\n",
       "</style>\n",
       "<table border=\"1\" class=\"dataframe\">\n",
       "  <thead>\n",
       "    <tr style=\"text-align: right;\">\n",
       "      <th></th>\n",
       "      <th>COUNTRY_REGION</th>\n",
       "      <th>VALUE</th>\n",
       "    </tr>\n",
       "  </thead>\n",
       "  <tbody>\n",
       "    <tr>\n",
       "      <th>320765</th>\n",
       "      <td>DEU</td>\n",
       "      <td>1177788.0</td>\n",
       "    </tr>\n",
       "    <tr>\n",
       "      <th>321247</th>\n",
       "      <td>POL</td>\n",
       "      <td>360402.0</td>\n",
       "    </tr>\n",
       "    <tr>\n",
       "      <th>321275</th>\n",
       "      <td>ROU</td>\n",
       "      <td>234521.0</td>\n",
       "    </tr>\n",
       "    <tr>\n",
       "      <th>321010</th>\n",
       "      <td>ITA</td>\n",
       "      <td>232376.0</td>\n",
       "    </tr>\n",
       "    <tr>\n",
       "      <th>321135</th>\n",
       "      <td>LTU</td>\n",
       "      <td>145472.0</td>\n",
       "    </tr>\n",
       "  </tbody>\n",
       "</table>\n",
       "</div>"
      ],
      "text/plain": [
       "       COUNTRY_REGION      VALUE\n",
       "320765            DEU  1177788.0\n",
       "321247            POL   360402.0\n",
       "321275            ROU   234521.0\n",
       "321010            ITA   232376.0\n",
       "321135            LTU   145472.0"
      ]
     },
     "execution_count": 39,
     "metadata": {},
     "output_type": "execute_result"
    }
   ],
   "source": [
    "print('Number of new cases of mental disorders')\n",
    "data[[\"COUNTRY_REGION\",\"VALUE\"]][(data[\"Measure code\"]==\"HFA_388\") & (data[\"YEAR\"]==2020)].sort_values(by=\"VALUE\", ascending=False).head().round()"
   ]
  },
  {
   "cell_type": "code",
   "execution_count": 46,
   "metadata": {},
   "outputs": [],
   "source": [
    "# Create a bubble chart (GDP & Mental disorder & Population)\n",
    "\n",
    "HFA_33 = data[(data['Measure code']==\"HFA_33\")]\n",
    "HFA_33 = HFA_33[['COUNTRY_REGION','YEAR','VALUE']]\n",
    "HFA_33.columns = ['COUNTRY_REGION','YEAR','GDP_per_Capita']\n",
    "HFA_33['ln_GDP_per_Capita'] = HFA_33['GDP_per_Capita'].apply(lambda x: np.log(x))\n",
    "GDP_mental=pd.merge(HFA_33, HFA_387, on=[\"COUNTRY_REGION\",\"YEAR\"])\n",
    "GDP_mental=GDP_mental.drop([\"Measure code\",\"SEX\",\"PLACE_RESIDENCE\",\"YES_NO\"], axis=1)\n",
    "GDP_mental.columns = [\"COUNTRY_REGION\", \"YEAR\", \"GDP_per_Capita\",\"ln_GDP_per_Capita\",\"Mental_disorder\"]\n",
    "GDP_mental = GDP_mental[GDP_mental[\"YEAR\"]==2018]\n",
    "GDP_mental_pop=pd.merge(GDP_mental, pop, on=[\"COUNTRY_REGION\"])\n",
    "\n",
    "fig = px.scatter(GDP_mental_pop,x=\"GDP_per_Capita\", y=\"Mental_disorder\", color=\"Country Name\",title='GDP and Mental disorders',\n",
    "                 size=\"Population\", hover_name=\"Country Name\", log_x=True,size_max=50)\n",
    "\n",
    "#fig.update_layout(font=dict(size=26))\n",
    "fig.write_html('first_figure.html', auto_open=True)\n",
    "#fig.show()\n",
    "fig.write_image(\"../figures/mental_GDP_pop.png\")"
   ]
  },
  {
   "cell_type": "code",
   "execution_count": 121,
   "metadata": {},
   "outputs": [],
   "source": [
    "# Create a scatter plot (GNI & Mental disorder)\n",
    "\n",
    "HFA_32 = data[(data['Measure code']==\"HFA_32\")]\n",
    "HFA_32 = HFA_32[['COUNTRY_REGION','YEAR','VALUE']]\n",
    "HFA_32.columns = ['COUNTRY_REGION','YEAR','GNI_per_Capita']\n",
    "HFA_32['ln_GNI_per_Capita'] = HFA_32['GNI_per_Capita'].apply(lambda x: np.log(x))\n",
    "GNI_mental=pd.merge(HFA_32, HFA_387, on=[\"COUNTRY_REGION\",\"YEAR\"])\n",
    "GNI_mental=GNI_mental.drop([\"Measure code\",\"SEX\",\"PLACE_RESIDENCE\",\"YES_NO\"], axis=1)\n",
    "GNI_mental.columns = [\"COUNTRY_REGION\", \"YEAR\", \"GNI_per_Capita\",\"ln_GNI_per_Capita\",\"Mental_disorder\"]\n",
    "\n",
    "fig = px.scatter(GNI_mental.query(\"YEAR==2020\"),x=\"GNI_per_Capita\", y=\"Mental_disorder\", color='COUNTRY_REGION', log_x=True)\n",
    "fig.write_html('first_figure.html', auto_open=True)\n",
    "#fig.show()"
   ]
  }
 ],
 "metadata": {
  "kernelspec": {
   "display_name": "venv",
   "language": "python",
   "name": "venv"
  },
  "language_info": {
   "codemirror_mode": {
    "name": "ipython",
    "version": 3
   },
   "file_extension": ".py",
   "mimetype": "text/x-python",
   "name": "python",
   "nbconvert_exporter": "python",
   "pygments_lexer": "ipython3",
   "version": "3.12.2"
  }
 },
 "nbformat": 4,
 "nbformat_minor": 4
}
