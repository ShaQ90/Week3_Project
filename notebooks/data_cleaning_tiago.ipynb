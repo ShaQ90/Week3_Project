{
 "cells": [
  {
   "cell_type": "code",
   "execution_count": null,
   "id": "e8df6d33-4b23-4916-b4f8-f7ca4f4ea561",
   "metadata": {},
   "outputs": [],
   "source": [
    "import pandas as pd\n",
    "import os\n"
   ]
  },
  {
   "cell_type": "code",
   "execution_count": null,
   "id": "0fc80625-d9b8-4278-9b30-951ad2d91a46",
   "metadata": {},
   "outputs": [],
   "source": [
    "df = pd.read_csv(\"/home/tiago/Documents/GitHub/Projects/week3_project/data/raw/depression_data.csv\")"
   ]
  },
  {
   "cell_type": "code",
   "execution_count": null,
   "id": "757f558f-86fa-47df-a7d7-7a2ddd01393f",
   "metadata": {},
   "outputs": [],
   "source": [
    "df"
   ]
  },
  {
   "cell_type": "code",
   "execution_count": null,
   "id": "4132f395-5e0a-438e-9b8b-b99776ff0b24",
   "metadata": {},
   "outputs": [],
   "source": []
  }
 ],
 "metadata": {
  "kernelspec": {
   "display_name": "venv",
   "language": "python",
   "name": "venv"
  },
  "language_info": {
   "codemirror_mode": {
    "name": "ipython",
    "version": 3
   },
   "file_extension": ".py",
   "mimetype": "text/x-python",
   "name": "python",
   "nbconvert_exporter": "python",
   "pygments_lexer": "ipython3",
   "version": "3.12.4"
  }
 },
 "nbformat": 4,
 "nbformat_minor": 5
}
