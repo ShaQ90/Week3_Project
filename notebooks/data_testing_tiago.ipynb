{
 "cells": [
  {
   "cell_type": "code",
   "execution_count": 2,
   "id": "523ea53b-cdc4-41bc-bbcf-5aa117ef771c",
   "metadata": {},
   "outputs": [],
   "source": [
    "import pandas as pd\n",
    "import functions as func\n",
    "import matplotlib.pyplot as plt\n",
    "\n",
    "df = pd.read_csv(\"../data/raw/depression_data.csv\")"
   ]
  },
  {
   "cell_type": "code",
   "execution_count": 3,
   "id": "bf11c04f-1480-42f4-8bda-b368d0514540",
   "metadata": {},
   "outputs": [
    {
     "data": {
      "text/html": [
       "<div>\n",
       "<style scoped>\n",
       "    .dataframe tbody tr th:only-of-type {\n",
       "        vertical-align: middle;\n",
       "    }\n",
       "\n",
       "    .dataframe tbody tr th {\n",
       "        vertical-align: top;\n",
       "    }\n",
       "\n",
       "    .dataframe thead th {\n",
       "        text-align: right;\n",
       "    }\n",
       "</style>\n",
       "<table border=\"1\" class=\"dataframe\">\n",
       "  <thead>\n",
       "    <tr style=\"text-align: right;\">\n",
       "      <th></th>\n",
       "      <th>Name</th>\n",
       "      <th>Age</th>\n",
       "      <th>Marital Status</th>\n",
       "      <th>Education Level</th>\n",
       "      <th>Number of Children</th>\n",
       "      <th>Smoking Status</th>\n",
       "      <th>Physical Activity Level</th>\n",
       "      <th>Employment Status</th>\n",
       "      <th>Income</th>\n",
       "      <th>Alcohol Consumption</th>\n",
       "      <th>Dietary Habits</th>\n",
       "      <th>Sleep Patterns</th>\n",
       "      <th>History of Mental Illness</th>\n",
       "      <th>History of Substance Abuse</th>\n",
       "      <th>Family History of Depression</th>\n",
       "      <th>Chronic Medical Conditions</th>\n",
       "    </tr>\n",
       "  </thead>\n",
       "  <tbody>\n",
       "    <tr>\n",
       "      <th>0</th>\n",
       "      <td>Christine Barker</td>\n",
       "      <td>31</td>\n",
       "      <td>Married</td>\n",
       "      <td>Bachelor's Degree</td>\n",
       "      <td>2</td>\n",
       "      <td>Non-smoker</td>\n",
       "      <td>Active</td>\n",
       "      <td>Unemployed</td>\n",
       "      <td>26265.67</td>\n",
       "      <td>Moderate</td>\n",
       "      <td>Moderate</td>\n",
       "      <td>Fair</td>\n",
       "      <td>Yes</td>\n",
       "      <td>No</td>\n",
       "      <td>Yes</td>\n",
       "      <td>Yes</td>\n",
       "    </tr>\n",
       "    <tr>\n",
       "      <th>1</th>\n",
       "      <td>Jacqueline Lewis</td>\n",
       "      <td>55</td>\n",
       "      <td>Married</td>\n",
       "      <td>High School</td>\n",
       "      <td>1</td>\n",
       "      <td>Non-smoker</td>\n",
       "      <td>Sedentary</td>\n",
       "      <td>Employed</td>\n",
       "      <td>42710.36</td>\n",
       "      <td>High</td>\n",
       "      <td>Unhealthy</td>\n",
       "      <td>Fair</td>\n",
       "      <td>Yes</td>\n",
       "      <td>No</td>\n",
       "      <td>No</td>\n",
       "      <td>Yes</td>\n",
       "    </tr>\n",
       "    <tr>\n",
       "      <th>2</th>\n",
       "      <td>Shannon Church</td>\n",
       "      <td>78</td>\n",
       "      <td>Widowed</td>\n",
       "      <td>Master's Degree</td>\n",
       "      <td>1</td>\n",
       "      <td>Non-smoker</td>\n",
       "      <td>Sedentary</td>\n",
       "      <td>Employed</td>\n",
       "      <td>125332.79</td>\n",
       "      <td>Low</td>\n",
       "      <td>Unhealthy</td>\n",
       "      <td>Good</td>\n",
       "      <td>No</td>\n",
       "      <td>No</td>\n",
       "      <td>Yes</td>\n",
       "      <td>No</td>\n",
       "    </tr>\n",
       "    <tr>\n",
       "      <th>3</th>\n",
       "      <td>Charles Jordan</td>\n",
       "      <td>58</td>\n",
       "      <td>Divorced</td>\n",
       "      <td>Master's Degree</td>\n",
       "      <td>3</td>\n",
       "      <td>Non-smoker</td>\n",
       "      <td>Moderate</td>\n",
       "      <td>Unemployed</td>\n",
       "      <td>9992.78</td>\n",
       "      <td>Moderate</td>\n",
       "      <td>Moderate</td>\n",
       "      <td>Poor</td>\n",
       "      <td>No</td>\n",
       "      <td>No</td>\n",
       "      <td>No</td>\n",
       "      <td>No</td>\n",
       "    </tr>\n",
       "    <tr>\n",
       "      <th>4</th>\n",
       "      <td>Michael Rich</td>\n",
       "      <td>18</td>\n",
       "      <td>Single</td>\n",
       "      <td>High School</td>\n",
       "      <td>0</td>\n",
       "      <td>Non-smoker</td>\n",
       "      <td>Sedentary</td>\n",
       "      <td>Unemployed</td>\n",
       "      <td>8595.08</td>\n",
       "      <td>Low</td>\n",
       "      <td>Moderate</td>\n",
       "      <td>Fair</td>\n",
       "      <td>Yes</td>\n",
       "      <td>No</td>\n",
       "      <td>Yes</td>\n",
       "      <td>Yes</td>\n",
       "    </tr>\n",
       "    <tr>\n",
       "      <th>...</th>\n",
       "      <td>...</td>\n",
       "      <td>...</td>\n",
       "      <td>...</td>\n",
       "      <td>...</td>\n",
       "      <td>...</td>\n",
       "      <td>...</td>\n",
       "      <td>...</td>\n",
       "      <td>...</td>\n",
       "      <td>...</td>\n",
       "      <td>...</td>\n",
       "      <td>...</td>\n",
       "      <td>...</td>\n",
       "      <td>...</td>\n",
       "      <td>...</td>\n",
       "      <td>...</td>\n",
       "      <td>...</td>\n",
       "    </tr>\n",
       "    <tr>\n",
       "      <th>413763</th>\n",
       "      <td>Sean Miller</td>\n",
       "      <td>68</td>\n",
       "      <td>Married</td>\n",
       "      <td>Master's Degree</td>\n",
       "      <td>0</td>\n",
       "      <td>Former</td>\n",
       "      <td>Moderate</td>\n",
       "      <td>Employed</td>\n",
       "      <td>109233.43</td>\n",
       "      <td>Low</td>\n",
       "      <td>Healthy</td>\n",
       "      <td>Good</td>\n",
       "      <td>No</td>\n",
       "      <td>No</td>\n",
       "      <td>No</td>\n",
       "      <td>No</td>\n",
       "    </tr>\n",
       "    <tr>\n",
       "      <th>413764</th>\n",
       "      <td>Christina Brown</td>\n",
       "      <td>26</td>\n",
       "      <td>Single</td>\n",
       "      <td>Bachelor's Degree</td>\n",
       "      <td>0</td>\n",
       "      <td>Current</td>\n",
       "      <td>Active</td>\n",
       "      <td>Employed</td>\n",
       "      <td>96760.97</td>\n",
       "      <td>Low</td>\n",
       "      <td>Healthy</td>\n",
       "      <td>Poor</td>\n",
       "      <td>Yes</td>\n",
       "      <td>Yes</td>\n",
       "      <td>No</td>\n",
       "      <td>Yes</td>\n",
       "    </tr>\n",
       "    <tr>\n",
       "      <th>413765</th>\n",
       "      <td>Matthew Jenkins</td>\n",
       "      <td>57</td>\n",
       "      <td>Married</td>\n",
       "      <td>Bachelor's Degree</td>\n",
       "      <td>0</td>\n",
       "      <td>Non-smoker</td>\n",
       "      <td>Sedentary</td>\n",
       "      <td>Employed</td>\n",
       "      <td>77353.26</td>\n",
       "      <td>Moderate</td>\n",
       "      <td>Moderate</td>\n",
       "      <td>Fair</td>\n",
       "      <td>No</td>\n",
       "      <td>No</td>\n",
       "      <td>Yes</td>\n",
       "      <td>Yes</td>\n",
       "    </tr>\n",
       "    <tr>\n",
       "      <th>413766</th>\n",
       "      <td>Gary Faulkner</td>\n",
       "      <td>71</td>\n",
       "      <td>Married</td>\n",
       "      <td>Associate Degree</td>\n",
       "      <td>2</td>\n",
       "      <td>Non-smoker</td>\n",
       "      <td>Sedentary</td>\n",
       "      <td>Unemployed</td>\n",
       "      <td>24557.08</td>\n",
       "      <td>Moderate</td>\n",
       "      <td>Moderate</td>\n",
       "      <td>Poor</td>\n",
       "      <td>No</td>\n",
       "      <td>Yes</td>\n",
       "      <td>No</td>\n",
       "      <td>No</td>\n",
       "    </tr>\n",
       "    <tr>\n",
       "      <th>413767</th>\n",
       "      <td>Joseph Johnson</td>\n",
       "      <td>62</td>\n",
       "      <td>Widowed</td>\n",
       "      <td>Master's Degree</td>\n",
       "      <td>0</td>\n",
       "      <td>Former</td>\n",
       "      <td>Moderate</td>\n",
       "      <td>Employed</td>\n",
       "      <td>107125.74</td>\n",
       "      <td>Moderate</td>\n",
       "      <td>Healthy</td>\n",
       "      <td>Good</td>\n",
       "      <td>No</td>\n",
       "      <td>Yes</td>\n",
       "      <td>No</td>\n",
       "      <td>No</td>\n",
       "    </tr>\n",
       "  </tbody>\n",
       "</table>\n",
       "<p>413768 rows × 16 columns</p>\n",
       "</div>"
      ],
      "text/plain": [
       "                    Name  Age Marital Status    Education Level  \\\n",
       "0       Christine Barker   31        Married  Bachelor's Degree   \n",
       "1       Jacqueline Lewis   55        Married        High School   \n",
       "2         Shannon Church   78        Widowed    Master's Degree   \n",
       "3         Charles Jordan   58       Divorced    Master's Degree   \n",
       "4           Michael Rich   18         Single        High School   \n",
       "...                  ...  ...            ...                ...   \n",
       "413763       Sean Miller   68        Married    Master's Degree   \n",
       "413764   Christina Brown   26         Single  Bachelor's Degree   \n",
       "413765   Matthew Jenkins   57        Married  Bachelor's Degree   \n",
       "413766     Gary Faulkner   71        Married   Associate Degree   \n",
       "413767    Joseph Johnson   62        Widowed    Master's Degree   \n",
       "\n",
       "        Number of Children Smoking Status Physical Activity Level  \\\n",
       "0                        2     Non-smoker                  Active   \n",
       "1                        1     Non-smoker               Sedentary   \n",
       "2                        1     Non-smoker               Sedentary   \n",
       "3                        3     Non-smoker                Moderate   \n",
       "4                        0     Non-smoker               Sedentary   \n",
       "...                    ...            ...                     ...   \n",
       "413763                   0         Former                Moderate   \n",
       "413764                   0        Current                  Active   \n",
       "413765                   0     Non-smoker               Sedentary   \n",
       "413766                   2     Non-smoker               Sedentary   \n",
       "413767                   0         Former                Moderate   \n",
       "\n",
       "       Employment Status     Income Alcohol Consumption Dietary Habits  \\\n",
       "0             Unemployed   26265.67            Moderate       Moderate   \n",
       "1               Employed   42710.36                High      Unhealthy   \n",
       "2               Employed  125332.79                 Low      Unhealthy   \n",
       "3             Unemployed    9992.78            Moderate       Moderate   \n",
       "4             Unemployed    8595.08                 Low       Moderate   \n",
       "...                  ...        ...                 ...            ...   \n",
       "413763          Employed  109233.43                 Low        Healthy   \n",
       "413764          Employed   96760.97                 Low        Healthy   \n",
       "413765          Employed   77353.26            Moderate       Moderate   \n",
       "413766        Unemployed   24557.08            Moderate       Moderate   \n",
       "413767          Employed  107125.74            Moderate        Healthy   \n",
       "\n",
       "       Sleep Patterns History of Mental Illness History of Substance Abuse  \\\n",
       "0                Fair                       Yes                         No   \n",
       "1                Fair                       Yes                         No   \n",
       "2                Good                        No                         No   \n",
       "3                Poor                        No                         No   \n",
       "4                Fair                       Yes                         No   \n",
       "...               ...                       ...                        ...   \n",
       "413763           Good                        No                         No   \n",
       "413764           Poor                       Yes                        Yes   \n",
       "413765           Fair                        No                         No   \n",
       "413766           Poor                        No                        Yes   \n",
       "413767           Good                        No                        Yes   \n",
       "\n",
       "       Family History of Depression Chronic Medical Conditions  \n",
       "0                               Yes                        Yes  \n",
       "1                                No                        Yes  \n",
       "2                               Yes                         No  \n",
       "3                                No                         No  \n",
       "4                               Yes                        Yes  \n",
       "...                             ...                        ...  \n",
       "413763                           No                         No  \n",
       "413764                           No                        Yes  \n",
       "413765                          Yes                        Yes  \n",
       "413766                           No                         No  \n",
       "413767                           No                         No  \n",
       "\n",
       "[413768 rows x 16 columns]"
      ]
     },
     "execution_count": 3,
     "metadata": {},
     "output_type": "execute_result"
    }
   ],
   "source": [
    "df"
   ]
  },
  {
   "cell_type": "code",
   "execution_count": 19,
   "id": "5215a833-7a5a-44b6-b0f6-adaf6fb8b5c0",
   "metadata": {},
   "outputs": [
    {
     "data": {
      "text/plain": [
       "Physical Activity Level\n",
       "Sedentary    176850\n",
       "Moderate     158013\n",
       "Active        78905\n",
       "Name: count, dtype: int64"
      ]
     },
     "execution_count": 19,
     "metadata": {},
     "output_type": "execute_result"
    }
   ],
   "source": [
    "df[\"Physical Activity Level\"].value_counts()"
   ]
  },
  {
   "cell_type": "code",
   "execution_count": 29,
   "id": "b9467ab2-0340-490a-beb4-47346e5adba2",
   "metadata": {},
   "outputs": [
    {
     "data": {
      "text/plain": [
       "Family History of Depression\n",
       "No     302515\n",
       "Yes    111253\n",
       "Name: count, dtype: int64"
      ]
     },
     "execution_count": 29,
     "metadata": {},
     "output_type": "execute_result"
    }
   ],
   "source": [
    "df[\"Family History of Depression\"].value_counts()"
   ]
  },
  {
   "cell_type": "code",
   "execution_count": 25,
   "id": "735cb6f9-964e-481f-8daf-2a9da5b3c357",
   "metadata": {},
   "outputs": [
    {
     "data": {
      "text/plain": [
       "Dietary Habits\n",
       "Unhealthy    170817\n",
       "Moderate     170446\n",
       "Healthy       72505\n",
       "Name: count, dtype: int64"
      ]
     },
     "execution_count": 25,
     "metadata": {},
     "output_type": "execute_result"
    }
   ],
   "source": [
    "df[\"Dietary Habits\"].value_counts()"
   ]
  },
  {
   "cell_type": "code",
   "execution_count": 27,
   "id": "63508c68-d3ce-4cc1-b1f9-7cadba92505b",
   "metadata": {},
   "outputs": [
    {
     "data": {
      "text/plain": [
       "Alcohol Consumption\n",
       "Moderate    173440\n",
       "Low         139250\n",
       "High        101078\n",
       "Name: count, dtype: int64"
      ]
     },
     "execution_count": 27,
     "metadata": {},
     "output_type": "execute_result"
    }
   ],
   "source": [
    "df[\"Alcohol Consumption\"].value_counts()"
   ]
  },
  {
   "cell_type": "code",
   "execution_count": 15,
   "id": "b5b889bb-12e9-4584-8860-45ea167ef057",
   "metadata": {},
   "outputs": [
    {
     "data": {
      "text/plain": [
       "Education Level\n",
       "Bachelor's Degree    124329\n",
       "High School          118927\n",
       "Associate Degree      79999\n",
       "Master's Degree       73768\n",
       "PhD                   16745\n",
       "Name: count, dtype: int64"
      ]
     },
     "execution_count": 15,
     "metadata": {},
     "output_type": "execute_result"
    }
   ],
   "source": [
    "df[\"Education Level\"].value_counts()"
   ]
  },
  {
   "cell_type": "code",
   "execution_count": 13,
   "id": "ded3f71b-b493-46b2-bf01-a5752c851e0d",
   "metadata": {},
   "outputs": [
    {
     "data": {
      "text/plain": [
       "Marital Status\n",
       "Married     240444\n",
       "Single       72110\n",
       "Widowed      68485\n",
       "Divorced     32729\n",
       "Name: count, dtype: int64"
      ]
     },
     "execution_count": 13,
     "metadata": {},
     "output_type": "execute_result"
    }
   ],
   "source": [
    "df[\"Marital Status\"].value_counts()"
   ]
  },
  {
   "cell_type": "code",
   "execution_count": 47,
   "id": "9f2a74f6-3b1c-42e9-91ad-fe9c2ffa3dc2",
   "metadata": {},
   "outputs": [
    {
     "data": {
      "text/plain": [
       "History of Substance Abuse\n",
       "No     284880\n",
       "Yes    128888\n",
       "Name: count, dtype: int64"
      ]
     },
     "execution_count": 47,
     "metadata": {},
     "output_type": "execute_result"
    }
   ],
   "source": [
    "df[\"History of Substance Abuse\"].value_counts()"
   ]
  },
  {
   "cell_type": "code",
   "execution_count": 6,
   "id": "5a9e5fd5-27eb-4d1c-9250-56b6aaa915dc",
   "metadata": {},
   "outputs": [
    {
     "data": {
      "text/html": [
       "<div>\n",
       "<style scoped>\n",
       "    .dataframe tbody tr th:only-of-type {\n",
       "        vertical-align: middle;\n",
       "    }\n",
       "\n",
       "    .dataframe tbody tr th {\n",
       "        vertical-align: top;\n",
       "    }\n",
       "\n",
       "    .dataframe thead th {\n",
       "        text-align: right;\n",
       "    }\n",
       "</style>\n",
       "<table border=\"1\" class=\"dataframe\">\n",
       "  <thead>\n",
       "    <tr style=\"text-align: right;\">\n",
       "      <th>Education Level</th>\n",
       "      <th>Associate Degree</th>\n",
       "      <th>Bachelor's Degree</th>\n",
       "      <th>High School</th>\n",
       "      <th>Master's Degree</th>\n",
       "      <th>PhD</th>\n",
       "    </tr>\n",
       "    <tr>\n",
       "      <th>Marital Status</th>\n",
       "      <th></th>\n",
       "      <th></th>\n",
       "      <th></th>\n",
       "      <th></th>\n",
       "      <th></th>\n",
       "    </tr>\n",
       "  </thead>\n",
       "  <tbody>\n",
       "    <tr>\n",
       "      <th>Divorced</th>\n",
       "      <td>38473.007124</td>\n",
       "      <td>60103.989746</td>\n",
       "      <td>27551.075899</td>\n",
       "      <td>84139.004742</td>\n",
       "      <td>110343.380728</td>\n",
       "    </tr>\n",
       "    <tr>\n",
       "      <th>Married</th>\n",
       "      <td>37000.289900</td>\n",
       "      <td>57336.599438</td>\n",
       "      <td>26962.371606</td>\n",
       "      <td>79102.771956</td>\n",
       "      <td>106393.141030</td>\n",
       "    </tr>\n",
       "    <tr>\n",
       "      <th>Single</th>\n",
       "      <td>40895.816764</td>\n",
       "      <td>64862.949311</td>\n",
       "      <td>28802.632450</td>\n",
       "      <td>94248.059219</td>\n",
       "      <td>130090.716049</td>\n",
       "    </tr>\n",
       "    <tr>\n",
       "      <th>Widowed</th>\n",
       "      <td>33285.509901</td>\n",
       "      <td>50235.395377</td>\n",
       "      <td>24969.034746</td>\n",
       "      <td>69489.294384</td>\n",
       "      <td>91108.037659</td>\n",
       "    </tr>\n",
       "  </tbody>\n",
       "</table>\n",
       "</div>"
      ],
      "text/plain": [
       "Education Level  Associate Degree  Bachelor's Degree   High School  \\\n",
       "Marital Status                                                       \n",
       "Divorced             38473.007124       60103.989746  27551.075899   \n",
       "Married              37000.289900       57336.599438  26962.371606   \n",
       "Single               40895.816764       64862.949311  28802.632450   \n",
       "Widowed              33285.509901       50235.395377  24969.034746   \n",
       "\n",
       "Education Level  Master's Degree            PhD  \n",
       "Marital Status                                   \n",
       "Divorced            84139.004742  110343.380728  \n",
       "Married             79102.771956  106393.141030  \n",
       "Single              94248.059219  130090.716049  \n",
       "Widowed             69489.294384   91108.037659  "
      ]
     },
     "execution_count": 6,
     "metadata": {},
     "output_type": "execute_result"
    }
   ],
   "source": [
    "df_new = df.pivot_table(index=\"Marital Status\", columns=\"Education Level\", values=\"Income\", aggfunc='mean').copy()\n",
    "df_new"
   ]
  },
  {
   "cell_type": "code",
   "execution_count": 10,
   "id": "cc967c5d-da98-4305-b7ef-323e8b8cc865",
   "metadata": {},
   "outputs": [
    {
     "data": {
      "text/html": [
       "<div>\n",
       "<style scoped>\n",
       "    .dataframe tbody tr th:only-of-type {\n",
       "        vertical-align: middle;\n",
       "    }\n",
       "\n",
       "    .dataframe tbody tr th {\n",
       "        vertical-align: top;\n",
       "    }\n",
       "\n",
       "    .dataframe thead th {\n",
       "        text-align: right;\n",
       "    }\n",
       "</style>\n",
       "<table border=\"1\" class=\"dataframe\">\n",
       "  <thead>\n",
       "    <tr style=\"text-align: right;\">\n",
       "      <th>Alcohol Consumption</th>\n",
       "      <th>High</th>\n",
       "      <th>Low</th>\n",
       "      <th>Moderate</th>\n",
       "    </tr>\n",
       "    <tr>\n",
       "      <th>Marital Status</th>\n",
       "      <th></th>\n",
       "      <th></th>\n",
       "      <th></th>\n",
       "    </tr>\n",
       "  </thead>\n",
       "  <tbody>\n",
       "    <tr>\n",
       "      <th>Divorced</th>\n",
       "      <td>7884</td>\n",
       "      <td>11058</td>\n",
       "      <td>13787</td>\n",
       "    </tr>\n",
       "    <tr>\n",
       "      <th>Married</th>\n",
       "      <td>59066</td>\n",
       "      <td>80303</td>\n",
       "      <td>101075</td>\n",
       "    </tr>\n",
       "    <tr>\n",
       "      <th>Single</th>\n",
       "      <td>16622</td>\n",
       "      <td>25606</td>\n",
       "      <td>29882</td>\n",
       "    </tr>\n",
       "    <tr>\n",
       "      <th>Widowed</th>\n",
       "      <td>17506</td>\n",
       "      <td>22283</td>\n",
       "      <td>28696</td>\n",
       "    </tr>\n",
       "  </tbody>\n",
       "</table>\n",
       "</div>"
      ],
      "text/plain": [
       "Alcohol Consumption   High    Low  Moderate\n",
       "Marital Status                             \n",
       "Divorced              7884  11058     13787\n",
       "Married              59066  80303    101075\n",
       "Single               16622  25606     29882\n",
       "Widowed              17506  22283     28696"
      ]
     },
     "execution_count": 10,
     "metadata": {},
     "output_type": "execute_result"
    }
   ],
   "source": [
    "df_new = df.pivot_table(index=\"Marital Status\", columns=\"Alcohol Consumption\", values=\"Income\", aggfunc='count').copy()\n",
    "df_new"
   ]
  },
  {
   "cell_type": "code",
   "execution_count": 12,
   "id": "f62b7221-8d25-48f7-a87a-bad685d240f9",
   "metadata": {},
   "outputs": [
    {
     "data": {
      "text/html": [
       "<div>\n",
       "<style scoped>\n",
       "    .dataframe tbody tr th:only-of-type {\n",
       "        vertical-align: middle;\n",
       "    }\n",
       "\n",
       "    .dataframe tbody tr th {\n",
       "        vertical-align: top;\n",
       "    }\n",
       "\n",
       "    .dataframe thead th {\n",
       "        text-align: right;\n",
       "    }\n",
       "</style>\n",
       "<table border=\"1\" class=\"dataframe\">\n",
       "  <thead>\n",
       "    <tr style=\"text-align: right;\">\n",
       "      <th>Alcohol Consumption</th>\n",
       "      <th>High</th>\n",
       "      <th>Low</th>\n",
       "      <th>Moderate</th>\n",
       "    </tr>\n",
       "    <tr>\n",
       "      <th>Marital Status</th>\n",
       "      <th></th>\n",
       "      <th></th>\n",
       "      <th></th>\n",
       "    </tr>\n",
       "  </thead>\n",
       "  <tbody>\n",
       "    <tr>\n",
       "      <th>Divorced</th>\n",
       "      <td>54763.907420</td>\n",
       "      <td>53304.480962</td>\n",
       "      <td>55928.399791</td>\n",
       "    </tr>\n",
       "    <tr>\n",
       "      <th>Married</th>\n",
       "      <td>50423.256893</td>\n",
       "      <td>50996.419282</td>\n",
       "      <td>53474.483792</td>\n",
       "    </tr>\n",
       "    <tr>\n",
       "      <th>Single</th>\n",
       "      <td>48634.430607</td>\n",
       "      <td>47640.730903</td>\n",
       "      <td>49441.442926</td>\n",
       "    </tr>\n",
       "    <tr>\n",
       "      <th>Widowed</th>\n",
       "      <td>44404.243319</td>\n",
       "      <td>45931.809560</td>\n",
       "      <td>48263.579813</td>\n",
       "    </tr>\n",
       "  </tbody>\n",
       "</table>\n",
       "</div>"
      ],
      "text/plain": [
       "Alcohol Consumption          High           Low      Moderate\n",
       "Marital Status                                               \n",
       "Divorced             54763.907420  53304.480962  55928.399791\n",
       "Married              50423.256893  50996.419282  53474.483792\n",
       "Single               48634.430607  47640.730903  49441.442926\n",
       "Widowed              44404.243319  45931.809560  48263.579813"
      ]
     },
     "execution_count": 12,
     "metadata": {},
     "output_type": "execute_result"
    }
   ],
   "source": [
    "df_new = df.pivot_table(index=\"Marital Status\", columns=\"Alcohol Consumption\", values=\"Income\", aggfunc='mean').copy()\n",
    "df_new"
   ]
  },
  {
   "cell_type": "code",
   "execution_count": 14,
   "id": "52431815-4e7a-42d2-a0a7-3bd7d0270882",
   "metadata": {},
   "outputs": [
    {
     "data": {
      "text/html": [
       "<div>\n",
       "<style scoped>\n",
       "    .dataframe tbody tr th:only-of-type {\n",
       "        vertical-align: middle;\n",
       "    }\n",
       "\n",
       "    .dataframe tbody tr th {\n",
       "        vertical-align: top;\n",
       "    }\n",
       "\n",
       "    .dataframe thead th {\n",
       "        text-align: right;\n",
       "    }\n",
       "</style>\n",
       "<table border=\"1\" class=\"dataframe\">\n",
       "  <thead>\n",
       "    <tr style=\"text-align: right;\">\n",
       "      <th>Dietary Habits</th>\n",
       "      <th>Healthy</th>\n",
       "      <th>Moderate</th>\n",
       "      <th>Unhealthy</th>\n",
       "    </tr>\n",
       "    <tr>\n",
       "      <th>Marital Status</th>\n",
       "      <th></th>\n",
       "      <th></th>\n",
       "      <th></th>\n",
       "    </tr>\n",
       "  </thead>\n",
       "  <tbody>\n",
       "    <tr>\n",
       "      <th>Divorced</th>\n",
       "      <td>6393</td>\n",
       "      <td>13608</td>\n",
       "      <td>12728</td>\n",
       "    </tr>\n",
       "    <tr>\n",
       "      <th>Married</th>\n",
       "      <td>42729</td>\n",
       "      <td>99165</td>\n",
       "      <td>98550</td>\n",
       "    </tr>\n",
       "    <tr>\n",
       "      <th>Single</th>\n",
       "      <td>13254</td>\n",
       "      <td>29118</td>\n",
       "      <td>29738</td>\n",
       "    </tr>\n",
       "    <tr>\n",
       "      <th>Widowed</th>\n",
       "      <td>10129</td>\n",
       "      <td>28555</td>\n",
       "      <td>29801</td>\n",
       "    </tr>\n",
       "  </tbody>\n",
       "</table>\n",
       "</div>"
      ],
      "text/plain": [
       "Dietary Habits  Healthy  Moderate  Unhealthy\n",
       "Marital Status                              \n",
       "Divorced           6393     13608      12728\n",
       "Married           42729     99165      98550\n",
       "Single            13254     29118      29738\n",
       "Widowed           10129     28555      29801"
      ]
     },
     "execution_count": 14,
     "metadata": {},
     "output_type": "execute_result"
    }
   ],
   "source": [
    "df_new = df.pivot_table(index=\"Marital Status\", columns=\"Dietary Habits\", values=\"Income\", aggfunc='count').copy()\n",
    "df_new"
   ]
  },
  {
   "cell_type": "code",
   "execution_count": 16,
   "id": "3bec0415-3b28-436c-a0c0-fb2dc59243ec",
   "metadata": {},
   "outputs": [
    {
     "data": {
      "text/html": [
       "<div>\n",
       "<style scoped>\n",
       "    .dataframe tbody tr th:only-of-type {\n",
       "        vertical-align: middle;\n",
       "    }\n",
       "\n",
       "    .dataframe tbody tr th {\n",
       "        vertical-align: top;\n",
       "    }\n",
       "\n",
       "    .dataframe thead th {\n",
       "        text-align: right;\n",
       "    }\n",
       "</style>\n",
       "<table border=\"1\" class=\"dataframe\">\n",
       "  <thead>\n",
       "    <tr style=\"text-align: right;\">\n",
       "      <th>Dietary Habits</th>\n",
       "      <th>Healthy</th>\n",
       "      <th>Moderate</th>\n",
       "      <th>Unhealthy</th>\n",
       "    </tr>\n",
       "    <tr>\n",
       "      <th>Marital Status</th>\n",
       "      <th></th>\n",
       "      <th></th>\n",
       "      <th></th>\n",
       "    </tr>\n",
       "  </thead>\n",
       "  <tbody>\n",
       "    <tr>\n",
       "      <th>Divorced</th>\n",
       "      <td>70743.518070</td>\n",
       "      <td>53221.546655</td>\n",
       "      <td>48380.132511</td>\n",
       "    </tr>\n",
       "    <tr>\n",
       "      <th>Married</th>\n",
       "      <td>67942.724773</td>\n",
       "      <td>50803.168796</td>\n",
       "      <td>46041.380802</td>\n",
       "    </tr>\n",
       "    <tr>\n",
       "      <th>Single</th>\n",
       "      <td>66024.957769</td>\n",
       "      <td>47214.484549</td>\n",
       "      <td>42229.238925</td>\n",
       "    </tr>\n",
       "    <tr>\n",
       "      <th>Widowed</th>\n",
       "      <td>61317.976620</td>\n",
       "      <td>45850.394598</td>\n",
       "      <td>42128.219837</td>\n",
       "    </tr>\n",
       "  </tbody>\n",
       "</table>\n",
       "</div>"
      ],
      "text/plain": [
       "Dietary Habits       Healthy      Moderate     Unhealthy\n",
       "Marital Status                                          \n",
       "Divorced        70743.518070  53221.546655  48380.132511\n",
       "Married         67942.724773  50803.168796  46041.380802\n",
       "Single          66024.957769  47214.484549  42229.238925\n",
       "Widowed         61317.976620  45850.394598  42128.219837"
      ]
     },
     "execution_count": 16,
     "metadata": {},
     "output_type": "execute_result"
    }
   ],
   "source": [
    "df_new = df.pivot_table(index=\"Marital Status\", columns=\"Dietary Habits\", values=\"Income\", aggfunc='mean')\n",
    "df_new"
   ]
  },
  {
   "cell_type": "code",
   "execution_count": 18,
   "id": "cb96e9e3-2268-4921-80c2-ba6f37648492",
   "metadata": {},
   "outputs": [
    {
     "data": {
      "image/png": "[encoded data removed]",
      "text/plain": [
       "<Figure size 640x480 with 1 Axes>"
      ]
     },
     "metadata": {},
     "output_type": "display_data"
    }
   ],
   "source": [
    "df_new = df.pivot_table(index=\"Education Level\",  values=\"Income\", aggfunc='mean').copy()\n",
    "func.plot_drawing_single(df_new,\"mean\")"
   ]
  },
  {
   "cell_type": "code",
   "execution_count": 20,
   "id": "cdc5d456-ded7-4ff2-aeca-745456ef3854",
   "metadata": {},
   "outputs": [
    {
     "data": {
      "image/png": "[encoded data removed]",
      "text/plain": [
       "<Figure size 640x480 with 1 Axes>"
      ]
     },
     "metadata": {},
     "output_type": "display_data"
    }
   ],
   "source": [
    "df_new = df.pivot_table(index=\"Education Level\",  values=\"Income\", aggfunc='sum').copy()\n",
    "func.plot_drawing_single(df_new,\"sum\")"
   ]
  },
  {
   "cell_type": "code",
   "execution_count": 28,
   "id": "c16a0277-7da5-472c-9a5e-db39229006c5",
   "metadata": {},
   "outputs": [
    {
     "data": {
      "image/png": "[encoded data removed]",
      "text/plain": [
       "<Figure size 640x480 with 1 Axes>"
      ]
     },
     "metadata": {},
     "output_type": "display_data"
    }
   ],
   "source": [
    "df_new = df.pivot_table(index=\"Marital Status\",  values=\"Income\", aggfunc='mean').copy()\n",
    "func.plot_drawing_single(df_new,\"avg\")"
   ]
  },
  {
   "cell_type": "code",
   "execution_count": 30,
   "id": "cff0bab9-4240-4fea-a817-34ebcaadc271",
   "metadata": {},
   "outputs": [
    {
     "data": {
      "image/png": "[encoded data removed]",
      "text/plain": [
       "<Figure size 640x480 with 1 Axes>"
      ]
     },
     "metadata": {},
     "output_type": "display_data"
    }
   ],
   "source": [
    "df_new = df.pivot_table(index=\"Education Level\",  values=\"Income\", aggfunc='mean').copy()\n",
    "func.plot_drawing_single(df_new,\"avg\")"
   ]
  },
  {
   "cell_type": "code",
   "execution_count": 24,
   "id": "21932d7b-7e24-42dc-afd0-91ec6ff6cc17",
   "metadata": {},
   "outputs": [],
   "source": [
    "df_1 = df.copy()"
   ]
  },
  {
   "cell_type": "code",
   "execution_count": 26,
   "id": "08de377f-eede-4a91-8d4e-cb436bbb5361",
   "metadata": {},
   "outputs": [],
   "source": [
    "df_1.Age = df.Age.map(func.age_group)"
   ]
  },
  {
   "cell_type": "code",
   "execution_count": 38,
   "id": "7f5be486-f358-447e-873c-0fe2b352e1ff",
   "metadata": {},
   "outputs": [
    {
     "data": {
      "image/png": "[encoded data removed]",
      "text/plain": [
       "<Figure size 640x480 with 1 Axes>"
      ]
     },
     "metadata": {},
     "output_type": "display_data"
    }
   ],
   "source": [
    "df_new = df_1.pivot_table(index=\"Age\",  values=\"Income\", aggfunc='mean').copy()\n",
    "func.plot_drawing_single(df_new,\"avg\")"
   ]
  },
  {
   "cell_type": "code",
   "execution_count": 36,
   "id": "63ad2c1c-0870-425f-8cb2-9a2e63b4329a",
   "metadata": {},
   "outputs": [
    {
     "data": {
      "text/html": [
       "<div>\n",
       "<style scoped>\n",
       "    .dataframe tbody tr th:only-of-type {\n",
       "        vertical-align: middle;\n",
       "    }\n",
       "\n",
       "    .dataframe tbody tr th {\n",
       "        vertical-align: top;\n",
       "    }\n",
       "\n",
       "    .dataframe thead th {\n",
       "        text-align: right;\n",
       "    }\n",
       "</style>\n",
       "<table border=\"1\" class=\"dataframe\">\n",
       "  <thead>\n",
       "    <tr style=\"text-align: right;\">\n",
       "      <th></th>\n",
       "      <th>Income</th>\n",
       "    </tr>\n",
       "    <tr>\n",
       "      <th>Age</th>\n",
       "      <th></th>\n",
       "    </tr>\n",
       "  </thead>\n",
       "  <tbody>\n",
       "    <tr>\n",
       "      <th>10</th>\n",
       "      <td>33502.135280</td>\n",
       "    </tr>\n",
       "    <tr>\n",
       "      <th>20</th>\n",
       "      <td>52141.150195</td>\n",
       "    </tr>\n",
       "    <tr>\n",
       "      <th>30</th>\n",
       "      <td>61964.545549</td>\n",
       "    </tr>\n",
       "    <tr>\n",
       "      <th>40</th>\n",
       "      <td>55335.806355</td>\n",
       "    </tr>\n",
       "    <tr>\n",
       "      <th>50</th>\n",
       "      <td>49968.068422</td>\n",
       "    </tr>\n",
       "    <tr>\n",
       "      <th>60</th>\n",
       "      <td>44769.146618</td>\n",
       "    </tr>\n",
       "    <tr>\n",
       "      <th>70</th>\n",
       "      <td>44889.856009</td>\n",
       "    </tr>\n",
       "  </tbody>\n",
       "</table>\n",
       "</div>"
      ],
      "text/plain": [
       "           Income\n",
       "Age              \n",
       "10   33502.135280\n",
       "20   52141.150195\n",
       "30   61964.545549\n",
       "40   55335.806355\n",
       "50   49968.068422\n",
       "60   44769.146618\n",
       "70   44889.856009"
      ]
     },
     "execution_count": 36,
     "metadata": {},
     "output_type": "execute_result"
    }
   ],
   "source": []
  },
  {
   "cell_type": "code",
   "execution_count": null,
   "id": "8b44b710-ba26-4e3e-9937-703b4aebff25",
   "metadata": {},
   "outputs": [],
   "source": []
  }
 ],
 "metadata": {
  "kernelspec": {
   "display_name": "new_venv",
   "language": "python",
   "name": "new_venv"
  },
  "language_info": {
   "codemirror_mode": {
    "name": "ipython",
    "version": 3
   },
   "file_extension": ".py",
   "mimetype": "text/x-python",
   "name": "python",
   "nbconvert_exporter": "python",
   "pygments_lexer": "ipython3",
   "version": "3.12.4"
  }
 },
 "nbformat": 4,
 "nbformat_minor": 5
}
