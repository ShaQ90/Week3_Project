{
 "cells": [
  {
   "cell_type": "code",
   "execution_count": 3,
   "metadata": {},
   "outputs": [
    {
     "data": {
      "text/html": [
       "<div>\n",
       "<style scoped>\n",
       "    .dataframe tbody tr th:only-of-type {\n",
       "        vertical-align: middle;\n",
       "    }\n",
       "\n",
       "    .dataframe tbody tr th {\n",
       "        vertical-align: top;\n",
       "    }\n",
       "\n",
       "    .dataframe thead th {\n",
       "        text-align: right;\n",
       "    }\n",
       "</style>\n",
       "<table border=\"1\" class=\"dataframe\">\n",
       "  <thead>\n",
       "    <tr style=\"text-align: right;\">\n",
       "      <th></th>\n",
       "      <th>Are you self-employed?</th>\n",
       "      <th>How many employees does your company or organization have?</th>\n",
       "      <th>Is your employer primarily a tech company/organization?</th>\n",
       "      <th>Is your primary role within your company related to tech/IT?</th>\n",
       "      <th>Does your employer provide mental health benefits as part of healthcare coverage?</th>\n",
       "      <th>Do you know the options for mental health care available under your employer-provided coverage?</th>\n",
       "      <th>Has your employer ever formally discussed mental health (for example, as part of a wellness campaign or other official communication)?</th>\n",
       "      <th>Does your employer offer resources to learn more about mental health concerns and options for seeking help?</th>\n",
       "      <th>Is your anonymity protected if you choose to take advantage of mental health or substance abuse treatment resources provided by your employer?</th>\n",
       "      <th>If a mental health issue prompted you to request a medical leave from work, asking for that leave would be:</th>\n",
       "      <th>...</th>\n",
       "      <th>If you have a mental health issue, do you feel that it interferes with your work when being treated effectively?</th>\n",
       "      <th>If you have a mental health issue, do you feel that it interferes with your work when NOT being treated effectively?</th>\n",
       "      <th>What is your age?</th>\n",
       "      <th>What is your gender?</th>\n",
       "      <th>What country do you live in?</th>\n",
       "      <th>What US state or territory do you live in?</th>\n",
       "      <th>What country do you work in?</th>\n",
       "      <th>What US state or territory do you work in?</th>\n",
       "      <th>Which of the following best describes your work position?</th>\n",
       "      <th>Do you work remotely?</th>\n",
       "    </tr>\n",
       "  </thead>\n",
       "  <tbody>\n",
       "    <tr>\n",
       "      <th>0</th>\n",
       "      <td>0</td>\n",
       "      <td>26-100</td>\n",
       "      <td>1.0</td>\n",
       "      <td>NaN</td>\n",
       "      <td>Not eligible for coverage / N/A</td>\n",
       "      <td>NaN</td>\n",
       "      <td>No</td>\n",
       "      <td>No</td>\n",
       "      <td>I don't know</td>\n",
       "      <td>Very easy</td>\n",
       "      <td>...</td>\n",
       "      <td>Not applicable to me</td>\n",
       "      <td>Not applicable to me</td>\n",
       "      <td>39</td>\n",
       "      <td>Male</td>\n",
       "      <td>United Kingdom</td>\n",
       "      <td>NaN</td>\n",
       "      <td>United Kingdom</td>\n",
       "      <td>NaN</td>\n",
       "      <td>Back-end Developer</td>\n",
       "      <td>Sometimes</td>\n",
       "    </tr>\n",
       "    <tr>\n",
       "      <th>1</th>\n",
       "      <td>0</td>\n",
       "      <td>6-25</td>\n",
       "      <td>1.0</td>\n",
       "      <td>NaN</td>\n",
       "      <td>No</td>\n",
       "      <td>Yes</td>\n",
       "      <td>Yes</td>\n",
       "      <td>Yes</td>\n",
       "      <td>Yes</td>\n",
       "      <td>Somewhat easy</td>\n",
       "      <td>...</td>\n",
       "      <td>Rarely</td>\n",
       "      <td>Sometimes</td>\n",
       "      <td>29</td>\n",
       "      <td>male</td>\n",
       "      <td>United States of America</td>\n",
       "      <td>Illinois</td>\n",
       "      <td>United States of America</td>\n",
       "      <td>Illinois</td>\n",
       "      <td>Back-end Developer|Front-end Developer</td>\n",
       "      <td>Never</td>\n",
       "    </tr>\n",
       "    <tr>\n",
       "      <th>2</th>\n",
       "      <td>0</td>\n",
       "      <td>6-25</td>\n",
       "      <td>1.0</td>\n",
       "      <td>NaN</td>\n",
       "      <td>No</td>\n",
       "      <td>NaN</td>\n",
       "      <td>No</td>\n",
       "      <td>No</td>\n",
       "      <td>I don't know</td>\n",
       "      <td>Neither easy nor difficult</td>\n",
       "      <td>...</td>\n",
       "      <td>Not applicable to me</td>\n",
       "      <td>Not applicable to me</td>\n",
       "      <td>38</td>\n",
       "      <td>Male</td>\n",
       "      <td>United Kingdom</td>\n",
       "      <td>NaN</td>\n",
       "      <td>United Kingdom</td>\n",
       "      <td>NaN</td>\n",
       "      <td>Back-end Developer</td>\n",
       "      <td>Always</td>\n",
       "    </tr>\n",
       "    <tr>\n",
       "      <th>3</th>\n",
       "      <td>1</td>\n",
       "      <td>NaN</td>\n",
       "      <td>NaN</td>\n",
       "      <td>NaN</td>\n",
       "      <td>NaN</td>\n",
       "      <td>NaN</td>\n",
       "      <td>NaN</td>\n",
       "      <td>NaN</td>\n",
       "      <td>NaN</td>\n",
       "      <td>NaN</td>\n",
       "      <td>...</td>\n",
       "      <td>Sometimes</td>\n",
       "      <td>Sometimes</td>\n",
       "      <td>43</td>\n",
       "      <td>male</td>\n",
       "      <td>United Kingdom</td>\n",
       "      <td>NaN</td>\n",
       "      <td>United Kingdom</td>\n",
       "      <td>NaN</td>\n",
       "      <td>Supervisor/Team Lead</td>\n",
       "      <td>Sometimes</td>\n",
       "    </tr>\n",
       "    <tr>\n",
       "      <th>4</th>\n",
       "      <td>0</td>\n",
       "      <td>6-25</td>\n",
       "      <td>0.0</td>\n",
       "      <td>1.0</td>\n",
       "      <td>Yes</td>\n",
       "      <td>Yes</td>\n",
       "      <td>No</td>\n",
       "      <td>No</td>\n",
       "      <td>No</td>\n",
       "      <td>Neither easy nor difficult</td>\n",
       "      <td>...</td>\n",
       "      <td>Sometimes</td>\n",
       "      <td>Sometimes</td>\n",
       "      <td>43</td>\n",
       "      <td>Female</td>\n",
       "      <td>United States of America</td>\n",
       "      <td>Illinois</td>\n",
       "      <td>United States of America</td>\n",
       "      <td>Illinois</td>\n",
       "      <td>Executive Leadership|Supervisor/Team Lead|Dev ...</td>\n",
       "      <td>Sometimes</td>\n",
       "    </tr>\n",
       "    <tr>\n",
       "      <th>...</th>\n",
       "      <td>...</td>\n",
       "      <td>...</td>\n",
       "      <td>...</td>\n",
       "      <td>...</td>\n",
       "      <td>...</td>\n",
       "      <td>...</td>\n",
       "      <td>...</td>\n",
       "      <td>...</td>\n",
       "      <td>...</td>\n",
       "      <td>...</td>\n",
       "      <td>...</td>\n",
       "      <td>...</td>\n",
       "      <td>...</td>\n",
       "      <td>...</td>\n",
       "      <td>...</td>\n",
       "      <td>...</td>\n",
       "      <td>...</td>\n",
       "      <td>...</td>\n",
       "      <td>...</td>\n",
       "      <td>...</td>\n",
       "      <td>...</td>\n",
       "    </tr>\n",
       "    <tr>\n",
       "      <th>1428</th>\n",
       "      <td>1</td>\n",
       "      <td>NaN</td>\n",
       "      <td>NaN</td>\n",
       "      <td>NaN</td>\n",
       "      <td>NaN</td>\n",
       "      <td>NaN</td>\n",
       "      <td>NaN</td>\n",
       "      <td>NaN</td>\n",
       "      <td>NaN</td>\n",
       "      <td>NaN</td>\n",
       "      <td>...</td>\n",
       "      <td>Not applicable to me</td>\n",
       "      <td>Not applicable to me</td>\n",
       "      <td>34</td>\n",
       "      <td>Female</td>\n",
       "      <td>United States of America</td>\n",
       "      <td>New York</td>\n",
       "      <td>United States of America</td>\n",
       "      <td>New York</td>\n",
       "      <td>Other</td>\n",
       "      <td>Sometimes</td>\n",
       "    </tr>\n",
       "    <tr>\n",
       "      <th>1429</th>\n",
       "      <td>1</td>\n",
       "      <td>NaN</td>\n",
       "      <td>NaN</td>\n",
       "      <td>NaN</td>\n",
       "      <td>NaN</td>\n",
       "      <td>NaN</td>\n",
       "      <td>NaN</td>\n",
       "      <td>NaN</td>\n",
       "      <td>NaN</td>\n",
       "      <td>NaN</td>\n",
       "      <td>...</td>\n",
       "      <td>Sometimes</td>\n",
       "      <td>Often</td>\n",
       "      <td>56</td>\n",
       "      <td>MALE</td>\n",
       "      <td>United States of America</td>\n",
       "      <td>California</td>\n",
       "      <td>Afghanistan</td>\n",
       "      <td>NaN</td>\n",
       "      <td>Support</td>\n",
       "      <td>Sometimes</td>\n",
       "    </tr>\n",
       "    <tr>\n",
       "      <th>1430</th>\n",
       "      <td>0</td>\n",
       "      <td>100-500</td>\n",
       "      <td>1.0</td>\n",
       "      <td>NaN</td>\n",
       "      <td>Yes</td>\n",
       "      <td>Yes</td>\n",
       "      <td>Yes</td>\n",
       "      <td>Yes</td>\n",
       "      <td>I don't know</td>\n",
       "      <td>Somewhat difficult</td>\n",
       "      <td>...</td>\n",
       "      <td>Rarely</td>\n",
       "      <td>Sometimes</td>\n",
       "      <td>52</td>\n",
       "      <td>Male</td>\n",
       "      <td>United States of America</td>\n",
       "      <td>Georgia</td>\n",
       "      <td>United States of America</td>\n",
       "      <td>Georgia</td>\n",
       "      <td>Back-end Developer</td>\n",
       "      <td>Sometimes</td>\n",
       "    </tr>\n",
       "    <tr>\n",
       "      <th>1431</th>\n",
       "      <td>0</td>\n",
       "      <td>100-500</td>\n",
       "      <td>0.0</td>\n",
       "      <td>1.0</td>\n",
       "      <td>I don't know</td>\n",
       "      <td>I am not sure</td>\n",
       "      <td>No</td>\n",
       "      <td>Yes</td>\n",
       "      <td>I don't know</td>\n",
       "      <td>Somewhat difficult</td>\n",
       "      <td>...</td>\n",
       "      <td>Sometimes</td>\n",
       "      <td>Often</td>\n",
       "      <td>30</td>\n",
       "      <td>Female</td>\n",
       "      <td>United States of America</td>\n",
       "      <td>Nebraska</td>\n",
       "      <td>United States of America</td>\n",
       "      <td>Nebraska</td>\n",
       "      <td>DevOps/SysAdmin</td>\n",
       "      <td>Sometimes</td>\n",
       "    </tr>\n",
       "    <tr>\n",
       "      <th>1432</th>\n",
       "      <td>0</td>\n",
       "      <td>100-500</td>\n",
       "      <td>1.0</td>\n",
       "      <td>NaN</td>\n",
       "      <td>Yes</td>\n",
       "      <td>No</td>\n",
       "      <td>No</td>\n",
       "      <td>No</td>\n",
       "      <td>I don't know</td>\n",
       "      <td>Very difficult</td>\n",
       "      <td>...</td>\n",
       "      <td>Not applicable to me</td>\n",
       "      <td>Often</td>\n",
       "      <td>25</td>\n",
       "      <td>non-binary</td>\n",
       "      <td>Canada</td>\n",
       "      <td>NaN</td>\n",
       "      <td>Canada</td>\n",
       "      <td>NaN</td>\n",
       "      <td>Other</td>\n",
       "      <td>Sometimes</td>\n",
       "    </tr>\n",
       "  </tbody>\n",
       "</table>\n",
       "<p>1433 rows × 63 columns</p>\n",
       "</div>"
      ],
      "text/plain": [
       "      Are you self-employed?  \\\n",
       "0                          0   \n",
       "1                          0   \n",
       "2                          0   \n",
       "3                          1   \n",
       "4                          0   \n",
       "...                      ...   \n",
       "1428                       1   \n",
       "1429                       1   \n",
       "1430                       0   \n",
       "1431                       0   \n",
       "1432                       0   \n",
       "\n",
       "     How many employees does your company or organization have?  \\\n",
       "0                                                26-100           \n",
       "1                                                  6-25           \n",
       "2                                                  6-25           \n",
       "3                                                   NaN           \n",
       "4                                                  6-25           \n",
       "...                                                 ...           \n",
       "1428                                                NaN           \n",
       "1429                                                NaN           \n",
       "1430                                            100-500           \n",
       "1431                                            100-500           \n",
       "1432                                            100-500           \n",
       "\n",
       "      Is your employer primarily a tech company/organization?  \\\n",
       "0                                                   1.0         \n",
       "1                                                   1.0         \n",
       "2                                                   1.0         \n",
       "3                                                   NaN         \n",
       "4                                                   0.0         \n",
       "...                                                 ...         \n",
       "1428                                                NaN         \n",
       "1429                                                NaN         \n",
       "1430                                                1.0         \n",
       "1431                                                0.0         \n",
       "1432                                                1.0         \n",
       "\n",
       "      Is your primary role within your company related to tech/IT?  \\\n",
       "0                                                   NaN              \n",
       "1                                                   NaN              \n",
       "2                                                   NaN              \n",
       "3                                                   NaN              \n",
       "4                                                   1.0              \n",
       "...                                                 ...              \n",
       "1428                                                NaN              \n",
       "1429                                                NaN              \n",
       "1430                                                NaN              \n",
       "1431                                                1.0              \n",
       "1432                                                NaN              \n",
       "\n",
       "     Does your employer provide mental health benefits as part of healthcare coverage?  \\\n",
       "0                       Not eligible for coverage / N/A                                  \n",
       "1                                                    No                                  \n",
       "2                                                    No                                  \n",
       "3                                                   NaN                                  \n",
       "4                                                   Yes                                  \n",
       "...                                                 ...                                  \n",
       "1428                                                NaN                                  \n",
       "1429                                                NaN                                  \n",
       "1430                                                Yes                                  \n",
       "1431                                       I don't know                                  \n",
       "1432                                                Yes                                  \n",
       "\n",
       "     Do you know the options for mental health care available under your employer-provided coverage?  \\\n",
       "0                                                   NaN                                                \n",
       "1                                                   Yes                                                \n",
       "2                                                   NaN                                                \n",
       "3                                                   NaN                                                \n",
       "4                                                   Yes                                                \n",
       "...                                                 ...                                                \n",
       "1428                                                NaN                                                \n",
       "1429                                                NaN                                                \n",
       "1430                                                Yes                                                \n",
       "1431                                      I am not sure                                                \n",
       "1432                                                 No                                                \n",
       "\n",
       "     Has your employer ever formally discussed mental health (for example, as part of a wellness campaign or other official communication)?  \\\n",
       "0                                                    No                                                                                       \n",
       "1                                                   Yes                                                                                       \n",
       "2                                                    No                                                                                       \n",
       "3                                                   NaN                                                                                       \n",
       "4                                                    No                                                                                       \n",
       "...                                                 ...                                                                                       \n",
       "1428                                                NaN                                                                                       \n",
       "1429                                                NaN                                                                                       \n",
       "1430                                                Yes                                                                                       \n",
       "1431                                                 No                                                                                       \n",
       "1432                                                 No                                                                                       \n",
       "\n",
       "     Does your employer offer resources to learn more about mental health concerns and options for seeking help?  \\\n",
       "0                                                    No                                                            \n",
       "1                                                   Yes                                                            \n",
       "2                                                    No                                                            \n",
       "3                                                   NaN                                                            \n",
       "4                                                    No                                                            \n",
       "...                                                 ...                                                            \n",
       "1428                                                NaN                                                            \n",
       "1429                                                NaN                                                            \n",
       "1430                                                Yes                                                            \n",
       "1431                                                Yes                                                            \n",
       "1432                                                 No                                                            \n",
       "\n",
       "     Is your anonymity protected if you choose to take advantage of mental health or substance abuse treatment resources provided by your employer?  \\\n",
       "0                                          I don't know                                                                                               \n",
       "1                                                   Yes                                                                                               \n",
       "2                                          I don't know                                                                                               \n",
       "3                                                   NaN                                                                                               \n",
       "4                                                    No                                                                                               \n",
       "...                                                 ...                                                                                               \n",
       "1428                                                NaN                                                                                               \n",
       "1429                                                NaN                                                                                               \n",
       "1430                                       I don't know                                                                                               \n",
       "1431                                       I don't know                                                                                               \n",
       "1432                                       I don't know                                                                                               \n",
       "\n",
       "     If a mental health issue prompted you to request a medical leave from work, asking for that leave would be:  \\\n",
       "0                                             Very easy                                                            \n",
       "1                                         Somewhat easy                                                            \n",
       "2                            Neither easy nor difficult                                                            \n",
       "3                                                   NaN                                                            \n",
       "4                            Neither easy nor difficult                                                            \n",
       "...                                                 ...                                                            \n",
       "1428                                                NaN                                                            \n",
       "1429                                                NaN                                                            \n",
       "1430                                 Somewhat difficult                                                            \n",
       "1431                                 Somewhat difficult                                                            \n",
       "1432                                     Very difficult                                                            \n",
       "\n",
       "      ...  \\\n",
       "0     ...   \n",
       "1     ...   \n",
       "2     ...   \n",
       "3     ...   \n",
       "4     ...   \n",
       "...   ...   \n",
       "1428  ...   \n",
       "1429  ...   \n",
       "1430  ...   \n",
       "1431  ...   \n",
       "1432  ...   \n",
       "\n",
       "     If you have a mental health issue, do you feel that it interferes with your work when being treated effectively?  \\\n",
       "0                                  Not applicable to me                                                                 \n",
       "1                                                Rarely                                                                 \n",
       "2                                  Not applicable to me                                                                 \n",
       "3                                             Sometimes                                                                 \n",
       "4                                             Sometimes                                                                 \n",
       "...                                                 ...                                                                 \n",
       "1428                               Not applicable to me                                                                 \n",
       "1429                                          Sometimes                                                                 \n",
       "1430                                             Rarely                                                                 \n",
       "1431                                          Sometimes                                                                 \n",
       "1432                               Not applicable to me                                                                 \n",
       "\n",
       "     If you have a mental health issue, do you feel that it interferes with your work when NOT being treated effectively?  \\\n",
       "0                                  Not applicable to me                                                                     \n",
       "1                                             Sometimes                                                                     \n",
       "2                                  Not applicable to me                                                                     \n",
       "3                                             Sometimes                                                                     \n",
       "4                                             Sometimes                                                                     \n",
       "...                                                 ...                                                                     \n",
       "1428                               Not applicable to me                                                                     \n",
       "1429                                              Often                                                                     \n",
       "1430                                          Sometimes                                                                     \n",
       "1431                                              Often                                                                     \n",
       "1432                                              Often                                                                     \n",
       "\n",
       "     What is your age? What is your gender? What country do you live in?  \\\n",
       "0                   39                 Male               United Kingdom   \n",
       "1                   29                 male     United States of America   \n",
       "2                   38                Male                United Kingdom   \n",
       "3                   43                 male               United Kingdom   \n",
       "4                   43               Female     United States of America   \n",
       "...                ...                  ...                          ...   \n",
       "1428                34              Female      United States of America   \n",
       "1429                56                 MALE     United States of America   \n",
       "1430                52                 Male     United States of America   \n",
       "1431                30               Female     United States of America   \n",
       "1432                25           non-binary                       Canada   \n",
       "\n",
       "     What US state or territory do you live in?  What country do you work in?  \\\n",
       "0                                           NaN                United Kingdom   \n",
       "1                                      Illinois      United States of America   \n",
       "2                                           NaN                United Kingdom   \n",
       "3                                           NaN                United Kingdom   \n",
       "4                                      Illinois      United States of America   \n",
       "...                                         ...                           ...   \n",
       "1428                                   New York      United States of America   \n",
       "1429                                 California                   Afghanistan   \n",
       "1430                                    Georgia      United States of America   \n",
       "1431                                   Nebraska      United States of America   \n",
       "1432                                        NaN                        Canada   \n",
       "\n",
       "     What US state or territory do you work in?  \\\n",
       "0                                           NaN   \n",
       "1                                      Illinois   \n",
       "2                                           NaN   \n",
       "3                                           NaN   \n",
       "4                                      Illinois   \n",
       "...                                         ...   \n",
       "1428                                   New York   \n",
       "1429                                        NaN   \n",
       "1430                                    Georgia   \n",
       "1431                                   Nebraska   \n",
       "1432                                        NaN   \n",
       "\n",
       "     Which of the following best describes your work position?  \\\n",
       "0                                    Back-end Developer          \n",
       "1                Back-end Developer|Front-end Developer          \n",
       "2                                    Back-end Developer          \n",
       "3                                  Supervisor/Team Lead          \n",
       "4     Executive Leadership|Supervisor/Team Lead|Dev ...          \n",
       "...                                                 ...          \n",
       "1428                                              Other          \n",
       "1429                                            Support          \n",
       "1430                                 Back-end Developer          \n",
       "1431                                    DevOps/SysAdmin          \n",
       "1432                                              Other          \n",
       "\n",
       "     Do you work remotely?  \n",
       "0                Sometimes  \n",
       "1                    Never  \n",
       "2                   Always  \n",
       "3                Sometimes  \n",
       "4                Sometimes  \n",
       "...                    ...  \n",
       "1428             Sometimes  \n",
       "1429             Sometimes  \n",
       "1430             Sometimes  \n",
       "1431             Sometimes  \n",
       "1432             Sometimes  \n",
       "\n",
       "[1433 rows x 63 columns]"
      ]
     },
     "metadata": {},
     "output_type": "display_data"
    }
   ],
   "source": [
    "import pandas as pd\n",
    "import numpy as np\n",
    "import matplotlib.pyplot as plt\n",
    "import seaborn as sns\n",
    "#import plotly.express as px\n",
    "#import os\n",
    "\n",
    "df_2016 =pd.read_csv (\"../data/raw/survey_2016.csv\")\n",
    "\n",
    "display(df_2016)\n"
   ]
  },
  {
   "cell_type": "code",
   "execution_count": 2,
   "metadata": {},
   "outputs": [
    {
     "ename": "NameError",
     "evalue": "name 'df_2016' is not defined",
     "output_type": "error",
     "traceback": [
      "\u001b[0;31m---------------------------------------------------------------------------\u001b[0m",
      "\u001b[0;31mNameError\u001b[0m                                 Traceback (most recent call last)",
      "Cell \u001b[0;32mIn[2], line 68\u001b[0m\n\u001b[1;32m      1\u001b[0m column_mapping \u001b[38;5;241m=\u001b[39m {\n\u001b[1;32m      2\u001b[0m     \u001b[38;5;124m'\u001b[39m\u001b[38;5;124mAre you self-employed?\u001b[39m\u001b[38;5;124m'\u001b[39m: \u001b[38;5;124m'\u001b[39m\u001b[38;5;124mself_employed\u001b[39m\u001b[38;5;124m'\u001b[39m,\n\u001b[1;32m      3\u001b[0m     \u001b[38;5;124m'\u001b[39m\u001b[38;5;124mHow many employees does your company or organization have?\u001b[39m\u001b[38;5;124m'\u001b[39m: \u001b[38;5;124m'\u001b[39m\u001b[38;5;124mno_employees\u001b[39m\u001b[38;5;124m'\u001b[39m,\n\u001b[0;32m   (...)\u001b[0m\n\u001b[1;32m     64\u001b[0m     \u001b[38;5;124m'\u001b[39m\u001b[38;5;124mDo you work remotely?\u001b[39m\u001b[38;5;124m'\u001b[39m: \u001b[38;5;124m'\u001b[39m\u001b[38;5;124mremote_work\u001b[39m\u001b[38;5;124m'\u001b[39m\n\u001b[1;32m     65\u001b[0m }\n\u001b[1;32m     67\u001b[0m \u001b[38;5;66;03m# Renaming the columns\u001b[39;00m\n\u001b[0;32m---> 68\u001b[0m df_2016 \u001b[38;5;241m=\u001b[39m \u001b[43mdf_2016\u001b[49m\u001b[38;5;241m.\u001b[39mrename(columns\u001b[38;5;241m=\u001b[39mcolumn_mapping)\n\u001b[1;32m     70\u001b[0m \u001b[38;5;66;03m# Now you can check the new column names\u001b[39;00m\n\u001b[1;32m     71\u001b[0m \u001b[38;5;28mprint\u001b[39m(df_2016\u001b[38;5;241m.\u001b[39mcolumns)\n",
      "\u001b[0;31mNameError\u001b[0m: name 'df_2016' is not defined"
     ]
    }
   ],
   "source": [
    "column_mapping = {\n",
    "    'Are you self-employed?': 'self_employed',\n",
    "    'How many employees does your company or organization have?': 'no_employees',\n",
    "    'Is your employer primarily a tech company/organization?': 'tech_company',\n",
    "    'Is your primary role within your company related to tech/IT?': 'tech_role',\n",
    "    'Does your employer provide mental health benefits as part of healthcare coverage?': 'benefits',\n",
    "    'Do you know the options for mental health care available under your employer-provided coverage?': 'care_options',\n",
    "    'Has your employer ever formally discussed mental health (for example, as part of a wellness campaign or other official communication)?': 'wellness_program',\n",
    "    'Does your employer offer resources to learn more about mental health concerns and options for seeking help?': 'seek_help',\n",
    "    'Is your anonymity protected if you choose to take advantage of mental health or substance abuse treatment resources provided by your employer?': 'anonymity',\n",
    "    'If a mental health issue prompted you to request a medical leave from work, asking for that leave would be:': 'medical_leave',\n",
    "    'Do you think that discussing a mental health disorder with your employer would have negative consequences?': 'mental_health_consequence',\n",
    "    'Do you think that discussing a physical health issue with your employer would have negative consequences?': 'phys_health_consequence',\n",
    "    'Would you feel comfortable discussing a mental health disorder with your coworkers?': 'coworkers',\n",
    "    'Would you feel comfortable discussing a mental health disorder with your direct supervisor(s)?': 'supervisor',\n",
    "    'Do you feel that your employer takes mental health as seriously as physical health?': 'mental_vs_physical',\n",
    "    'Have you heard of or observed negative consequences for co-workers who have been open about mental health issues in your workplace?': 'obs_consequence',\n",
    "    'Do you have medical coverage (private insurance or state-provided) which includes treatment of  mental health issues?': 'mental_health_coverage',\n",
    "    'Do you know local or online resources to seek help for a mental health disorder?': 'local_resources',\n",
    "    'If you have been diagnosed or treated for a mental health disorder, do you ever reveal this to clients or business contacts?': 'reveal_to_clients',\n",
    "    'If you have revealed a mental health issue to a client or business contact, do you believe this has impacted you negatively?': 'client_impact',\n",
    "    'If you have been diagnosed or treated for a mental health disorder, do you ever reveal this to coworkers or employees?': 'reveal_to_coworkers',\n",
    "    'If you have revealed a mental health issue to a coworker or employee, do you believe this has impacted you negatively?': 'coworker_impact',\n",
    "    'Do you believe your productivity is ever affected by a mental health issue?': 'productivity_impact',\n",
    "    'If yes, what percentage of your work time (time performing primary or secondary job functions) is affected by a mental health issue?': 'work_time_impact',\n",
    "    'Do you have previous employers?': 'previous_employers',\n",
    "    'Have your previous employers provided mental health benefits?': 'previous_benefits',\n",
    "    'Were you aware of the options for mental health care provided by your previous employers?': 'previous_care_options',\n",
    "    'Did your previous employers ever formally discuss mental health (as part of a wellness campaign or other official communication)?': 'previous_wellness_program',\n",
    "    'Did your previous employers provide resources to learn more about mental health issues and how to seek help?': 'previous_seek_help',\n",
    "    'Was your anonymity protected if you chose to take advantage of mental health or substance abuse treatment resources with previous employers?': 'previous_anonymity',\n",
    "    'Do you think that discussing a mental health disorder with previous employers would have negative consequences?': 'previous_mental_health_consequence',\n",
    "    'Do you think that discussing a physical health issue with previous employers would have negative consequences?': 'previous_phys_health_consequence',\n",
    "    'Would you have been willing to discuss a mental health issue with your previous co-workers?': 'previous_coworkers',\n",
    "    'Would you have been willing to discuss a mental health issue with your direct supervisor(s)?': 'previous_supervisor',\n",
    "    'Did you feel that your previous employers took mental health as seriously as physical health?': 'previous_mental_vs_physical',\n",
    "    'Did you hear of or observe negative consequences for co-workers with mental health issues in your previous workplaces?': 'previous_obs_consequence',\n",
    "    'Would you be willing to bring up a physical health issue with a potential employer in an interview?': 'phys_health_interview',\n",
    "    'Why or why not?': 'phys_health_interview_reason',\n",
    "    'Would you bring up a mental health issue with a potential employer in an interview?': 'mental_health_interview',\n",
    "    'Why or why not?.1': 'mental_health_interview_reason',\n",
    "    'Do you feel that being identified as a person with a mental health issue would hurt your career?': 'mental_health_career_impact',\n",
    "    'Do you think that team members/co-workers would view you more negatively if they knew you suffered from a mental health issue?': 'coworker_perception',\n",
    "    'How willing would you be to share with friends and family that you have a mental illness?': 'share_with_family',\n",
    "    'Have you observed or experienced an unsupportive or badly handled response to a mental health issue in your current or previous workplace?': 'observed_bad_response',\n",
    "    'Have your observations of how another individual who discussed a mental health disorder made you less likely to reveal a mental health issue yourself in your current workplace?': 'observed_impact',\n",
    "    'Do you have a family history of mental illness?': 'family_history',\n",
    "    'Have you had a mental health disorder in the past?': 'past_mental_health_disorder',\n",
    "    'Do you currently have a mental health disorder?': 'current_mental_health_disorder',\n",
    "    'If yes, what condition(s) have you been diagnosed with?': 'current_conditions_diagnosed',\n",
    "    'If maybe, what condition(s) do you believe you have?': 'suspected_conditions',\n",
    "    'Have you been diagnosed with a mental health condition by a medical professional?': 'diagnosed_conditions',\n",
    "    'If so, what condition(s) were you diagnosed with?': 'diagnosed_conditions_detail',\n",
    "    'Have you ever sought treatment for a mental health issue from a mental health professional?': 'sought_treatment',\n",
    "    'If you have a mental health issue, do you feel that it interferes with your work when being treated effectively?': 'work_interfere_treated',\n",
    "    'If you have a mental health issue, do you feel that it interferes with your work when NOT being treated effectively?': 'work_interfere_untreated',\n",
    "    'What is your age?': 'age',\n",
    "    'What is your gender?': 'sex',\n",
    "    'What country do you live in?': 'country',\n",
    "    'What US state or territory do you live in?': 'state',\n",
    "    'What country do you work in?': 'work_country',\n",
    "    'What US state or territory do you work in?': 'work_state',\n",
    "    'Which of the following best describes your work position?': 'work_position',\n",
    "    'Do you work remotely?': 'remote_work'\n",
    "}\n",
    "\n",
    "# Renaming the columns\n",
    "df_2016 = df_2016.rename(columns=column_mapping)\n",
    "\n",
    "# Now you can check the new column names\n",
    "print(df_2016.columns)"
   ]
  },
  {
   "cell_type": "code",
   "execution_count": 375,
   "metadata": {},
   "outputs": [
    {
     "data": {
      "text/plain": [
       "country\n",
       "United States of America    840\n",
       "United Kingdom              180\n",
       "Canada                       78\n",
       "Germany                      58\n",
       "Netherlands                  48\n",
       "Australia                    35\n",
       "Sweden                       19\n",
       "France                       16\n",
       "Ireland                      15\n",
       "Switzerland                  10\n",
       "Brazil                       10\n",
       "New Zealand                   9\n",
       "India                         9\n",
       "Russia                        9\n",
       "Bulgaria                      7\n",
       "Finland                       7\n",
       "Denmark                       7\n",
       "Italy                         5\n",
       "Belgium                       5\n",
       "South Africa                  4\n",
       "Romania                       4\n",
       "Spain                         4\n",
       "Poland                        4\n",
       "Austria                       4\n",
       "Norway                        3\n",
       "Pakistan                      3\n",
       "Chile                         3\n",
       "Czech Republic                3\n",
       "Japan                         2\n",
       "Israel                        2\n",
       "Other                         2\n",
       "Bosnia and Herzegovina        2\n",
       "Afghanistan                   2\n",
       "Estonia                       2\n",
       "Mexico                        2\n",
       "Colombia                      2\n",
       "Lithuania                     2\n",
       "Algeria                       1\n",
       "Serbia                        1\n",
       "Taiwan                        1\n",
       "Guatemala                     1\n",
       "China                         1\n",
       "Venezuela                     1\n",
       "Ecuador                       1\n",
       "Hungary                       1\n",
       "Bangladesh                    1\n",
       "Iran                          1\n",
       "Argentina                     1\n",
       "Brunei                        1\n",
       "Vietnam                       1\n",
       "Greece                        1\n",
       "Slovakia                      1\n",
       "Costa Rica                    1\n",
       "Name: count, dtype: int64"
      ]
     },
     "execution_count": 375,
     "metadata": {},
     "output_type": "execute_result"
    }
   ],
   "source": [
    "df_2016[\"country\"].value_counts()"
   ]
  },
  {
   "cell_type": "code",
   "execution_count": 376,
   "metadata": {},
   "outputs": [],
   "source": [
    "#pip install pycountry"
   ]
  },
  {
   "cell_type": "code",
   "execution_count": 377,
   "metadata": {},
   "outputs": [
    {
     "name": "stdout",
     "output_type": "stream",
     "text": [
      "<pycountry.ExistingCountries object at 0x000001C04DFD7A40>\n"
     ]
    }
   ],
   "source": [
    "import pycountry\n",
    "print(pycountry.countries)"
   ]
  },
  {
   "cell_type": "code",
   "execution_count": 378,
   "metadata": {},
   "outputs": [
    {
     "name": "stdout",
     "output_type": "stream",
     "text": [
      "['Albania', 'Andorra', 'Armenia', 'Austria', 'Azerbaijan', 'Belgium', 'Bulgaria', 'Bosnia and Herzegovina', 'Belarus', 'Switzerland', 'Cyprus', 'Czechia', 'Germany', 'Denmark', 'Spain', 'Estonia', 'Finland', 'France', 'United Kingdom', 'Georgia', 'Greece', 'Croatia', 'Hungary', 'Ireland', 'Iceland', 'Italy', 'Kazakhstan', 'Liechtenstein', 'Lithuania', 'Luxembourg', 'Latvia', 'Monaco', 'Moldova, Republic of', 'North Macedonia', 'Malta', 'Montenegro', 'Netherlands', 'Norway', 'Poland', 'Portugal', 'Romania', 'Russian Federation', 'San Marino', 'Serbia', 'Slovakia', 'Slovenia', 'Sweden', 'Ukraine', 'Holy See (Vatican City State)']\n"
     ]
    },
    {
     "data": {
      "text/plain": [
       "country\n",
       "United States of America    840\n",
       "Europe                      406\n",
       "Canada                       78\n",
       "Australia                    35\n",
       "Brazil                       10\n",
       "India                         9\n",
       "New Zealand                   9\n",
       "Russia                        9\n",
       "South Africa                  4\n",
       "Pakistan                      3\n",
       "Chile                         3\n",
       "Czech Republic                3\n",
       "Mexico                        2\n",
       "Israel                        2\n",
       "Japan                         2\n",
       "Other                         2\n",
       "Afghanistan                   2\n",
       "Colombia                      2\n",
       "Algeria                       1\n",
       "Bangladesh                    1\n",
       "Argentina                     1\n",
       "Venezuela                     1\n",
       "Brunei                        1\n",
       "Vietnam                       1\n",
       "Iran                          1\n",
       "Costa Rica                    1\n",
       "Ecuador                       1\n",
       "China                         1\n",
       "Guatemala                     1\n",
       "Taiwan                        1\n",
       "Name: count, dtype: int64"
      ]
     },
     "execution_count": 378,
     "metadata": {},
     "output_type": "execute_result"
    }
   ],
   "source": [
    "import pycountry\n",
    "\n",
    "# List of European countries\n",
    "european_countries = [\n",
    "    country.name for country in pycountry.countries\n",
    "    if country.alpha_2 in {\n",
    "        'AL', 'AD', 'AM', 'AT', 'AZ', 'BY', 'BE', 'BA', 'BG', 'HR', 'CY', 'CZ', 'DK', 'EE', 'FI', 'FR', 'GE', 'DE', \n",
    "        'GR', 'HU', 'IS', 'IE', 'IT', 'KZ', 'XK', 'LV', 'LI', 'LT', 'LU', 'MT', 'MD', 'MC', 'ME', 'NL', 'MK', 'NO', \n",
    "        'PL', 'PT', 'RO', 'RU', 'SM', 'RS', 'SK', 'SI', 'ES', 'SE', 'CH', 'UA', 'GB', 'VA'\n",
    "    }\n",
    "]\n",
    "\n",
    "print(european_countries)\n",
    "\n",
    "def grouped_countries(country):\n",
    "    if country in european_countries:\n",
    "        return \"Europe\"\n",
    "    else:\n",
    "        return country\n",
    "\n",
    "df_2016[\"country\"] = df_2016[\"country\"].apply(grouped_countries)\n",
    "\n",
    "df_2016[\"country\"].value_counts()\n",
    "\n",
    "#European countries grouped into Europe"
   ]
  },
  {
   "cell_type": "code",
   "execution_count": 379,
   "metadata": {},
   "outputs": [
    {
     "data": {
      "text/plain": [
       "array(['Male', 'male', 'Male ', 'Female', 'M', 'female', 'm',\n",
       "       'I identify as female.', 'female ', 'Bigender', 'non-binary',\n",
       "       'Female assigned at birth ', 'F', 'Woman', 'man', 'fm', 'f',\n",
       "       'Cis female ', 'Transitioned, M2F', 'Genderfluid (born female)',\n",
       "       'Other/Transfeminine', 'Female or Multi-Gender Femme', 'Female ',\n",
       "       'woman', 'female/woman', 'Cis male', 'Male.', 'Androgynous',\n",
       "       'male 9:1 female, roughly', nan, 'Male (cis)', 'Other',\n",
       "       'nb masculine', 'Cisgender Female', 'Man', 'Sex is male',\n",
       "       'none of your business', 'genderqueer', 'cis male', 'Human',\n",
       "       'Genderfluid', 'Enby', 'Malr', 'genderqueer woman', 'mtf', 'Queer',\n",
       "       'Agender', 'Dude', 'Fluid',\n",
       "       \"I'm a man why didn't you make this a drop down question. You should of asked sex? And I would of answered yes please. Seriously how much text can this take? \",\n",
       "       'mail', 'M|', 'Male/genderqueer', 'fem', 'Nonbinary', 'male ',\n",
       "       'human', 'Female (props for making this a freeform field, though)',\n",
       "       ' Female', 'Unicorn', 'Cis Male', 'Male (trans, FtM)', 'Cis-woman',\n",
       "       'Genderqueer', 'cisdude', 'Genderflux demi-girl',\n",
       "       'female-bodied; no feelings about gender', 'cis man', 'AFAB',\n",
       "       'Transgender woman', 'MALE'], dtype=object)"
      ]
     },
     "execution_count": 379,
     "metadata": {},
     "output_type": "execute_result"
    }
   ],
   "source": [
    "df_2016[\"sex\"].unique()"
   ]
  },
  {
   "cell_type": "code",
   "execution_count": 380,
   "metadata": {},
   "outputs": [
    {
     "data": {
      "text/plain": [
       "sex\n",
       "M    1038\n",
       "F     322\n",
       "Name: count, dtype: int64"
      ]
     },
     "execution_count": 380,
     "metadata": {},
     "output_type": "execute_result"
    }
   ],
   "source": [
    "#Assigning F or M values to sex column:\n",
    "\n",
    "stand_gender = {\"MALE\":\"M\", \"Male\":\"M\", \"M|\":\"M\", \"Dude\":\"M\", \"m\":\"M\", \"male \":\"M\", \"M\":\"M\", \"male\":\"M\", \"Make\":\"M\", \"cisdude\":\"M\", \"maile\": \"M\", \"Mal\":\"M\", \"Malr\":\"M\", \"Male.\":\"M\", \"Mail\":\"M\", \"cis man\":\"M\", \"cis male\":\"M\", \"Cis Man\":\"M\", \"msale\":\"M\", \"Androgyne\":\"M\", \"Male-ish\":\"M\", \"Man\":\"M\", \"Male (CIS)\":\"M\", \"Cis Male\":\"M\", \"Sex is male\":\"M\",\n",
    "                \"F\":\"F\", \"female\":\"F\", \"Female\":\"F\", \"f\":\"F\", \"female/woman\":\"F\", \"fem\":\"F\", \"Femal\":\"F\", \"femail\":\"F\", \"I identify as female\":\"F\", \"Woman\":\"F\", \"Cisgender Female\":\"F\",\"cis-female/femme\":\"F\",\"Femake\":\"F\", \"woman\":\"F\", \"Cis-woman\":\"F\", \"Cis Female\":\"F\", \"Female assigned at birth\": \"F\", \"fm\":\"F\", \"fem\":\"F\", \"Female (props for making this a freeform field, though)\":\"F\"}\n",
    "\n",
    "df_2016[\"sex\"] = df_2016[\"sex\"].map(stand_gender).str.strip().str.upper()\n",
    "\n",
    "df_2016[\"sex\"].unique()\n",
    "df_2016.sex.isna().sum()\n",
    "\n",
    "#This generated 70 Nan: will drop them\n",
    "df_2016.sex.value_counts ()"
   ]
  },
  {
   "cell_type": "code",
   "execution_count": 381,
   "metadata": {},
   "outputs": [
    {
     "data": {
      "text/plain": [
       "0"
      ]
     },
     "execution_count": 381,
     "metadata": {},
     "output_type": "execute_result"
    }
   ],
   "source": [
    "df_2016.dropna(subset = [\"sex\"], inplace = True)\n",
    "df_2016.sex.isna().sum()\n",
    "#NAN removed"
   ]
  },
  {
   "cell_type": "code",
   "execution_count": 382,
   "metadata": {},
   "outputs": [
    {
     "data": {
      "text/plain": [
       "0"
      ]
     },
     "execution_count": 382,
     "metadata": {},
     "output_type": "execute_result"
    }
   ],
   "source": [
    "df_2016.age.isna().sum()"
   ]
  },
  {
   "cell_type": "code",
   "execution_count": 383,
   "metadata": {},
   "outputs": [
    {
     "data": {
      "text/plain": [
       "array([ 39,  29,  43,  42,  30,  37,  44,  28,  34,  35,  52,  31,  26,\n",
       "        25,  33,  38,  27,  36,  40,  41,  32,  45,  46,  19,  21,  24,\n",
       "        17,  23,  22,  51,  48,  55,  50,  49,  20,  54,  47,  56,  57,\n",
       "        63,  61, 323,  62,  53,  58,   3,  66,  59,  15,  65,  70],\n",
       "      dtype=int64)"
      ]
     },
     "execution_count": 383,
     "metadata": {},
     "output_type": "execute_result"
    }
   ],
   "source": [
    "df_2016.age.unique()\n",
    "#some values make no sense: 323, 3, 15: will drop them"
   ]
  },
  {
   "cell_type": "code",
   "execution_count": 384,
   "metadata": {},
   "outputs": [
    {
     "data": {
      "text/plain": [
       "array([39, 29, 43, 42, 30, 37, 44, 28, 34, 35, 52, 31, 26, 25, 33, 38, 27,\n",
       "       36, 40, 41, 32, 45, 46, 19, 21, 24, 17, 23, 22, 51, 48, 55, 50, 49,\n",
       "       20, 54, 47, 56, 57, 63, 61, 62, 53, 58, 66, 59, 65, 70],\n",
       "      dtype=int64)"
      ]
     },
     "execution_count": 384,
     "metadata": {},
     "output_type": "execute_result"
    }
   ],
   "source": [
    "df_2016 = df_2016[(df_2016['age'] >= 17) & (df_2016['age'] <= 70)]\n",
    "df_2016.age.unique()\n",
    "\n",
    "#Column is clean"
   ]
  },
  {
   "cell_type": "code",
   "execution_count": 385,
   "metadata": {},
   "outputs": [
    {
     "name": "stdout",
     "output_type": "stream",
     "text": [
      "{'20-30': [29, 30, 28, 26, 25, 27, 21, 24, 23, 22, 20], '31-40': [39, 37, 34, 35, 31, 33, 38, 36, 40, 32], '41-50': [43, 42, 44, 41, 45, 46, 48, 50, 49, 47], '51-60': [52, 51, 55, 54, 56, 57, 53, 58, 59], '61-70': [63, 61, 62, 66, 65, 70]}\n"
     ]
    }
   ],
   "source": [
    "#Create range for age\n",
    "array = np.array([39, 29, 43, 42, 30, 37, 44, 28, 34, 35, 52, 31, 26, 25, 33, 38, 27,\n",
    "                  36, 40, 41, 32, 45, 46, 19, 21, 24, 17, 23, 22, 51, 48, 55, 50, 49,\n",
    "                  20, 54, 47, 56, 57, 63, 61, 62, 53, 58, 66, 59, 65, 70], dtype=np.int64)\n",
    "\n",
    "age_ranges = {\n",
    "    \"20-30\": [],\n",
    "    \"31-40\": [],\n",
    "    \"41-50\": [],\n",
    "    \"51-60\": [],\n",
    "    \"61-70\": []\n",
    "}\n",
    "\n",
    "for num in array:\n",
    "    if 20 <= num <= 30:\n",
    "        age_ranges[\"20-30\"].append(num)\n",
    "    elif 31 <= num <= 40:\n",
    "        age_ranges[\"31-40\"].append(num)\n",
    "    elif 41 <= num <= 50:\n",
    "        age_ranges[\"41-50\"].append(num)\n",
    "    elif 51 <= num <= 60:\n",
    "        age_ranges[\"51-60\"].append(num)\n",
    "    elif 61 <= num <= 70:\n",
    "        age_ranges[\"61-70\"].append(num)\n",
    "\n",
    "print(ranges)"
   ]
  },
  {
   "cell_type": "code",
   "execution_count": 386,
   "metadata": {},
   "outputs": [
    {
     "data": {
      "text/plain": [
       "array(['26-100', '6-25', nan, 'More than 1000', '100-500', '500-1000',\n",
       "       '1-5'], dtype=object)"
      ]
     },
     "execution_count": 386,
     "metadata": {},
     "output_type": "execute_result"
    }
   ],
   "source": [
    "df_2016[\"no_employees\"].unique()"
   ]
  },
  {
   "cell_type": "code",
   "execution_count": 387,
   "metadata": {},
   "outputs": [
    {
     "data": {
      "text/plain": [
       "no_employees\n",
       "26-100            279\n",
       "More than 1000    243\n",
       "100-500           235\n",
       "6-25              199\n",
       "500-1000           76\n",
       "1-5                57\n",
       "Name: count, dtype: int64"
      ]
     },
     "execution_count": 387,
     "metadata": {},
     "output_type": "execute_result"
    }
   ],
   "source": [
    "df_2016['no_employees'].value_counts()"
   ]
  },
  {
   "cell_type": "code",
   "execution_count": 388,
   "metadata": {},
   "outputs": [
    {
     "name": "stdout",
     "output_type": "stream",
     "text": [
      "['26-100' '6-25' 'More than 1000' '100-500' '500-1000' '1-5']\n",
      "0\n"
     ]
    }
   ],
   "source": [
    "# Distribute the Nan into the different categories without affecting their proportions:\n",
    "\n",
    "categories = df_2016['no_employees'].dropna().value_counts(normalize=True)\n",
    "\n",
    "num_missing = df_2016['no_employees'].isna().sum()\n",
    "\n",
    "# Generate missing values based on the proportions\n",
    "missing_values = np.random.choice(\n",
    "    categories.index,\n",
    "    size=num_missing,\n",
    "    p=categories.values\n",
    ")\n",
    "\n",
    "# Replace NaN values directly in the DataFrame\n",
    "df_2016.loc[df_2016['no_employees'].isna(), 'no_employees'] = missing_values\n",
    "\n",
    "# Check if there are any NaNs left\n",
    "print(df_2016['no_employees'].unique())  # Should show no NaNs\n",
    "print(df_2016['no_employees'].isna().sum())  # Should be 0"
   ]
  },
  {
   "cell_type": "code",
   "execution_count": 389,
   "metadata": {},
   "outputs": [
    {
     "data": {
      "text/plain": [
       "no_employees\n",
       "26-100            341\n",
       "More than 1000    313\n",
       "100-500           302\n",
       "6-25              238\n",
       "500-1000           96\n",
       "1-5                67\n",
       "Name: count, dtype: int64"
      ]
     },
     "execution_count": 389,
     "metadata": {},
     "output_type": "execute_result"
    }
   ],
   "source": [
    "df_2016['no_employees'].value_counts()"
   ]
  },
  {
   "cell_type": "code",
   "execution_count": 390,
   "metadata": {},
   "outputs": [
    {
     "data": {
      "text/plain": [
       "current_mental_health_disorder\n",
       "Yes      532\n",
       "No       514\n",
       "Maybe    311\n",
       "Name: count, dtype: int64"
      ]
     },
     "execution_count": 390,
     "metadata": {},
     "output_type": "execute_result"
    }
   ],
   "source": [
    "df_2016[\"current_mental_health_disorder\"].value_counts()"
   ]
  },
  {
   "cell_type": "code",
   "execution_count": 391,
   "metadata": {},
   "outputs": [
    {
     "data": {
      "text/plain": [
       "past_mental_health_disorder\n",
       "Yes      683\n",
       "No       438\n",
       "Maybe    236\n",
       "Name: count, dtype: int64"
      ]
     },
     "execution_count": 391,
     "metadata": {},
     "output_type": "execute_result"
    }
   ],
   "source": [
    "df_2016[\"past_mental_health_disorder\"].value_counts()"
   ]
  },
  {
   "cell_type": "code",
   "execution_count": 392,
   "metadata": {},
   "outputs": [
    {
     "data": {
      "text/plain": [
       "array(['Anxiety Disorder (Generalized, Social, Phobia, etc)',\n",
       "       'Anxiety Disorder (Generalized, Social, Phobia, etc)|Mood Disorder (Depression, Bipolar Disorder, etc)',\n",
       "       nan,\n",
       "       'Anxiety Disorder (Generalized, Social, Phobia, etc)|Substance Use Disorder',\n",
       "       'Mood Disorder (Depression, Bipolar Disorder, etc)',\n",
       "       'Anxiety Disorder (Generalized, Social, Phobia, etc)|Obsessive-Compulsive Disorder',\n",
       "       'Mood Disorder (Depression, Bipolar Disorder, etc)|Attention Deficit Hyperactivity Disorder|Post-traumatic Stress Disorder',\n",
       "       'Anxiety Disorder (Generalized, Social, Phobia, etc)|Mood Disorder (Depression, Bipolar Disorder, etc)|Substance Use Disorder|Addictive Disorder',\n",
       "       'Anxiety Disorder (Generalized, Social, Phobia, etc)|Attention Deficit Hyperactivity Disorder',\n",
       "       'Mood Disorder (Depression, Bipolar Disorder, etc)|Attention Deficit Hyperactivity Disorder',\n",
       "       'Anxiety Disorder (Generalized, Social, Phobia, etc)|Mood Disorder (Depression, Bipolar Disorder, etc)|Attention Deficit Hyperactivity Disorder',\n",
       "       'Mood Disorder (Depression, Bipolar Disorder, etc)|Eating Disorder (Anorexia, Bulimia, etc)|Obsessive-Compulsive Disorder',\n",
       "       'Attention Deficit Hyperactivity Disorder|PDD-NOS (see above)',\n",
       "       'Seasonal Affective Disorder', 'Burn out',\n",
       "       'Anxiety Disorder (Generalized, Social, Phobia, etc)|Mood Disorder (Depression, Bipolar Disorder, etc)|Obsessive-Compulsive Disorder',\n",
       "       'PDD-NOS',\n",
       "       'Mood Disorder (Depression, Bipolar Disorder, etc)|Suicidal Ideation',\n",
       "       'Attention Deficit Hyperactivity Disorder', 'Depression',\n",
       "       'Anxiety Disorder (Generalized, Social, Phobia, etc)|Mood Disorder (Depression, Bipolar Disorder, etc)|Attention Deficit Hyperactivity Disorder|Substance Use Disorder',\n",
       "       'Anxiety Disorder (Generalized, Social, Phobia, etc)|Mood Disorder (Depression, Bipolar Disorder, etc)|Personality Disorder (Borderline, Antisocial, Paranoid, etc)|Stress Response Syndromes',\n",
       "       'Anxiety Disorder (Generalized, Social, Phobia, etc)|Mood Disorder (Depression, Bipolar Disorder, etc)|Attention Deficit Hyperactivity Disorder|Personality Disorder (Borderline, Antisocial, Paranoid, etc)',\n",
       "       'Substance Use Disorder',\n",
       "       'Addictive Disorder|Substance Use Disorder|Anxiety Disorder (Generalized, Social, Phobia, etc)|Mood Disorder (Depression, Bipolar Disorder, etc)|Personality Disorder (Borderline, Antisocial, Paranoid, etc)|Post-traumatic Stress Disorder',\n",
       "       'Anxiety Disorder (Generalized, Social, Phobia, etc)|Stress Response Syndromes',\n",
       "       'Stress Response Syndromes',\n",
       "       'Anxiety Disorder (Generalized, Social, Phobia, etc)|Mood Disorder (Depression, Bipolar Disorder, etc)|Post-traumatic Stress Disorder',\n",
       "       'Mood Disorder (Depression, Bipolar Disorder, etc)|Personality Disorder (Borderline, Antisocial, Paranoid, etc)|Post-traumatic Stress Disorder',\n",
       "       'Mood Disorder (Depression, Bipolar Disorder, etc)|Eating Disorder (Anorexia, Bulimia, etc)|Attention Deficit Hyperactivity Disorder|Personality Disorder (Borderline, Antisocial, Paranoid, etc)|Dissociative Disorder',\n",
       "       'Anxiety Disorder (Generalized, Social, Phobia, etc)|Mood Disorder (Depression, Bipolar Disorder, etc)|Eating Disorder (Anorexia, Bulimia, etc)|Personality Disorder (Borderline, Antisocial, Paranoid, etc)|Post-traumatic Stress Disorder',\n",
       "       'Anxiety Disorder (Generalized, Social, Phobia, etc)|Mood Disorder (Depression, Bipolar Disorder, etc)|Substance Use Disorder',\n",
       "       'Anxiety Disorder (Generalized, Social, Phobia, etc)|Post-traumatic Stress Disorder',\n",
       "       'Anxiety Disorder (Generalized, Social, Phobia, etc)|Mood Disorder (Depression, Bipolar Disorder, etc)|Attention Deficit Hyperactivity Disorder|Post-traumatic Stress Disorder|Substance Use Disorder',\n",
       "       'Anxiety Disorder (Generalized, Social, Phobia, etc)|Mood Disorder (Depression, Bipolar Disorder, etc)|Eating Disorder (Anorexia, Bulimia, etc)|Personality Disorder (Borderline, Antisocial, Paranoid, etc)|Obsessive-Compulsive Disorder',\n",
       "       'Anxiety Disorder (Generalized, Social, Phobia, etc)|Mood Disorder (Depression, Bipolar Disorder, etc)|Stress Response Syndromes',\n",
       "       \"Autism (Asperger's)\",\n",
       "       'Anxiety Disorder (Generalized, Social, Phobia, etc)|Obsessive-Compulsive Disorder|Post-traumatic Stress Disorder',\n",
       "       'Anxiety Disorder (Generalized, Social, Phobia, etc)|Mood Disorder (Depression, Bipolar Disorder, etc)|Eating Disorder (Anorexia, Bulimia, etc)',\n",
       "       'Anxiety Disorder (Generalized, Social, Phobia, etc)|Mood Disorder (Depression, Bipolar Disorder, etc)|Attention Deficit Hyperactivity Disorder|Post-traumatic Stress Disorder',\n",
       "       'Anxiety Disorder (Generalized, Social, Phobia, etc)|Mood Disorder (Depression, Bipolar Disorder, etc)|Eating Disorder (Anorexia, Bulimia, etc)|Attention Deficit Hyperactivity Disorder',\n",
       "       'Mood Disorder (Depression, Bipolar Disorder, etc)|Stress Response Syndromes',\n",
       "       'Anxiety Disorder (Generalized, Social, Phobia, etc)|Mood Disorder (Depression, Bipolar Disorder, etc)|Attention Deficit Hyperactivity Disorder|Obsessive-Compulsive Disorder|Post-traumatic Stress Disorder',\n",
       "       'Anxiety Disorder (Generalized, Social, Phobia, etc)|Mood Disorder (Depression, Bipolar Disorder, etc)|Personality Disorder (Borderline, Antisocial, Paranoid, etc)',\n",
       "       'Anxiety Disorder (Generalized, Social, Phobia, etc)|Personality Disorder (Borderline, Antisocial, Paranoid, etc)|Obsessive-Compulsive Disorder',\n",
       "       'Mood Disorder (Depression, Bipolar Disorder, etc)|Gender Dysphoria',\n",
       "       'Mood Disorder (Depression, Bipolar Disorder, etc)|Post-traumatic Stress Disorder|Substance Use Disorder',\n",
       "       'Mood Disorder (Depression, Bipolar Disorder, etc)|Personality Disorder (Borderline, Antisocial, Paranoid, etc)',\n",
       "       'Obsessive-Compulsive Disorder', 'Post-traumatic Stress Disorder',\n",
       "       'Anxiety Disorder (Generalized, Social, Phobia, etc)|Eating Disorder (Anorexia, Bulimia, etc)',\n",
       "       'Anxiety Disorder (Generalized, Social, Phobia, etc)|Mood Disorder (Depression, Bipolar Disorder, etc)|Personality Disorder (Borderline, Antisocial, Paranoid, etc)|Post-traumatic Stress Disorder',\n",
       "       'Substance Use Disorder|Addictive Disorder',\n",
       "       'Anxiety Disorder (Generalized, Social, Phobia, etc)|Personality Disorder (Borderline, Antisocial, Paranoid, etc)',\n",
       "       'Stress Response Syndromes|Mood Disorder (Depression, Bipolar Disorder, etc)',\n",
       "       'Psychotic Disorder (Schizophrenia, Schizoaffective, etc)',\n",
       "       'Anxiety Disorder (Generalized, Social, Phobia, etc)|Mood Disorder (Depression, Bipolar Disorder, etc)|Obsessive-Compulsive Disorder|Post-traumatic Stress Disorder|Stress Response Syndromes',\n",
       "       'Anxiety Disorder (Generalized, Social, Phobia, etc)|Mood Disorder (Depression, Bipolar Disorder, etc)|Post-traumatic Stress Disorder|Stress Response Syndromes',\n",
       "       'Eating Disorder (Anorexia, Bulimia, etc)|Attention Deficit Hyperactivity Disorder|Post-traumatic Stress Disorder|Substance Use Disorder|Addictive Disorder',\n",
       "       'Substance Use Disorder|Anxiety Disorder (Generalized, Social, Phobia, etc)',\n",
       "       'Anxiety Disorder (Generalized, Social, Phobia, etc)|Mood Disorder (Depression, Bipolar Disorder, etc)|Obsessive-Compulsive Disorder|Post-traumatic Stress Disorder',\n",
       "       'Anxiety Disorder (Generalized, Social, Phobia, etc)|Mood Disorder (Depression, Bipolar Disorder, etc)|Personality Disorder (Borderline, Antisocial, Paranoid, etc)|Post-traumatic Stress Disorder|Stress Response Syndromes|Substance Use Disorder|Addictive Disorder',\n",
       "       'Mood Disorder (Depression, Bipolar Disorder, etc)|Post-traumatic Stress Disorder',\n",
       "       'Mood Disorder (Depression, Bipolar Disorder, etc)|Attention Deficit Hyperactivity Disorder|Obsessive-Compulsive Disorder|Addictive Disorder',\n",
       "       'Anxiety Disorder (Generalized, Social, Phobia, etc)|Post-traumatic Stress Disorder|Stress Response Syndromes',\n",
       "       'Anxiety Disorder (Generalized, Social, Phobia, etc)|Mood Disorder (Depression, Bipolar Disorder, etc)|Attention Deficit Hyperactivity Disorder|Obsessive-Compulsive Disorder|Post-traumatic Stress Disorder|Substance Use Disorder',\n",
       "       'Autism - while not a \"mental illness\", still greatly affects how I handle anxiety',\n",
       "       'Obsessive-Compulsive Disorder|Substance Use Disorder',\n",
       "       'Mood Disorder (Depression, Bipolar Disorder, etc)|Attention Deficit Disorder',\n",
       "       'Post-traumatic Stress Disorder|Personality Disorder (Borderline, Antisocial, Paranoid, etc)',\n",
       "       'Substance Use Disorder|Mood Disorder (Depression, Bipolar Disorder, etc)',\n",
       "       'Mood Disorder (Depression, Bipolar Disorder, etc)|Post-traumatic Stress Disorder|Addictive Disorder',\n",
       "       'Mood Disorder (Depression, Bipolar Disorder, etc)|Anxiety Disorder (Generalized, Social, Phobia, etc)',\n",
       "       'Attention Deficit Hyperactivity Disorder|MCD (when it was diagnosed, the ultra-mega \"disorder\" ADHD didn\\'t exist yet)',\n",
       "       'Anxiety Disorder (Generalized, Social, Phobia, etc)|Mood Disorder (Depression, Bipolar Disorder, etc)|Dissociative Disorder',\n",
       "       'Mood Disorder (Depression, Bipolar Disorder, etc)|Addictive Disorder',\n",
       "       'attention deficit disorder (but not the hyperactive version)',\n",
       "       'Mood Disorder (Depression, Bipolar Disorder, etc)|Attention Deficit Hyperactivity Disorder|Post-traumatic Stress Disorder|Substance Use Disorder',\n",
       "       'Attention Deficit Hyperactivity Disorder|Mood Disorder (Depression, Bipolar Disorder, etc)',\n",
       "       'Mood Disorder (Depression, Bipolar Disorder, etc)|Attention Deficit Hyperactivity Disorder|Aspergers',\n",
       "       'Personality Disorder (Borderline, Antisocial, Paranoid, etc)',\n",
       "       'Attention Deficit Hyperactivity Disorder|Post-traumatic Stress Disorder|Substance Use Disorder',\n",
       "       'Mood Disorder (Depression, Bipolar Disorder, etc)|Post-traumatic Stress Disorder|Dissociative Disorder',\n",
       "       'Anxiety Disorder (Generalized, Social, Phobia, etc)|Mood Disorder (Depression, Bipolar Disorder, etc)|Personality Disorder (Borderline, Antisocial, Paranoid, etc)|Obsessive-Compulsive Disorder',\n",
       "       'Anxiety Disorder (Generalized, Social, Phobia, etc)|Attention Deficit Hyperactivity Disorder|Post-traumatic Stress Disorder',\n",
       "       'Mood Disorder (Depression, Bipolar Disorder, etc)|Substance Use Disorder|Addictive Disorder',\n",
       "       'Stress Response Syndromes|Mood Disorder (Depression, Bipolar Disorder, etc)|Anxiety Disorder (Generalized, Social, Phobia, etc)',\n",
       "       'Autism Spectrum Disorder',\n",
       "       'Anxiety Disorder (Generalized, Social, Phobia, etc)|Mood Disorder (Depression, Bipolar Disorder, etc)|Personality Disorder (Borderline, Antisocial, Paranoid, etc)|Obsessive-Compulsive Disorder|Addictive Disorder',\n",
       "       'Asperger Syndrome',\n",
       "       'Anxiety Disorder (Generalized, Social, Phobia, etc)|Mood Disorder (Depression, Bipolar Disorder, etc)|Psychotic Disorder (Schizophrenia, Schizoaffective, etc)|Dissociative Disorder|Autism',\n",
       "       'Mood Disorder (Depression, Bipolar Disorder, etc)|Eating Disorder (Anorexia, Bulimia, etc)|Attention Deficit Hyperactivity Disorder|Personality Disorder (Borderline, Antisocial, Paranoid, etc)',\n",
       "       'Mood Disorder (Depression, Bipolar Disorder, etc)|Intimate Disorder',\n",
       "       'Mood Disorder (Depression, Bipolar Disorder, etc)|Eating Disorder (Anorexia, Bulimia, etc)',\n",
       "       'Mood Disorder (Depression, Bipolar Disorder, etc)|Psychotic Disorder (Schizophrenia, Schizoaffective, etc)|Obsessive-Compulsive Disorder|Post-traumatic Stress Disorder|Substance Use Disorder',\n",
       "       'Anxiety Disorder (Generalized, Social, Phobia, etc)|Mood Disorder (Depression, Bipolar Disorder, etc)|Eating Disorder (Anorexia, Bulimia, etc)|Attention Deficit Hyperactivity Disorder|Post-traumatic Stress Disorder',\n",
       "       'Mood Disorder (Depression, Bipolar Disorder, etc)|Substance Use Disorder',\n",
       "       'Anxiety Disorder (Generalized, Social, Phobia, etc)|Mood Disorder (Depression, Bipolar Disorder, etc)|Post-traumatic Stress Disorder|Substance Use Disorder',\n",
       "       'Anxiety Disorder (Generalized, Social, Phobia, etc)|Mood Disorder (Depression, Bipolar Disorder, etc)|Attention Deficit Hyperactivity Disorder|Obsessive-Compulsive Disorder',\n",
       "       'Anxiety Disorder (Generalized, Social, Phobia, etc)|Personality Disorder (Borderline, Antisocial, Paranoid, etc)|Dissociative Disorder',\n",
       "       'ADD (w/o Hyperactivity)',\n",
       "       'Addictive Disorder|Anxiety Disorder (Generalized, Social, Phobia, etc)|Mood Disorder (Depression, Bipolar Disorder, etc)|Eating Disorder (Anorexia, Bulimia, etc)|Attention Deficit Hyperactivity Disorder|Obsessive-Compulsive Disorder|Post-traumatic Stress Disorder|Dissociative Disorder',\n",
       "       'Eating Disorder (Anorexia, Bulimia, etc)',\n",
       "       'Schizotypal Personality Disorder', 'autism spectrum disorder'],\n",
       "      dtype=object)"
      ]
     },
     "execution_count": 392,
     "metadata": {},
     "output_type": "execute_result"
    }
   ],
   "source": [
    "df_2016[\"diagnosed_conditions_detail\"].unique()"
   ]
  },
  {
   "cell_type": "code",
   "execution_count": 393,
   "metadata": {},
   "outputs": [
    {
     "data": {
      "text/plain": [
       "0"
      ]
     },
     "execution_count": 393,
     "metadata": {},
     "output_type": "execute_result"
    }
   ],
   "source": [
    "df_2016[\"diagnosed_conditions\"].isna().sum()"
   ]
  },
  {
   "cell_type": "code",
   "execution_count": 394,
   "metadata": {},
   "outputs": [
    {
     "data": {
      "text/plain": [
       "85.92483419307295"
      ]
     },
     "execution_count": 394,
     "metadata": {},
     "output_type": "execute_result"
    }
   ],
   "source": [
    "# 1.Hypothesis: Employees who have a diagnosed mental health disorder are more likely to report that their productivity is affected by mental health issues.\n",
    "df_2016.work_time_impact.isna ().sum () /df_2016.work_time_impact .shape [0]* 100 \n",
    "#85% of the data is null\n"
   ]
  },
  {
   "cell_type": "code",
   "execution_count": 395,
   "metadata": {},
   "outputs": [
    {
     "data": {
      "text/plain": [
       "80.25055268975682"
      ]
     },
     "execution_count": 395,
     "metadata": {},
     "output_type": "execute_result"
    }
   ],
   "source": [
    "df_2016.productivity_impact.isnull().sum () /df_2016.productivity_impact .shape [0]* 100 \n",
    "#80% of the data is null"
   ]
  },
  {
   "cell_type": "code",
   "execution_count": 396,
   "metadata": {},
   "outputs": [
    {
     "data": {
      "text/plain": [
       "array(['Yes', 'No'], dtype=object)"
      ]
     },
     "execution_count": 396,
     "metadata": {},
     "output_type": "execute_result"
    }
   ],
   "source": [
    "df_2016.diagnosed_conditions.unique ()"
   ]
  },
  {
   "cell_type": "code",
   "execution_count": 397,
   "metadata": {},
   "outputs": [],
   "source": [
    "#2. Hypothesis: Remote workers are less likely to have their mental health issues effectively treated compared to those who work on-site."
   ]
  },
  {
   "cell_type": "code",
   "execution_count": 398,
   "metadata": {},
   "outputs": [
    {
     "data": {
      "text/plain": [
       "remote_work\n",
       "Sometimes    719\n",
       "Always       324\n",
       "Never        314\n",
       "Name: count, dtype: int64"
      ]
     },
     "execution_count": 398,
     "metadata": {},
     "output_type": "execute_result"
    }
   ],
   "source": [
    "#df_2016.remote_work.isnull ().sum()\n",
    "df_2016.remote_work.value_counts ()"
   ]
  },
  {
   "cell_type": "code",
   "execution_count": 399,
   "metadata": {},
   "outputs": [
    {
     "data": {
      "text/plain": [
       "work_interfere_treated\n",
       "Not applicable to me    538\n",
       "Sometimes               344\n",
       "Rarely                  306\n",
       "Never                   112\n",
       "Often                    57\n",
       "Name: count, dtype: int64"
      ]
     },
     "execution_count": 399,
     "metadata": {},
     "output_type": "execute_result"
    }
   ],
   "source": [
    "#df_2016.mental_health_work_interference_treated.isnull ().sum()\n",
    "df_2016['work_interfere_treated'].value_counts()"
   ]
  },
  {
   "cell_type": "code",
   "execution_count": 400,
   "metadata": {},
   "outputs": [
    {
     "data": {
      "text/plain": [
       "work_interfere_untreated\n",
       "Often                   494\n",
       "Not applicable to me    455\n",
       "Sometimes               346\n",
       "Rarely                   51\n",
       "Never                    11\n",
       "Name: count, dtype: int64"
      ]
     },
     "execution_count": 400,
     "metadata": {},
     "output_type": "execute_result"
    }
   ],
   "source": [
    "#df_2016.mental_health_work_interference_untreated.isnull ().sum()\n",
    "df_2016['work_interfere_untreated'].value_counts()"
   ]
  },
  {
   "cell_type": "code",
   "execution_count": 401,
   "metadata": {},
   "outputs": [
    {
     "data": {
      "text/plain": [
       "0"
      ]
     },
     "execution_count": 401,
     "metadata": {},
     "output_type": "execute_result"
    }
   ],
   "source": [
    "#3. Hypothesis: There are significant gender differences in how mental health issues are perceived and discussed in the workplace.\n",
    "#'Do you feel that being identified as a person with a mental health issue would hurt your career?'\n",
    "df_2016.mental_health_career_impact.isnull () .sum ()"
   ]
  },
  {
   "cell_type": "code",
   "execution_count": 402,
   "metadata": {},
   "outputs": [
    {
     "data": {
      "text/plain": [
       "array(['Maybe', \"No, I don't think it would\", 'Yes, I think it would',\n",
       "       'No, it has not', 'Yes, it has'], dtype=object)"
      ]
     },
     "execution_count": 402,
     "metadata": {},
     "output_type": "execute_result"
    }
   ],
   "source": [
    "df_2016.mental_health_career_impact.unique () \n"
   ]
  },
  {
   "cell_type": "code",
   "execution_count": 403,
   "metadata": {},
   "outputs": [],
   "source": [
    "#Replacing values\n",
    "df_2016[\"mental_health_career_impact\"] = df_2016[\"mental_health_career_impact\"].replace ({\"No, I don't think it would\": \"No\",\"No, it has not\": \"No\", \"Yes, it has\": \"Yes\", \"Yes, I think it would\": \"Yes\"})\n",
    "#df_2016.mental_health_career_impact.unique () "
   ]
  },
  {
   "cell_type": "code",
   "execution_count": 404,
   "metadata": {},
   "outputs": [
    {
     "data": {
      "image/png": "[encoded data removed]",
      "text/plain": [
       "<Figure size 600x400 with 1 Axes>"
      ]
     },
     "metadata": {},
     "output_type": "display_data"
    }
   ],
   "source": [
    "# Count the occurrences\n",
    "count_df = df_2016.groupby(['sex', 'mental_health_career_impact']).size().reset_index(name='Count')\n",
    "\n",
    "# Plotting the data\n",
    "plt.figure(figsize=(6,4))\n",
    "sns.barplot(x='sex', y='Count', hue='mental_health_career_impact', data=count_df, palette='viridis')\n",
    "#(kind='barh', stacked=False, figsize=(8,4), colormap='tab10')\n",
    "plt.title('Identifying as a person with a mental health issue negatively impacts career progression by Sex')\n",
    "plt.xlabel('Sex')\n",
    "#plt.ylabel('Number of People')\n",
    "#new_labels = ['Not Discuss', 'Discuss']\n",
    "plt.legend(title='Discuss Mental Health')\n",
    "plt.show()"
   ]
  },
  {
   "cell_type": "code",
   "execution_count": 405,
   "metadata": {},
   "outputs": [
    {
     "data": {
      "text/plain": [
       "268"
      ]
     },
     "execution_count": 405,
     "metadata": {},
     "output_type": "execute_result"
    }
   ],
   "source": [
    "df_2016.coworkers.isnull () .sum ()"
   ]
  },
  {
   "cell_type": "code",
   "execution_count": 406,
   "metadata": {},
   "outputs": [
    {
     "data": {
      "text/plain": [
       "array(['Maybe', nan, 'Yes', 'No'], dtype=object)"
      ]
     },
     "execution_count": 406,
     "metadata": {},
     "output_type": "execute_result"
    }
   ],
   "source": [
    "#'Would you feel comfortable discussing a mental health disorder with your coworkers?'\n",
    "df_2016.coworkers.unique ()"
   ]
  },
  {
   "cell_type": "code",
   "execution_count": 407,
   "metadata": {},
   "outputs": [],
   "source": [
    "df_2016['coworkers'] = df_2016['coworkers'].fillna('Maybe')\n",
    "#df_2016.discuss_mental_health_coworkers.unique ()"
   ]
  },
  {
   "cell_type": "code",
   "execution_count": 408,
   "metadata": {},
   "outputs": [
    {
     "data": {
      "image/png": "[encoded data removed]",
      "text/plain": [
       "<Figure size 600x400 with 1 Axes>"
      ]
     },
     "metadata": {},
     "output_type": "display_data"
    }
   ],
   "source": [
    "# Count the occurrences\n",
    "count_df = df_2016.groupby(['sex', 'coworkers']).size().reset_index(name='Count')\n",
    "\n",
    "# Plotting the data\n",
    "plt.figure(figsize=(6,4))\n",
    "sns.barplot(x='sex', y='Count', hue='coworkers', data=count_df, palette='viridis')\n",
    "#(kind='barh', stacked=False, figsize=(8,4), colormap='tab10')\n",
    "plt.title('Distribution of Discussing Mental Health with Coworkers by Sex')\n",
    "plt.xlabel('Sex')\n",
    "#plt.ylabel('Number of People')\n",
    "#new_labels = ['Not Discuss', 'Discuss']\n",
    "plt.legend(title='Discuss Mental Health')\n",
    "plt.show()"
   ]
  },
  {
   "cell_type": "code",
   "execution_count": 409,
   "metadata": {},
   "outputs": [],
   "source": [
    "#4. Hypothesis: Employees with a family history of mental illness are more likely to have sought treatment for mental health issues.\n",
    "\n",
    "#df_2016.family_mental_health_history.unique()\n",
    "#df_2016.sought_mental_health_treatment.unique ()\n",
    "#df_2016.past_mental_health.unique ()\n",
    "#df_2016.current_mental_health.unique ()"
   ]
  },
  {
   "cell_type": "code",
   "execution_count": 410,
   "metadata": {},
   "outputs": [
    {
     "data": {
      "image/png": "[encoded data removed]",
      "text/plain": [
       "<Figure size 800x500 with 1 Axes>"
      ]
     },
     "metadata": {},
     "output_type": "display_data"
    }
   ],
   "source": [
    "#grouped_data = df_2016.groupby('family_mental_health_history')['sought_mental_health_treatment', 'past_mental_health_count'].sum()\n",
    "grouped_data = df_2016.groupby('family_history')['sought_treatment'].sum()\n",
    "\n",
    "# Plotting the bar chart\n",
    "grouped_data.plot(kind='bar', color=['blue'], figsize=(8, 5))\n",
    "\n",
    "# Adding titles and labels\n",
    "plt.title('Count of Individuals Who Sought Mental Health Treatment')\n",
    "plt.xlabel('Family Mental Health History')\n",
    "plt.ylabel('Count of Treatment Seekers')\n",
    "plt.xticks(rotation=0)  # Keep x labels horizontal\n",
    "\n",
    "# Show plot\n",
    "plt.tight_layout()\n",
    "plt.show()"
   ]
  },
  {
   "cell_type": "code",
   "execution_count": 411,
   "metadata": {},
   "outputs": [
    {
     "data": {
      "text/plain": [
       "array(['Anxiety Disorder (Generalized, Social, Phobia, etc)',\n",
       "       'Anxiety Disorder (Generalized, Social, Phobia, etc)|Mood Disorder (Depression, Bipolar Disorder, etc)',\n",
       "       nan,\n",
       "       'Anxiety Disorder (Generalized, Social, Phobia, etc)|Substance Use Disorder',\n",
       "       'Mood Disorder (Depression, Bipolar Disorder, etc)',\n",
       "       'Anxiety Disorder (Generalized, Social, Phobia, etc)|Obsessive-Compulsive Disorder',\n",
       "       'Mood Disorder (Depression, Bipolar Disorder, etc)|Attention Deficit Hyperactivity Disorder|Post-traumatic Stress Disorder',\n",
       "       'Anxiety Disorder (Generalized, Social, Phobia, etc)|Mood Disorder (Depression, Bipolar Disorder, etc)|Substance Use Disorder|Addictive Disorder',\n",
       "       'Anxiety Disorder (Generalized, Social, Phobia, etc)|Attention Deficit Hyperactivity Disorder',\n",
       "       'Mood Disorder (Depression, Bipolar Disorder, etc)|Attention Deficit Hyperactivity Disorder',\n",
       "       'Anxiety Disorder (Generalized, Social, Phobia, etc)|Mood Disorder (Depression, Bipolar Disorder, etc)|Attention Deficit Hyperactivity Disorder',\n",
       "       'Mood Disorder (Depression, Bipolar Disorder, etc)|Eating Disorder (Anorexia, Bulimia, etc)|Obsessive-Compulsive Disorder',\n",
       "       'Attention Deficit Hyperactivity Disorder|PDD-NOS (see above)',\n",
       "       'Seasonal Affective Disorder', 'Burn out',\n",
       "       'Anxiety Disorder (Generalized, Social, Phobia, etc)|Mood Disorder (Depression, Bipolar Disorder, etc)|Obsessive-Compulsive Disorder',\n",
       "       'PDD-NOS',\n",
       "       'Mood Disorder (Depression, Bipolar Disorder, etc)|Suicidal Ideation',\n",
       "       'Attention Deficit Hyperactivity Disorder', 'Depression',\n",
       "       'Anxiety Disorder (Generalized, Social, Phobia, etc)|Mood Disorder (Depression, Bipolar Disorder, etc)|Attention Deficit Hyperactivity Disorder|Substance Use Disorder',\n",
       "       'Anxiety Disorder (Generalized, Social, Phobia, etc)|Mood Disorder (Depression, Bipolar Disorder, etc)|Personality Disorder (Borderline, Antisocial, Paranoid, etc)|Stress Response Syndromes',\n",
       "       'Anxiety Disorder (Generalized, Social, Phobia, etc)|Mood Disorder (Depression, Bipolar Disorder, etc)|Attention Deficit Hyperactivity Disorder|Personality Disorder (Borderline, Antisocial, Paranoid, etc)',\n",
       "       'Substance Use Disorder',\n",
       "       'Addictive Disorder|Substance Use Disorder|Anxiety Disorder (Generalized, Social, Phobia, etc)|Mood Disorder (Depression, Bipolar Disorder, etc)|Personality Disorder (Borderline, Antisocial, Paranoid, etc)|Post-traumatic Stress Disorder',\n",
       "       'Anxiety Disorder (Generalized, Social, Phobia, etc)|Stress Response Syndromes',\n",
       "       'Stress Response Syndromes',\n",
       "       'Anxiety Disorder (Generalized, Social, Phobia, etc)|Mood Disorder (Depression, Bipolar Disorder, etc)|Post-traumatic Stress Disorder',\n",
       "       'Mood Disorder (Depression, Bipolar Disorder, etc)|Personality Disorder (Borderline, Antisocial, Paranoid, etc)|Post-traumatic Stress Disorder',\n",
       "       'Mood Disorder (Depression, Bipolar Disorder, etc)|Eating Disorder (Anorexia, Bulimia, etc)|Attention Deficit Hyperactivity Disorder|Personality Disorder (Borderline, Antisocial, Paranoid, etc)|Dissociative Disorder',\n",
       "       'Anxiety Disorder (Generalized, Social, Phobia, etc)|Mood Disorder (Depression, Bipolar Disorder, etc)|Eating Disorder (Anorexia, Bulimia, etc)|Personality Disorder (Borderline, Antisocial, Paranoid, etc)|Post-traumatic Stress Disorder',\n",
       "       'Anxiety Disorder (Generalized, Social, Phobia, etc)|Mood Disorder (Depression, Bipolar Disorder, etc)|Substance Use Disorder',\n",
       "       'Anxiety Disorder (Generalized, Social, Phobia, etc)|Post-traumatic Stress Disorder',\n",
       "       'Anxiety Disorder (Generalized, Social, Phobia, etc)|Mood Disorder (Depression, Bipolar Disorder, etc)|Attention Deficit Hyperactivity Disorder|Post-traumatic Stress Disorder|Substance Use Disorder',\n",
       "       'Anxiety Disorder (Generalized, Social, Phobia, etc)|Mood Disorder (Depression, Bipolar Disorder, etc)|Eating Disorder (Anorexia, Bulimia, etc)|Personality Disorder (Borderline, Antisocial, Paranoid, etc)|Obsessive-Compulsive Disorder',\n",
       "       'Anxiety Disorder (Generalized, Social, Phobia, etc)|Mood Disorder (Depression, Bipolar Disorder, etc)|Stress Response Syndromes',\n",
       "       \"Autism (Asperger's)\",\n",
       "       'Anxiety Disorder (Generalized, Social, Phobia, etc)|Obsessive-Compulsive Disorder|Post-traumatic Stress Disorder',\n",
       "       'Anxiety Disorder (Generalized, Social, Phobia, etc)|Mood Disorder (Depression, Bipolar Disorder, etc)|Eating Disorder (Anorexia, Bulimia, etc)',\n",
       "       'Anxiety Disorder (Generalized, Social, Phobia, etc)|Mood Disorder (Depression, Bipolar Disorder, etc)|Attention Deficit Hyperactivity Disorder|Post-traumatic Stress Disorder',\n",
       "       'Anxiety Disorder (Generalized, Social, Phobia, etc)|Mood Disorder (Depression, Bipolar Disorder, etc)|Eating Disorder (Anorexia, Bulimia, etc)|Attention Deficit Hyperactivity Disorder',\n",
       "       'Mood Disorder (Depression, Bipolar Disorder, etc)|Stress Response Syndromes',\n",
       "       'Anxiety Disorder (Generalized, Social, Phobia, etc)|Mood Disorder (Depression, Bipolar Disorder, etc)|Attention Deficit Hyperactivity Disorder|Obsessive-Compulsive Disorder|Post-traumatic Stress Disorder',\n",
       "       'Anxiety Disorder (Generalized, Social, Phobia, etc)|Mood Disorder (Depression, Bipolar Disorder, etc)|Personality Disorder (Borderline, Antisocial, Paranoid, etc)',\n",
       "       'Anxiety Disorder (Generalized, Social, Phobia, etc)|Personality Disorder (Borderline, Antisocial, Paranoid, etc)|Obsessive-Compulsive Disorder',\n",
       "       'Mood Disorder (Depression, Bipolar Disorder, etc)|Gender Dysphoria',\n",
       "       'Mood Disorder (Depression, Bipolar Disorder, etc)|Post-traumatic Stress Disorder|Substance Use Disorder',\n",
       "       'Mood Disorder (Depression, Bipolar Disorder, etc)|Personality Disorder (Borderline, Antisocial, Paranoid, etc)',\n",
       "       'Obsessive-Compulsive Disorder', 'Post-traumatic Stress Disorder',\n",
       "       'Anxiety Disorder (Generalized, Social, Phobia, etc)|Eating Disorder (Anorexia, Bulimia, etc)',\n",
       "       'Anxiety Disorder (Generalized, Social, Phobia, etc)|Mood Disorder (Depression, Bipolar Disorder, etc)|Personality Disorder (Borderline, Antisocial, Paranoid, etc)|Post-traumatic Stress Disorder',\n",
       "       'Substance Use Disorder|Addictive Disorder',\n",
       "       'Anxiety Disorder (Generalized, Social, Phobia, etc)|Personality Disorder (Borderline, Antisocial, Paranoid, etc)',\n",
       "       'Stress Response Syndromes|Mood Disorder (Depression, Bipolar Disorder, etc)',\n",
       "       'Psychotic Disorder (Schizophrenia, Schizoaffective, etc)',\n",
       "       'Anxiety Disorder (Generalized, Social, Phobia, etc)|Mood Disorder (Depression, Bipolar Disorder, etc)|Obsessive-Compulsive Disorder|Post-traumatic Stress Disorder|Stress Response Syndromes',\n",
       "       'Anxiety Disorder (Generalized, Social, Phobia, etc)|Mood Disorder (Depression, Bipolar Disorder, etc)|Post-traumatic Stress Disorder|Stress Response Syndromes',\n",
       "       'Eating Disorder (Anorexia, Bulimia, etc)|Attention Deficit Hyperactivity Disorder|Post-traumatic Stress Disorder|Substance Use Disorder|Addictive Disorder',\n",
       "       'Substance Use Disorder|Anxiety Disorder (Generalized, Social, Phobia, etc)',\n",
       "       'Anxiety Disorder (Generalized, Social, Phobia, etc)|Mood Disorder (Depression, Bipolar Disorder, etc)|Obsessive-Compulsive Disorder|Post-traumatic Stress Disorder',\n",
       "       'Anxiety Disorder (Generalized, Social, Phobia, etc)|Mood Disorder (Depression, Bipolar Disorder, etc)|Personality Disorder (Borderline, Antisocial, Paranoid, etc)|Post-traumatic Stress Disorder|Stress Response Syndromes|Substance Use Disorder|Addictive Disorder',\n",
       "       'Mood Disorder (Depression, Bipolar Disorder, etc)|Post-traumatic Stress Disorder',\n",
       "       'Mood Disorder (Depression, Bipolar Disorder, etc)|Attention Deficit Hyperactivity Disorder|Obsessive-Compulsive Disorder|Addictive Disorder',\n",
       "       'Anxiety Disorder (Generalized, Social, Phobia, etc)|Post-traumatic Stress Disorder|Stress Response Syndromes',\n",
       "       'Anxiety Disorder (Generalized, Social, Phobia, etc)|Mood Disorder (Depression, Bipolar Disorder, etc)|Attention Deficit Hyperactivity Disorder|Obsessive-Compulsive Disorder|Post-traumatic Stress Disorder|Substance Use Disorder',\n",
       "       'Autism - while not a \"mental illness\", still greatly affects how I handle anxiety',\n",
       "       'Obsessive-Compulsive Disorder|Substance Use Disorder',\n",
       "       'Mood Disorder (Depression, Bipolar Disorder, etc)|Attention Deficit Disorder',\n",
       "       'Post-traumatic Stress Disorder|Personality Disorder (Borderline, Antisocial, Paranoid, etc)',\n",
       "       'Substance Use Disorder|Mood Disorder (Depression, Bipolar Disorder, etc)',\n",
       "       'Mood Disorder (Depression, Bipolar Disorder, etc)|Post-traumatic Stress Disorder|Addictive Disorder',\n",
       "       'Mood Disorder (Depression, Bipolar Disorder, etc)|Anxiety Disorder (Generalized, Social, Phobia, etc)',\n",
       "       'Attention Deficit Hyperactivity Disorder|MCD (when it was diagnosed, the ultra-mega \"disorder\" ADHD didn\\'t exist yet)',\n",
       "       'Anxiety Disorder (Generalized, Social, Phobia, etc)|Mood Disorder (Depression, Bipolar Disorder, etc)|Dissociative Disorder',\n",
       "       'Mood Disorder (Depression, Bipolar Disorder, etc)|Addictive Disorder',\n",
       "       'attention deficit disorder (but not the hyperactive version)',\n",
       "       'Mood Disorder (Depression, Bipolar Disorder, etc)|Attention Deficit Hyperactivity Disorder|Post-traumatic Stress Disorder|Substance Use Disorder',\n",
       "       'Attention Deficit Hyperactivity Disorder|Mood Disorder (Depression, Bipolar Disorder, etc)',\n",
       "       'Mood Disorder (Depression, Bipolar Disorder, etc)|Attention Deficit Hyperactivity Disorder|Aspergers',\n",
       "       'Personality Disorder (Borderline, Antisocial, Paranoid, etc)',\n",
       "       'Attention Deficit Hyperactivity Disorder|Post-traumatic Stress Disorder|Substance Use Disorder',\n",
       "       'Mood Disorder (Depression, Bipolar Disorder, etc)|Post-traumatic Stress Disorder|Dissociative Disorder',\n",
       "       'Anxiety Disorder (Generalized, Social, Phobia, etc)|Mood Disorder (Depression, Bipolar Disorder, etc)|Personality Disorder (Borderline, Antisocial, Paranoid, etc)|Obsessive-Compulsive Disorder',\n",
       "       'Anxiety Disorder (Generalized, Social, Phobia, etc)|Attention Deficit Hyperactivity Disorder|Post-traumatic Stress Disorder',\n",
       "       'Mood Disorder (Depression, Bipolar Disorder, etc)|Substance Use Disorder|Addictive Disorder',\n",
       "       'Stress Response Syndromes|Mood Disorder (Depression, Bipolar Disorder, etc)|Anxiety Disorder (Generalized, Social, Phobia, etc)',\n",
       "       'Autism Spectrum Disorder',\n",
       "       'Anxiety Disorder (Generalized, Social, Phobia, etc)|Mood Disorder (Depression, Bipolar Disorder, etc)|Personality Disorder (Borderline, Antisocial, Paranoid, etc)|Obsessive-Compulsive Disorder|Addictive Disorder',\n",
       "       'Asperger Syndrome',\n",
       "       'Anxiety Disorder (Generalized, Social, Phobia, etc)|Mood Disorder (Depression, Bipolar Disorder, etc)|Psychotic Disorder (Schizophrenia, Schizoaffective, etc)|Dissociative Disorder|Autism',\n",
       "       'Mood Disorder (Depression, Bipolar Disorder, etc)|Eating Disorder (Anorexia, Bulimia, etc)|Attention Deficit Hyperactivity Disorder|Personality Disorder (Borderline, Antisocial, Paranoid, etc)',\n",
       "       'Mood Disorder (Depression, Bipolar Disorder, etc)|Intimate Disorder',\n",
       "       'Mood Disorder (Depression, Bipolar Disorder, etc)|Eating Disorder (Anorexia, Bulimia, etc)',\n",
       "       'Mood Disorder (Depression, Bipolar Disorder, etc)|Psychotic Disorder (Schizophrenia, Schizoaffective, etc)|Obsessive-Compulsive Disorder|Post-traumatic Stress Disorder|Substance Use Disorder',\n",
       "       'Anxiety Disorder (Generalized, Social, Phobia, etc)|Mood Disorder (Depression, Bipolar Disorder, etc)|Eating Disorder (Anorexia, Bulimia, etc)|Attention Deficit Hyperactivity Disorder|Post-traumatic Stress Disorder',\n",
       "       'Mood Disorder (Depression, Bipolar Disorder, etc)|Substance Use Disorder',\n",
       "       'Anxiety Disorder (Generalized, Social, Phobia, etc)|Mood Disorder (Depression, Bipolar Disorder, etc)|Post-traumatic Stress Disorder|Substance Use Disorder',\n",
       "       'Anxiety Disorder (Generalized, Social, Phobia, etc)|Mood Disorder (Depression, Bipolar Disorder, etc)|Attention Deficit Hyperactivity Disorder|Obsessive-Compulsive Disorder',\n",
       "       'Anxiety Disorder (Generalized, Social, Phobia, etc)|Personality Disorder (Borderline, Antisocial, Paranoid, etc)|Dissociative Disorder',\n",
       "       'ADD (w/o Hyperactivity)',\n",
       "       'Addictive Disorder|Anxiety Disorder (Generalized, Social, Phobia, etc)|Mood Disorder (Depression, Bipolar Disorder, etc)|Eating Disorder (Anorexia, Bulimia, etc)|Attention Deficit Hyperactivity Disorder|Obsessive-Compulsive Disorder|Post-traumatic Stress Disorder|Dissociative Disorder',\n",
       "       'Eating Disorder (Anorexia, Bulimia, etc)',\n",
       "       'Schizotypal Personality Disorder', 'autism spectrum disorder'],\n",
       "      dtype=object)"
      ]
     },
     "execution_count": 411,
     "metadata": {},
     "output_type": "execute_result"
    }
   ],
   "source": [
    "df_2016.diagnosed_conditions_detail.unique ()"
   ]
  },
  {
   "cell_type": "code",
   "execution_count": 412,
   "metadata": {},
   "outputs": [
    {
     "name": "stdout",
     "output_type": "stream",
     "text": [
      "Mood Disorder (Depression, Bipolar Disorder, etc)                                    487\n",
      "Anxiety Disorder (Generalized, Social, Phobia, etc)                                  348\n",
      "Attention Deficit Hyperactivity Disorder                                             123\n",
      "Post-traumatic Stress Disorder                                                        63\n",
      "Obsessive-Compulsive Disorder                                                         36\n",
      "Stress Response Syndromes                                                             27\n",
      "Personality Disorder (Borderline, Antisocial, Paranoid, etc)                          25\n",
      "Substance Use Disorder                                                                24\n",
      "Eating Disorder (Anorexia, Bulimia, etc)                                              16\n",
      "Addictive Disorder                                                                    13\n",
      "Psychotic Disorder (Schizophrenia, Schizoaffective, etc)                               8\n",
      "Dissociative Disorder                                                                  7\n",
      "Depression                                                                             3\n",
      "Suicidal Ideation                                                                      1\n",
      "Schizotypal Personality Disorder                                                       1\n",
      "ADD (w/o Hyperactivity)                                                                1\n",
      "Intimate Disorder                                                                      1\n",
      "Autism                                                                                 1\n",
      "Asperger Syndrome                                                                      1\n",
      "Autism Spectrum Disorder                                                               1\n",
      "Aspergers                                                                              1\n",
      "attention deficit disorder (but not the hyperactive version)                           1\n",
      "MCD (when it was diagnosed, the ultra-mega \"disorder\" ADHD didn't exist yet)           1\n",
      "Attention Deficit Disorder                                                             1\n",
      "Autism - while not a \"mental illness\", still greatly affects how I handle anxiety      1\n",
      "PDD-NOS (see above)                                                                    1\n",
      "Gender Dysphoria                                                                       1\n",
      "Autism (Asperger's)                                                                    1\n",
      "Seasonal Affective Disorder                                                            1\n",
      "Burn out                                                                               1\n",
      "PDD-NOS                                                                                1\n",
      "autism spectrum disorder                                                               1\n",
      "Name: count, dtype: int64\n"
     ]
    }
   ],
   "source": [
    "# Convert the array to a pandas DataFrame\n",
    "df_2016_new = pd.DataFrame(df_2016, columns=['diagnosed_conditions_detail'])\n",
    "\n",
    "# Drop or fill NaN values\n",
    "df_2016_new.dropna(inplace=True)  # Dropping rows with NaN values\n",
    "\n",
    "# Split the conditions and count occurrences\n",
    "split_conditions = df_2016_new['diagnosed_conditions_detail'].str.split('|', expand=True).stack().str.strip()\n",
    "\n",
    "# Count the occurrences of each condition\n",
    "condition_counts = split_conditions.value_counts()\n",
    "\n",
    "print(condition_counts)"
   ]
  },
  {
   "cell_type": "code",
   "execution_count": 413,
   "metadata": {},
   "outputs": [
    {
     "name": "stderr",
     "output_type": "stream",
     "text": [
      "C:\\Users\\lored\\AppData\\Local\\Temp\\ipykernel_14936\\2775593692.py:10: FutureWarning: \n",
      "\n",
      "Passing `palette` without assigning `hue` is deprecated and will be removed in v0.14.0. Assign the `y` variable to `hue` and set `legend=False` for the same effect.\n",
      "\n",
      "  sns.barplot(y=condition_counts.index, x=condition_counts.values, palette='viridis')\n"
     ]
    },
    {
     "data": {
      "image/png": "[encoded data removed]",
      "text/plain": [
       "<Figure size 1000x400 with 1 Axes>"
      ]
     },
     "metadata": {},
     "output_type": "display_data"
    }
   ],
   "source": [
    "# Split conditions and expand the DataFrame\n",
    "split_conditions = df_remote['diagnosed_conditions_detail'].str.split('|', expand=True).stack().str.strip().reset_index(level=1, drop=True)\n",
    "df_expanded_remote = df_remote.drop('diagnosed_conditions_detail', axis=1).join(split_conditions.rename('Condition'))\n",
    "\n",
    "# Count occurrences of each condition\n",
    "condition_counts = df_expanded_remote['Condition'].value_counts().head(10)\n",
    "\n",
    "# Plotting the data with horizontal bars\n",
    "plt.figure(figsize=(10,4))\n",
    "sns.barplot(y=condition_counts.index, x=condition_counts.values, palette='viridis')\n",
    "plt.yticks(rotation=0)  # Keep y-axis labels horizontal\n",
    "plt.title('Top 10 Mental Health Conditions Among Remote Workers')\n",
    "plt.xlabel('Count')\n",
    "plt.ylabel('Condition')\n",
    "plt.tight_layout()\n",
    "\n",
    "# Show the plot\n",
    "plt.show()"
   ]
  },
  {
   "cell_type": "code",
   "execution_count": 424,
   "metadata": {},
   "outputs": [
    {
     "data": {
      "image/png": "[encoded data removed]",
      "text/plain": [
       "<Figure size 800x400 with 1 Axes>"
      ]
     },
     "metadata": {},
     "output_type": "display_data"
    }
   ],
   "source": [
    "# Drop rows with NaN conditions\n",
    "df_2016.dropna(subset=['diagnosed_conditions_detail'], inplace=True)\n",
    "\n",
    "# Filter for people who \"always\" work remotely\n",
    "df_remote = df_2016[df_2016['remote_work'] == 'Always']\n",
    "\n",
    "# Split conditions and expand the DataFrame\n",
    "split_conditions = df_remote['diagnosed_conditions_detail'].str.split('|', expand=True).stack().str.strip().reset_index(level=1, drop=True)\n",
    "df_expanded_remote = df_remote.drop('diagnosed_conditions_detail', axis=1).join(split_conditions.rename('Condition'))\n",
    "\n",
    "# Count occurrences of each condition by sex\n",
    "condition_sex_counts = df_expanded_remote.groupby(['Condition', 'sex']).size().unstack(fill_value=0)\n",
    "\n",
    "# Get the top 10 conditions\n",
    "top_conditions = condition_sex_counts.sum(axis=1).nlargest(10).index\n",
    "condition_sex_counts_top10 = condition_sex_counts.loc[top_conditions]\n",
    "\n",
    "# Plotting the data\n",
    "#\n",
    "#condition_sex_counts_top10.plot(kind='bar', stacked=False, figsize=(14, 8), colormap='viridis')\n",
    "\n",
    "# Plotting the data with horizontal bars\n",
    "ax = condition_sex_counts_top10.plot(kind='barh', stacked=False, figsize=(8,4), colormap='tab10')\n",
    "\n",
    "plt.title('Top 10 Mental Health Conditions Among Remote Workers, Separated by Sex')\n",
    "#plt.xlabel('Count')\n",
    "#plt.ylabel('Condition')\n",
    "plt.legend(title='Sex')\n",
    "plt.tight_layout()\n",
    "\n",
    "# Show the plot\n",
    "plt.show()"
   ]
  },
  {
   "cell_type": "code",
   "execution_count": 415,
   "metadata": {},
   "outputs": [
    {
     "data": {
      "text/plain": [
       "coworkers\n",
       "Maybe    354\n",
       "No       179\n",
       "Yes      127\n",
       "Name: count, dtype: int64"
      ]
     },
     "execution_count": 415,
     "metadata": {},
     "output_type": "execute_result"
    }
   ],
   "source": [
    "df_2016.coworkers.value_counts ()"
   ]
  },
  {
   "cell_type": "code",
   "execution_count": 422,
   "metadata": {},
   "outputs": [
    {
     "ename": "IntCastingNaNError",
     "evalue": "Cannot convert non-finite values (NA or inf) to integer",
     "output_type": "error",
     "traceback": [
      "\u001b[1;31m---------------------------------------------------------------------------\u001b[0m",
      "\u001b[1;31mIntCastingNaNError\u001b[0m                        Traceback (most recent call last)",
      "Cell \u001b[1;32mIn[422], line 13\u001b[0m\n\u001b[0;32m     11\u001b[0m \u001b[38;5;66;03m#count_df = df_2016.groupby(['sex', 'coworkers']).size().reset_index(name='Count')\u001b[39;00m\n\u001b[0;32m     12\u001b[0m total_per_sex \u001b[38;5;241m=\u001b[39m df_2016\u001b[38;5;241m.\u001b[39mgroupby(\u001b[38;5;124m\"\u001b[39m\u001b[38;5;124msex\u001b[39m\u001b[38;5;124m\"\u001b[39m)[\u001b[38;5;124m\"\u001b[39m\u001b[38;5;124mcoworkers\u001b[39m\u001b[38;5;124m\"\u001b[39m]\u001b[38;5;241m.\u001b[39mcount()\n\u001b[1;32m---> 13\u001b[0m percentage_diagnosed \u001b[38;5;241m=\u001b[39m \u001b[43m(\u001b[49m\u001b[43mcount_df\u001b[49m\u001b[43m \u001b[49m\u001b[38;5;241;43m/\u001b[39;49m\u001b[43m \u001b[49m\u001b[43mtotal_per_sex\u001b[49m\u001b[43m \u001b[49m\u001b[38;5;241;43m*\u001b[39;49m\u001b[43m \u001b[49m\u001b[38;5;241;43m100\u001b[39;49m\u001b[43m)\u001b[49m\u001b[38;5;241;43m.\u001b[39;49m\u001b[43mround\u001b[49m\u001b[43m(\u001b[49m\u001b[38;5;241;43m0\u001b[39;49m\u001b[43m)\u001b[49m\u001b[38;5;241;43m.\u001b[39;49m\u001b[43mastype\u001b[49m\u001b[43m(\u001b[49m\u001b[38;5;28;43mint\u001b[39;49m\u001b[43m)\u001b[49m\n\u001b[0;32m     14\u001b[0m \u001b[38;5;28mprint\u001b[39m(percentage_diagnosed)\n\u001b[0;32m     16\u001b[0m \u001b[38;5;66;03m# Plotting the data\u001b[39;00m\n",
      "File \u001b[1;32mc:\\Users\\lored\\miniconda3\\Lib\\site-packages\\pandas\\core\\generic.py:6643\u001b[0m, in \u001b[0;36mNDFrame.astype\u001b[1;34m(self, dtype, copy, errors)\u001b[0m\n\u001b[0;32m   6637\u001b[0m     results \u001b[38;5;241m=\u001b[39m [\n\u001b[0;32m   6638\u001b[0m         ser\u001b[38;5;241m.\u001b[39mastype(dtype, copy\u001b[38;5;241m=\u001b[39mcopy, errors\u001b[38;5;241m=\u001b[39merrors) \u001b[38;5;28;01mfor\u001b[39;00m _, ser \u001b[38;5;129;01min\u001b[39;00m \u001b[38;5;28mself\u001b[39m\u001b[38;5;241m.\u001b[39mitems()\n\u001b[0;32m   6639\u001b[0m     ]\n\u001b[0;32m   6641\u001b[0m \u001b[38;5;28;01melse\u001b[39;00m:\n\u001b[0;32m   6642\u001b[0m     \u001b[38;5;66;03m# else, only a single dtype is given\u001b[39;00m\n\u001b[1;32m-> 6643\u001b[0m     new_data \u001b[38;5;241m=\u001b[39m \u001b[38;5;28;43mself\u001b[39;49m\u001b[38;5;241;43m.\u001b[39;49m\u001b[43m_mgr\u001b[49m\u001b[38;5;241;43m.\u001b[39;49m\u001b[43mastype\u001b[49m\u001b[43m(\u001b[49m\u001b[43mdtype\u001b[49m\u001b[38;5;241;43m=\u001b[39;49m\u001b[43mdtype\u001b[49m\u001b[43m,\u001b[49m\u001b[43m \u001b[49m\u001b[43mcopy\u001b[49m\u001b[38;5;241;43m=\u001b[39;49m\u001b[43mcopy\u001b[49m\u001b[43m,\u001b[49m\u001b[43m \u001b[49m\u001b[43merrors\u001b[49m\u001b[38;5;241;43m=\u001b[39;49m\u001b[43merrors\u001b[49m\u001b[43m)\u001b[49m\n\u001b[0;32m   6644\u001b[0m     res \u001b[38;5;241m=\u001b[39m \u001b[38;5;28mself\u001b[39m\u001b[38;5;241m.\u001b[39m_constructor_from_mgr(new_data, axes\u001b[38;5;241m=\u001b[39mnew_data\u001b[38;5;241m.\u001b[39maxes)\n\u001b[0;32m   6645\u001b[0m     \u001b[38;5;28;01mreturn\u001b[39;00m res\u001b[38;5;241m.\u001b[39m__finalize__(\u001b[38;5;28mself\u001b[39m, method\u001b[38;5;241m=\u001b[39m\u001b[38;5;124m\"\u001b[39m\u001b[38;5;124mastype\u001b[39m\u001b[38;5;124m\"\u001b[39m)\n",
      "File \u001b[1;32mc:\\Users\\lored\\miniconda3\\Lib\\site-packages\\pandas\\core\\internals\\managers.py:430\u001b[0m, in \u001b[0;36mBaseBlockManager.astype\u001b[1;34m(self, dtype, copy, errors)\u001b[0m\n\u001b[0;32m    427\u001b[0m \u001b[38;5;28;01melif\u001b[39;00m using_copy_on_write():\n\u001b[0;32m    428\u001b[0m     copy \u001b[38;5;241m=\u001b[39m \u001b[38;5;28;01mFalse\u001b[39;00m\n\u001b[1;32m--> 430\u001b[0m \u001b[38;5;28;01mreturn\u001b[39;00m \u001b[38;5;28;43mself\u001b[39;49m\u001b[38;5;241;43m.\u001b[39;49m\u001b[43mapply\u001b[49m\u001b[43m(\u001b[49m\n\u001b[0;32m    431\u001b[0m \u001b[43m    \u001b[49m\u001b[38;5;124;43m\"\u001b[39;49m\u001b[38;5;124;43mastype\u001b[39;49m\u001b[38;5;124;43m\"\u001b[39;49m\u001b[43m,\u001b[49m\n\u001b[0;32m    432\u001b[0m \u001b[43m    \u001b[49m\u001b[43mdtype\u001b[49m\u001b[38;5;241;43m=\u001b[39;49m\u001b[43mdtype\u001b[49m\u001b[43m,\u001b[49m\n\u001b[0;32m    433\u001b[0m \u001b[43m    \u001b[49m\u001b[43mcopy\u001b[49m\u001b[38;5;241;43m=\u001b[39;49m\u001b[43mcopy\u001b[49m\u001b[43m,\u001b[49m\n\u001b[0;32m    434\u001b[0m \u001b[43m    \u001b[49m\u001b[43merrors\u001b[49m\u001b[38;5;241;43m=\u001b[39;49m\u001b[43merrors\u001b[49m\u001b[43m,\u001b[49m\n\u001b[0;32m    435\u001b[0m \u001b[43m    \u001b[49m\u001b[43musing_cow\u001b[49m\u001b[38;5;241;43m=\u001b[39;49m\u001b[43musing_copy_on_write\u001b[49m\u001b[43m(\u001b[49m\u001b[43m)\u001b[49m\u001b[43m,\u001b[49m\n\u001b[0;32m    436\u001b[0m \u001b[43m\u001b[49m\u001b[43m)\u001b[49m\n",
      "File \u001b[1;32mc:\\Users\\lored\\miniconda3\\Lib\\site-packages\\pandas\\core\\internals\\managers.py:363\u001b[0m, in \u001b[0;36mBaseBlockManager.apply\u001b[1;34m(self, f, align_keys, **kwargs)\u001b[0m\n\u001b[0;32m    361\u001b[0m         applied \u001b[38;5;241m=\u001b[39m b\u001b[38;5;241m.\u001b[39mapply(f, \u001b[38;5;241m*\u001b[39m\u001b[38;5;241m*\u001b[39mkwargs)\n\u001b[0;32m    362\u001b[0m     \u001b[38;5;28;01melse\u001b[39;00m:\n\u001b[1;32m--> 363\u001b[0m         applied \u001b[38;5;241m=\u001b[39m \u001b[38;5;28;43mgetattr\u001b[39;49m\u001b[43m(\u001b[49m\u001b[43mb\u001b[49m\u001b[43m,\u001b[49m\u001b[43m \u001b[49m\u001b[43mf\u001b[49m\u001b[43m)\u001b[49m\u001b[43m(\u001b[49m\u001b[38;5;241;43m*\u001b[39;49m\u001b[38;5;241;43m*\u001b[39;49m\u001b[43mkwargs\u001b[49m\u001b[43m)\u001b[49m\n\u001b[0;32m    364\u001b[0m     result_blocks \u001b[38;5;241m=\u001b[39m extend_blocks(applied, result_blocks)\n\u001b[0;32m    366\u001b[0m out \u001b[38;5;241m=\u001b[39m \u001b[38;5;28mtype\u001b[39m(\u001b[38;5;28mself\u001b[39m)\u001b[38;5;241m.\u001b[39mfrom_blocks(result_blocks, \u001b[38;5;28mself\u001b[39m\u001b[38;5;241m.\u001b[39maxes)\n",
      "File \u001b[1;32mc:\\Users\\lored\\miniconda3\\Lib\\site-packages\\pandas\\core\\internals\\blocks.py:758\u001b[0m, in \u001b[0;36mBlock.astype\u001b[1;34m(self, dtype, copy, errors, using_cow, squeeze)\u001b[0m\n\u001b[0;32m    755\u001b[0m         \u001b[38;5;28;01mraise\u001b[39;00m \u001b[38;5;167;01mValueError\u001b[39;00m(\u001b[38;5;124m\"\u001b[39m\u001b[38;5;124mCan not squeeze with more than one column.\u001b[39m\u001b[38;5;124m\"\u001b[39m)\n\u001b[0;32m    756\u001b[0m     values \u001b[38;5;241m=\u001b[39m values[\u001b[38;5;241m0\u001b[39m, :]  \u001b[38;5;66;03m# type: ignore[call-overload]\u001b[39;00m\n\u001b[1;32m--> 758\u001b[0m new_values \u001b[38;5;241m=\u001b[39m \u001b[43mastype_array_safe\u001b[49m\u001b[43m(\u001b[49m\u001b[43mvalues\u001b[49m\u001b[43m,\u001b[49m\u001b[43m \u001b[49m\u001b[43mdtype\u001b[49m\u001b[43m,\u001b[49m\u001b[43m \u001b[49m\u001b[43mcopy\u001b[49m\u001b[38;5;241;43m=\u001b[39;49m\u001b[43mcopy\u001b[49m\u001b[43m,\u001b[49m\u001b[43m \u001b[49m\u001b[43merrors\u001b[49m\u001b[38;5;241;43m=\u001b[39;49m\u001b[43merrors\u001b[49m\u001b[43m)\u001b[49m\n\u001b[0;32m    760\u001b[0m new_values \u001b[38;5;241m=\u001b[39m maybe_coerce_values(new_values)\n\u001b[0;32m    762\u001b[0m refs \u001b[38;5;241m=\u001b[39m \u001b[38;5;28;01mNone\u001b[39;00m\n",
      "File \u001b[1;32mc:\\Users\\lored\\miniconda3\\Lib\\site-packages\\pandas\\core\\dtypes\\astype.py:237\u001b[0m, in \u001b[0;36mastype_array_safe\u001b[1;34m(values, dtype, copy, errors)\u001b[0m\n\u001b[0;32m    234\u001b[0m     dtype \u001b[38;5;241m=\u001b[39m dtype\u001b[38;5;241m.\u001b[39mnumpy_dtype\n\u001b[0;32m    236\u001b[0m \u001b[38;5;28;01mtry\u001b[39;00m:\n\u001b[1;32m--> 237\u001b[0m     new_values \u001b[38;5;241m=\u001b[39m \u001b[43mastype_array\u001b[49m\u001b[43m(\u001b[49m\u001b[43mvalues\u001b[49m\u001b[43m,\u001b[49m\u001b[43m \u001b[49m\u001b[43mdtype\u001b[49m\u001b[43m,\u001b[49m\u001b[43m \u001b[49m\u001b[43mcopy\u001b[49m\u001b[38;5;241;43m=\u001b[39;49m\u001b[43mcopy\u001b[49m\u001b[43m)\u001b[49m\n\u001b[0;32m    238\u001b[0m \u001b[38;5;28;01mexcept\u001b[39;00m (\u001b[38;5;167;01mValueError\u001b[39;00m, \u001b[38;5;167;01mTypeError\u001b[39;00m):\n\u001b[0;32m    239\u001b[0m     \u001b[38;5;66;03m# e.g. _astype_nansafe can fail on object-dtype of strings\u001b[39;00m\n\u001b[0;32m    240\u001b[0m     \u001b[38;5;66;03m#  trying to convert to float\u001b[39;00m\n\u001b[0;32m    241\u001b[0m     \u001b[38;5;28;01mif\u001b[39;00m errors \u001b[38;5;241m==\u001b[39m \u001b[38;5;124m\"\u001b[39m\u001b[38;5;124mignore\u001b[39m\u001b[38;5;124m\"\u001b[39m:\n",
      "File \u001b[1;32mc:\\Users\\lored\\miniconda3\\Lib\\site-packages\\pandas\\core\\dtypes\\astype.py:182\u001b[0m, in \u001b[0;36mastype_array\u001b[1;34m(values, dtype, copy)\u001b[0m\n\u001b[0;32m    179\u001b[0m     values \u001b[38;5;241m=\u001b[39m values\u001b[38;5;241m.\u001b[39mastype(dtype, copy\u001b[38;5;241m=\u001b[39mcopy)\n\u001b[0;32m    181\u001b[0m \u001b[38;5;28;01melse\u001b[39;00m:\n\u001b[1;32m--> 182\u001b[0m     values \u001b[38;5;241m=\u001b[39m \u001b[43m_astype_nansafe\u001b[49m\u001b[43m(\u001b[49m\u001b[43mvalues\u001b[49m\u001b[43m,\u001b[49m\u001b[43m \u001b[49m\u001b[43mdtype\u001b[49m\u001b[43m,\u001b[49m\u001b[43m \u001b[49m\u001b[43mcopy\u001b[49m\u001b[38;5;241;43m=\u001b[39;49m\u001b[43mcopy\u001b[49m\u001b[43m)\u001b[49m\n\u001b[0;32m    184\u001b[0m \u001b[38;5;66;03m# in pandas we don't store numpy str dtypes, so convert to object\u001b[39;00m\n\u001b[0;32m    185\u001b[0m \u001b[38;5;28;01mif\u001b[39;00m \u001b[38;5;28misinstance\u001b[39m(dtype, np\u001b[38;5;241m.\u001b[39mdtype) \u001b[38;5;129;01mand\u001b[39;00m \u001b[38;5;28missubclass\u001b[39m(values\u001b[38;5;241m.\u001b[39mdtype\u001b[38;5;241m.\u001b[39mtype, \u001b[38;5;28mstr\u001b[39m):\n",
      "File \u001b[1;32mc:\\Users\\lored\\miniconda3\\Lib\\site-packages\\pandas\\core\\dtypes\\astype.py:101\u001b[0m, in \u001b[0;36m_astype_nansafe\u001b[1;34m(arr, dtype, copy, skipna)\u001b[0m\n\u001b[0;32m     96\u001b[0m     \u001b[38;5;28;01mreturn\u001b[39;00m lib\u001b[38;5;241m.\u001b[39mensure_string_array(\n\u001b[0;32m     97\u001b[0m         arr, skipna\u001b[38;5;241m=\u001b[39mskipna, convert_na_value\u001b[38;5;241m=\u001b[39m\u001b[38;5;28;01mFalse\u001b[39;00m\n\u001b[0;32m     98\u001b[0m     )\u001b[38;5;241m.\u001b[39mreshape(shape)\n\u001b[0;32m    100\u001b[0m \u001b[38;5;28;01melif\u001b[39;00m np\u001b[38;5;241m.\u001b[39missubdtype(arr\u001b[38;5;241m.\u001b[39mdtype, np\u001b[38;5;241m.\u001b[39mfloating) \u001b[38;5;129;01mand\u001b[39;00m dtype\u001b[38;5;241m.\u001b[39mkind \u001b[38;5;129;01min\u001b[39;00m \u001b[38;5;124m\"\u001b[39m\u001b[38;5;124miu\u001b[39m\u001b[38;5;124m\"\u001b[39m:\n\u001b[1;32m--> 101\u001b[0m     \u001b[38;5;28;01mreturn\u001b[39;00m \u001b[43m_astype_float_to_int_nansafe\u001b[49m\u001b[43m(\u001b[49m\u001b[43marr\u001b[49m\u001b[43m,\u001b[49m\u001b[43m \u001b[49m\u001b[43mdtype\u001b[49m\u001b[43m,\u001b[49m\u001b[43m \u001b[49m\u001b[43mcopy\u001b[49m\u001b[43m)\u001b[49m\n\u001b[0;32m    103\u001b[0m \u001b[38;5;28;01melif\u001b[39;00m arr\u001b[38;5;241m.\u001b[39mdtype \u001b[38;5;241m==\u001b[39m \u001b[38;5;28mobject\u001b[39m:\n\u001b[0;32m    104\u001b[0m     \u001b[38;5;66;03m# if we have a datetime/timedelta array of objects\u001b[39;00m\n\u001b[0;32m    105\u001b[0m     \u001b[38;5;66;03m# then coerce to datetime64[ns] and use DatetimeArray.astype\u001b[39;00m\n\u001b[0;32m    107\u001b[0m     \u001b[38;5;28;01mif\u001b[39;00m lib\u001b[38;5;241m.\u001b[39mis_np_dtype(dtype, \u001b[38;5;124m\"\u001b[39m\u001b[38;5;124mM\u001b[39m\u001b[38;5;124m\"\u001b[39m):\n",
      "File \u001b[1;32mc:\\Users\\lored\\miniconda3\\Lib\\site-packages\\pandas\\core\\dtypes\\astype.py:145\u001b[0m, in \u001b[0;36m_astype_float_to_int_nansafe\u001b[1;34m(values, dtype, copy)\u001b[0m\n\u001b[0;32m    141\u001b[0m \u001b[38;5;250m\u001b[39m\u001b[38;5;124;03m\"\"\"\u001b[39;00m\n\u001b[0;32m    142\u001b[0m \u001b[38;5;124;03mastype with a check preventing converting NaN to an meaningless integer value.\u001b[39;00m\n\u001b[0;32m    143\u001b[0m \u001b[38;5;124;03m\"\"\"\u001b[39;00m\n\u001b[0;32m    144\u001b[0m \u001b[38;5;28;01mif\u001b[39;00m \u001b[38;5;129;01mnot\u001b[39;00m np\u001b[38;5;241m.\u001b[39misfinite(values)\u001b[38;5;241m.\u001b[39mall():\n\u001b[1;32m--> 145\u001b[0m     \u001b[38;5;28;01mraise\u001b[39;00m IntCastingNaNError(\n\u001b[0;32m    146\u001b[0m         \u001b[38;5;124m\"\u001b[39m\u001b[38;5;124mCannot convert non-finite values (NA or inf) to integer\u001b[39m\u001b[38;5;124m\"\u001b[39m\n\u001b[0;32m    147\u001b[0m     )\n\u001b[0;32m    148\u001b[0m \u001b[38;5;28;01mif\u001b[39;00m dtype\u001b[38;5;241m.\u001b[39mkind \u001b[38;5;241m==\u001b[39m \u001b[38;5;124m\"\u001b[39m\u001b[38;5;124mu\u001b[39m\u001b[38;5;124m\"\u001b[39m:\n\u001b[0;32m    149\u001b[0m     \u001b[38;5;66;03m# GH#45151\u001b[39;00m\n\u001b[0;32m    150\u001b[0m     \u001b[38;5;28;01mif\u001b[39;00m \u001b[38;5;129;01mnot\u001b[39;00m (values \u001b[38;5;241m>\u001b[39m\u001b[38;5;241m=\u001b[39m \u001b[38;5;241m0\u001b[39m)\u001b[38;5;241m.\u001b[39mall():\n",
      "\u001b[1;31mIntCastingNaNError\u001b[0m: Cannot convert non-finite values (NA or inf) to integer"
     ]
    }
   ],
   "source": [
    "#grouped = df_2016.groupby([\"sex\", \"diagnosed_conditions\"])[\"diagnosed_conditions\"].count()\n",
    "# Step 2: Calculate the total count per sex\n",
    "#total_per_sex = df_2016.groupby(\"sex\")[\"diagnosed_conditions\"].count()\n",
    "# Step 3: Calculate the percentage\n",
    "#percentage_diagnosed = (grouped / total_per_sex * 100).round(0).astype(int)\n",
    "# Display the result\n",
    "#print(percentage_diagnosed)\n",
    "\n",
    "# Count the occurrences\n",
    "grouped = df_2016.groupby([\"sex\", \"coworkers\"])[\"coworkers\"].count()\n",
    "#count_df = df_2016.groupby(['sex', 'coworkers']).size().reset_index(name='Count')\n",
    "total_per_sex = df_2016.groupby(\"sex\")[\"coworkers\"].count()\n",
    "percentage_diagnosed = (count_df / total_per_sex * 100).round(0).astype(int)\n",
    "print(percentage_diagnosed)\n",
    "\n",
    "# Plotting the data\n",
    "plt.figure(figsize=(6,4))\n",
    "sns.barplot(x='sex', y='Count', hue='coworkers', data=count_df, palette='viridis')\n",
    "#(kind='barh', stacked=False, figsize=(8,4), colormap='tab10')\n",
    "plt.title('Distribution of Discussing Mental Health with Coworkers by Sex')\n",
    "plt.xlabel('Sex')\n",
    "#plt.ylabel('Number of People')\n",
    "#new_labels = ['Not Discuss', 'Discuss']\n",
    "plt.legend(title='Discuss Mental Health')\n",
    "plt.show()"
   ]
  }
 ],
 "metadata": {
  "kernelspec": {
   "display_name": "new_venv",
   "language": "python",
   "name": "new_venv"
  },
  "language_info": {
   "codemirror_mode": {
    "name": "ipython",
    "version": 3
   },
   "file_extension": ".py",
   "mimetype": "text/x-python",
   "name": "python",
   "nbconvert_exporter": "python",
   "pygments_lexer": "ipython3",
   "version": "3.12.4"
  }
 },
 "nbformat": 4,
 "nbformat_minor": 4
}
